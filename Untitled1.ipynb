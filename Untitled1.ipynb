{
 "cells": [
  {
   "cell_type": "code",
   "execution_count": 22,
   "id": "12c15727",
   "metadata": {},
   "outputs": [
    {
     "name": "stdout",
     "output_type": "stream",
     "text": [
      "(79999, 3)\n",
      "                      UserId   productId  purchase_count\n",
      "0      A00205921JHJK5X9LNP42  7806397051               1\n",
      "1      A00473363TJ8YSZ3YAGG9  B000052YQU               1\n",
      "2      A00473363TJ8YSZ3YAGG9  B00016XA0K               1\n",
      "3      A01247753D6GFZD87MUV8  B00017XN7E               1\n",
      "4      A01379141PEJ6FIH7UH38  B0001Y74WM               1\n",
      "...                      ...         ...             ...\n",
      "79994          AZZTJQ7CQZUD8  B000052YOL               1\n",
      "79995          AZZVCBG5G4EV8  B00006FRW7               1\n",
      "79996          AZZWJ3LICUEKJ  B0001KO7PI               1\n",
      "79997          AZZWPNME0GQZ2  B00005IA52               1\n",
      "79998                 UserId   ProductId               1\n",
      "\n",
      "[79999 rows x 3 columns]\n"
     ]
    }
   ],
   "source": [
    "import pandas as pd\n",
    "import numpy as np\n",
    "import time\n",
    "from sklearn.model_selection import train_test_split\n",
    "\n",
    "import sys\n",
    "sys.path.append(\"..\")\n",
    "transactions = pd.read_csv('./assets/ratings_Beauty.csv',names=['UserId','ProductId',], header=None)\n",
    "data = pd.melt(transactions.set_index('UserId')['ProductId'].apply(pd.Series).reset_index(),\n",
    "             id_vars=['UserId'],\n",
    "             value_name='ProductId') \\\n",
    "    .dropna().drop(['variable'], axis=1) \\\n",
    "    .groupby(['UserId', 'ProductId']) \\\n",
    "    .agg({'ProductId': 'count'}) \\\n",
    "    .rename(columns={'ProductId': 'purchase_count'}) \\\n",
    "    .reset_index() \\\n",
    "    .rename(columns={'ProductId': 'productId'})\n",
    "\n",
    "print(data.shape)\n",
    "print(data)"
   ]
  }
 ],
 "metadata": {
  "kernelspec": {
   "display_name": "Python 3 (ipykernel)",
   "language": "python",
   "name": "python3"
  },
  "language_info": {
   "codemirror_mode": {
    "name": "ipython",
    "version": 3
   },
   "file_extension": ".py",
   "mimetype": "text/x-python",
   "name": "python",
   "nbconvert_exporter": "python",
   "pygments_lexer": "ipython3",
   "version": "3.10.2"
  }
 },
 "nbformat": 4,
 "nbformat_minor": 5
}
