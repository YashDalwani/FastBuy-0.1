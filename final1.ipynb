{
 "cells": [
  {
   "cell_type": "code",
   "execution_count": 61,
   "metadata": {},
   "outputs": [],
   "source": [
    "\n",
    "\n",
    "import pandas as pd\n",
    "import numpy as np\n",
    "import time\n",
    "import turicreate as tc\n",
    "from sklearn.model_selection import train_test_split\n",
    "\n",
    "import sys\n",
    "sys.path.append(\"..\")"
   ]
  },
  {
   "cell_type": "code",
   "execution_count": 62,
   "metadata": {},
   "outputs": [],
   "source": [
    "customers = pd.read_csv('./assets/recommend_1.csv')\n",
    "transactions = pd.read_csv('./assets/trx_data.csv')"
   ]
  },
  {
   "cell_type": "code",
   "execution_count": 63,
   "metadata": {},
   "outputs": [
    {
     "name": "stdout",
     "output_type": "stream",
     "text": [
      "(1000, 1)\n",
      "(62483, 2)\n"
     ]
    },
    {
     "data": {
      "text/html": [
       "<div>\n",
       "<style scoped>\n",
       "    .dataframe tbody tr th:only-of-type {\n",
       "        vertical-align: middle;\n",
       "    }\n",
       "\n",
       "    .dataframe tbody tr th {\n",
       "        vertical-align: top;\n",
       "    }\n",
       "\n",
       "    .dataframe thead th {\n",
       "        text-align: right;\n",
       "    }\n",
       "</style>\n",
       "<table border=\"1\" class=\"dataframe\">\n",
       "  <thead>\n",
       "    <tr style=\"text-align: right;\">\n",
       "      <th></th>\n",
       "      <th>customerId</th>\n",
       "      <th>products</th>\n",
       "    </tr>\n",
       "  </thead>\n",
       "  <tbody>\n",
       "    <tr>\n",
       "      <th>0</th>\n",
       "      <td>0</td>\n",
       "      <td>20</td>\n",
       "    </tr>\n",
       "    <tr>\n",
       "      <th>1</th>\n",
       "      <td>1</td>\n",
       "      <td>2|2|23|68|68|111|29|86|107|152</td>\n",
       "    </tr>\n",
       "    <tr>\n",
       "      <th>2</th>\n",
       "      <td>2</td>\n",
       "      <td>111|107|29|11|11|11|33|23</td>\n",
       "    </tr>\n",
       "    <tr>\n",
       "      <th>3</th>\n",
       "      <td>3</td>\n",
       "      <td>164|227</td>\n",
       "    </tr>\n",
       "    <tr>\n",
       "      <th>4</th>\n",
       "      <td>5</td>\n",
       "      <td>2|2</td>\n",
       "    </tr>\n",
       "  </tbody>\n",
       "</table>\n",
       "</div>"
      ],
      "text/plain": [
       "   customerId                        products\n",
       "0           0                              20\n",
       "1           1  2|2|23|68|68|111|29|86|107|152\n",
       "2           2       111|107|29|11|11|11|33|23\n",
       "3           3                         164|227\n",
       "4           5                             2|2"
      ]
     },
     "execution_count": 63,
     "metadata": {},
     "output_type": "execute_result"
    }
   ],
   "source": [
    "print(customers.shape)\n",
    "customers.head()\n",
    "print(transactions.shape)\n",
    "transactions.head()"
   ]
  },
  {
   "cell_type": "code",
   "execution_count": 64,
   "metadata": {},
   "outputs": [
    {
     "data": {
      "text/html": [
       "<div>\n",
       "<style scoped>\n",
       "    .dataframe tbody tr th:only-of-type {\n",
       "        vertical-align: middle;\n",
       "    }\n",
       "\n",
       "    .dataframe tbody tr th {\n",
       "        vertical-align: top;\n",
       "    }\n",
       "\n",
       "    .dataframe thead th {\n",
       "        text-align: right;\n",
       "    }\n",
       "</style>\n",
       "<table border=\"1\" class=\"dataframe\">\n",
       "  <thead>\n",
       "    <tr style=\"text-align: right;\">\n",
       "      <th></th>\n",
       "      <th>customerId</th>\n",
       "      <th>0</th>\n",
       "      <th>1</th>\n",
       "      <th>2</th>\n",
       "      <th>3</th>\n",
       "      <th>4</th>\n",
       "      <th>5</th>\n",
       "      <th>6</th>\n",
       "      <th>7</th>\n",
       "      <th>8</th>\n",
       "      <th>9</th>\n",
       "    </tr>\n",
       "  </thead>\n",
       "  <tbody>\n",
       "    <tr>\n",
       "      <th>0</th>\n",
       "      <td>0</td>\n",
       "      <td>20.0</td>\n",
       "      <td>NaN</td>\n",
       "      <td>NaN</td>\n",
       "      <td>NaN</td>\n",
       "      <td>NaN</td>\n",
       "      <td>NaN</td>\n",
       "      <td>NaN</td>\n",
       "      <td>NaN</td>\n",
       "      <td>NaN</td>\n",
       "      <td>NaN</td>\n",
       "    </tr>\n",
       "    <tr>\n",
       "      <th>1</th>\n",
       "      <td>1</td>\n",
       "      <td>2.0</td>\n",
       "      <td>2.0</td>\n",
       "      <td>23.0</td>\n",
       "      <td>68.0</td>\n",
       "      <td>68.0</td>\n",
       "      <td>111.0</td>\n",
       "      <td>29.0</td>\n",
       "      <td>86.0</td>\n",
       "      <td>107.0</td>\n",
       "      <td>152.0</td>\n",
       "    </tr>\n",
       "  </tbody>\n",
       "</table>\n",
       "</div>"
      ],
      "text/plain": [
       "   customerId     0    1     2     3     4      5     6     7      8      9\n",
       "0           0  20.0  NaN   NaN   NaN   NaN    NaN   NaN   NaN    NaN    NaN\n",
       "1           1   2.0  2.0  23.0  68.0  68.0  111.0  29.0  86.0  107.0  152.0"
      ]
     },
     "execution_count": 64,
     "metadata": {},
     "output_type": "execute_result"
    }
   ],
   "source": [
    "transactions['products'] = transactions['products'].apply(lambda x: [int(i) for i in x.split('|')])\n",
    "transactions.head(2).set_index('customerId')['products'].apply(pd.Series).reset_index()"
   ]
  },
  {
   "cell_type": "code",
   "execution_count": 65,
   "metadata": {},
   "outputs": [
    {
     "data": {
      "text/html": [
       "<div>\n",
       "<style scoped>\n",
       "    .dataframe tbody tr th:only-of-type {\n",
       "        vertical-align: middle;\n",
       "    }\n",
       "\n",
       "    .dataframe tbody tr th {\n",
       "        vertical-align: top;\n",
       "    }\n",
       "\n",
       "    .dataframe thead th {\n",
       "        text-align: right;\n",
       "    }\n",
       "</style>\n",
       "<table border=\"1\" class=\"dataframe\">\n",
       "  <thead>\n",
       "    <tr style=\"text-align: right;\">\n",
       "      <th></th>\n",
       "      <th>customerId</th>\n",
       "      <th>productId</th>\n",
       "      <th>purchase_count</th>\n",
       "    </tr>\n",
       "  </thead>\n",
       "  <tbody>\n",
       "    <tr>\n",
       "      <th>0</th>\n",
       "      <td>0</td>\n",
       "      <td>20.0</td>\n",
       "      <td>1</td>\n",
       "    </tr>\n",
       "    <tr>\n",
       "      <th>1</th>\n",
       "      <td>1</td>\n",
       "      <td>2.0</td>\n",
       "      <td>2</td>\n",
       "    </tr>\n",
       "    <tr>\n",
       "      <th>2</th>\n",
       "      <td>1</td>\n",
       "      <td>23.0</td>\n",
       "      <td>1</td>\n",
       "    </tr>\n",
       "    <tr>\n",
       "      <th>3</th>\n",
       "      <td>1</td>\n",
       "      <td>29.0</td>\n",
       "      <td>1</td>\n",
       "    </tr>\n",
       "    <tr>\n",
       "      <th>4</th>\n",
       "      <td>1</td>\n",
       "      <td>68.0</td>\n",
       "      <td>2</td>\n",
       "    </tr>\n",
       "    <tr>\n",
       "      <th>5</th>\n",
       "      <td>1</td>\n",
       "      <td>86.0</td>\n",
       "      <td>1</td>\n",
       "    </tr>\n",
       "    <tr>\n",
       "      <th>6</th>\n",
       "      <td>1</td>\n",
       "      <td>107.0</td>\n",
       "      <td>1</td>\n",
       "    </tr>\n",
       "    <tr>\n",
       "      <th>7</th>\n",
       "      <td>1</td>\n",
       "      <td>111.0</td>\n",
       "      <td>1</td>\n",
       "    </tr>\n",
       "    <tr>\n",
       "      <th>8</th>\n",
       "      <td>1</td>\n",
       "      <td>152.0</td>\n",
       "      <td>1</td>\n",
       "    </tr>\n",
       "  </tbody>\n",
       "</table>\n",
       "</div>"
      ],
      "text/plain": [
       "   customerId  productId  purchase_count\n",
       "0           0       20.0               1\n",
       "1           1        2.0               2\n",
       "2           1       23.0               1\n",
       "3           1       29.0               1\n",
       "4           1       68.0               2\n",
       "5           1       86.0               1\n",
       "6           1      107.0               1\n",
       "7           1      111.0               1\n",
       "8           1      152.0               1"
      ]
     },
     "execution_count": 65,
     "metadata": {},
     "output_type": "execute_result"
    }
   ],
   "source": [
    "# example 2: organize a given table into a dataframe with customerId, single productId, and purchase count\n",
    "pd.melt(transactions.head(2).set_index('customerId')['products'].apply(pd.Series).reset_index(), \n",
    "             id_vars=['customerId'],\n",
    "             value_name='products') \\\n",
    "    .dropna().drop(['variable'], axis=1) \\\n",
    "    .groupby(['customerId', 'products']) \\\n",
    "    .agg({'products': 'count'}) \\\n",
    "    .rename(columns={'products': 'purchase_count'}) \\\n",
    "    .reset_index() \\\n",
    "    .rename(columns={'products': 'productId'})"
   ]
  },
  {
   "cell_type": "code",
   "execution_count": 66,
   "metadata": {},
   "outputs": [
    {
     "name": "stdout",
     "output_type": "stream",
     "text": [
      "Execution time: 0.13 minutes\n"
     ]
    }
   ],
   "source": [
    "s=time.time()\n",
    "\n",
    "data = pd.melt(transactions.set_index('customerId')['products'].apply(pd.Series).reset_index(), \n",
    "             id_vars=['customerId'],\n",
    "             value_name='products') \\\n",
    "    .dropna().drop(['variable'], axis=1) \\\n",
    "    .groupby(['customerId', 'products']) \\\n",
    "    .agg({'products': 'count'}) \\\n",
    "    .rename(columns={'products': 'purchase_count'}) \\\n",
    "    .reset_index() \\\n",
    "    .rename(columns={'products': 'productId'})\n",
    "data['productId'] = data['productId'].astype(np.int64)\n",
    "\n",
    "print(\"Execution time:\", round((time.time()-s)/60,2), \"minutes\")"
   ]
  },
  {
   "cell_type": "code",
   "execution_count": 67,
   "metadata": {},
   "outputs": [
    {
     "name": "stdout",
     "output_type": "stream",
     "text": [
      "(133585, 3)\n"
     ]
    },
    {
     "data": {
      "text/html": [
       "<div>\n",
       "<style scoped>\n",
       "    .dataframe tbody tr th:only-of-type {\n",
       "        vertical-align: middle;\n",
       "    }\n",
       "\n",
       "    .dataframe tbody tr th {\n",
       "        vertical-align: top;\n",
       "    }\n",
       "\n",
       "    .dataframe thead th {\n",
       "        text-align: right;\n",
       "    }\n",
       "</style>\n",
       "<table border=\"1\" class=\"dataframe\">\n",
       "  <thead>\n",
       "    <tr style=\"text-align: right;\">\n",
       "      <th></th>\n",
       "      <th>customerId</th>\n",
       "      <th>productId</th>\n",
       "      <th>purchase_count</th>\n",
       "    </tr>\n",
       "  </thead>\n",
       "  <tbody>\n",
       "    <tr>\n",
       "      <th>0</th>\n",
       "      <td>0</td>\n",
       "      <td>1</td>\n",
       "      <td>2</td>\n",
       "    </tr>\n",
       "    <tr>\n",
       "      <th>1</th>\n",
       "      <td>0</td>\n",
       "      <td>13</td>\n",
       "      <td>1</td>\n",
       "    </tr>\n",
       "    <tr>\n",
       "      <th>2</th>\n",
       "      <td>0</td>\n",
       "      <td>19</td>\n",
       "      <td>3</td>\n",
       "    </tr>\n",
       "    <tr>\n",
       "      <th>3</th>\n",
       "      <td>0</td>\n",
       "      <td>20</td>\n",
       "      <td>1</td>\n",
       "    </tr>\n",
       "    <tr>\n",
       "      <th>4</th>\n",
       "      <td>0</td>\n",
       "      <td>31</td>\n",
       "      <td>2</td>\n",
       "    </tr>\n",
       "  </tbody>\n",
       "</table>\n",
       "</div>"
      ],
      "text/plain": [
       "   customerId  productId  purchase_count\n",
       "0           0          1               2\n",
       "1           0         13               1\n",
       "2           0         19               3\n",
       "3           0         20               1\n",
       "4           0         31               2"
      ]
     },
     "execution_count": 67,
     "metadata": {},
     "output_type": "execute_result"
    }
   ],
   "source": [
    "print(data.shape)\n",
    "data.head()"
   ]
  },
  {
   "cell_type": "code",
   "execution_count": 68,
   "metadata": {},
   "outputs": [],
   "source": [
    "def create_data_dummy(data):\n",
    "    data_dummy = data.copy()\n",
    "    data_dummy['purchase_dummy'] = 1\n",
    "    return data_dummy\n",
    "    "
   ]
  },
  {
   "cell_type": "code",
   "execution_count": 69,
   "metadata": {},
   "outputs": [],
   "source": [
    "data_dummy = create_data_dummy(data)"
   ]
  },
  {
   "cell_type": "code",
   "execution_count": 70,
   "metadata": {},
   "outputs": [
    {
     "data": {
      "text/html": [
       "<div>\n",
       "<style scoped>\n",
       "    .dataframe tbody tr th:only-of-type {\n",
       "        vertical-align: middle;\n",
       "    }\n",
       "\n",
       "    .dataframe tbody tr th {\n",
       "        vertical-align: top;\n",
       "    }\n",
       "\n",
       "    .dataframe thead th {\n",
       "        text-align: right;\n",
       "    }\n",
       "</style>\n",
       "<table border=\"1\" class=\"dataframe\">\n",
       "  <thead>\n",
       "    <tr style=\"text-align: right;\">\n",
       "      <th>productId</th>\n",
       "      <th>0</th>\n",
       "      <th>1</th>\n",
       "      <th>2</th>\n",
       "      <th>3</th>\n",
       "      <th>4</th>\n",
       "      <th>5</th>\n",
       "      <th>6</th>\n",
       "      <th>7</th>\n",
       "      <th>8</th>\n",
       "      <th>9</th>\n",
       "      <th>...</th>\n",
       "      <th>290</th>\n",
       "      <th>291</th>\n",
       "      <th>292</th>\n",
       "      <th>293</th>\n",
       "      <th>294</th>\n",
       "      <th>295</th>\n",
       "      <th>296</th>\n",
       "      <th>297</th>\n",
       "      <th>298</th>\n",
       "      <th>299</th>\n",
       "    </tr>\n",
       "    <tr>\n",
       "      <th>customerId</th>\n",
       "      <th></th>\n",
       "      <th></th>\n",
       "      <th></th>\n",
       "      <th></th>\n",
       "      <th></th>\n",
       "      <th></th>\n",
       "      <th></th>\n",
       "      <th></th>\n",
       "      <th></th>\n",
       "      <th></th>\n",
       "      <th></th>\n",
       "      <th></th>\n",
       "      <th></th>\n",
       "      <th></th>\n",
       "      <th></th>\n",
       "      <th></th>\n",
       "      <th></th>\n",
       "      <th></th>\n",
       "      <th></th>\n",
       "      <th></th>\n",
       "      <th></th>\n",
       "    </tr>\n",
       "  </thead>\n",
       "  <tbody>\n",
       "    <tr>\n",
       "      <th>0</th>\n",
       "      <td>NaN</td>\n",
       "      <td>2.0</td>\n",
       "      <td>NaN</td>\n",
       "      <td>NaN</td>\n",
       "      <td>NaN</td>\n",
       "      <td>NaN</td>\n",
       "      <td>NaN</td>\n",
       "      <td>NaN</td>\n",
       "      <td>NaN</td>\n",
       "      <td>NaN</td>\n",
       "      <td>...</td>\n",
       "      <td>NaN</td>\n",
       "      <td>NaN</td>\n",
       "      <td>NaN</td>\n",
       "      <td>NaN</td>\n",
       "      <td>NaN</td>\n",
       "      <td>NaN</td>\n",
       "      <td>NaN</td>\n",
       "      <td>NaN</td>\n",
       "      <td>NaN</td>\n",
       "      <td>NaN</td>\n",
       "    </tr>\n",
       "    <tr>\n",
       "      <th>1</th>\n",
       "      <td>NaN</td>\n",
       "      <td>NaN</td>\n",
       "      <td>6.0</td>\n",
       "      <td>NaN</td>\n",
       "      <td>NaN</td>\n",
       "      <td>NaN</td>\n",
       "      <td>NaN</td>\n",
       "      <td>NaN</td>\n",
       "      <td>NaN</td>\n",
       "      <td>NaN</td>\n",
       "      <td>...</td>\n",
       "      <td>NaN</td>\n",
       "      <td>NaN</td>\n",
       "      <td>NaN</td>\n",
       "      <td>1.0</td>\n",
       "      <td>NaN</td>\n",
       "      <td>NaN</td>\n",
       "      <td>1.0</td>\n",
       "      <td>NaN</td>\n",
       "      <td>NaN</td>\n",
       "      <td>NaN</td>\n",
       "    </tr>\n",
       "    <tr>\n",
       "      <th>2</th>\n",
       "      <td>NaN</td>\n",
       "      <td>NaN</td>\n",
       "      <td>NaN</td>\n",
       "      <td>NaN</td>\n",
       "      <td>NaN</td>\n",
       "      <td>NaN</td>\n",
       "      <td>NaN</td>\n",
       "      <td>NaN</td>\n",
       "      <td>NaN</td>\n",
       "      <td>NaN</td>\n",
       "      <td>...</td>\n",
       "      <td>NaN</td>\n",
       "      <td>NaN</td>\n",
       "      <td>NaN</td>\n",
       "      <td>NaN</td>\n",
       "      <td>NaN</td>\n",
       "      <td>NaN</td>\n",
       "      <td>NaN</td>\n",
       "      <td>NaN</td>\n",
       "      <td>NaN</td>\n",
       "      <td>NaN</td>\n",
       "    </tr>\n",
       "    <tr>\n",
       "      <th>3</th>\n",
       "      <td>NaN</td>\n",
       "      <td>NaN</td>\n",
       "      <td>NaN</td>\n",
       "      <td>NaN</td>\n",
       "      <td>NaN</td>\n",
       "      <td>NaN</td>\n",
       "      <td>NaN</td>\n",
       "      <td>NaN</td>\n",
       "      <td>NaN</td>\n",
       "      <td>NaN</td>\n",
       "      <td>...</td>\n",
       "      <td>NaN</td>\n",
       "      <td>NaN</td>\n",
       "      <td>NaN</td>\n",
       "      <td>NaN</td>\n",
       "      <td>NaN</td>\n",
       "      <td>NaN</td>\n",
       "      <td>NaN</td>\n",
       "      <td>NaN</td>\n",
       "      <td>NaN</td>\n",
       "      <td>NaN</td>\n",
       "    </tr>\n",
       "    <tr>\n",
       "      <th>4</th>\n",
       "      <td>NaN</td>\n",
       "      <td>NaN</td>\n",
       "      <td>NaN</td>\n",
       "      <td>NaN</td>\n",
       "      <td>NaN</td>\n",
       "      <td>NaN</td>\n",
       "      <td>NaN</td>\n",
       "      <td>NaN</td>\n",
       "      <td>NaN</td>\n",
       "      <td>NaN</td>\n",
       "      <td>...</td>\n",
       "      <td>NaN</td>\n",
       "      <td>NaN</td>\n",
       "      <td>NaN</td>\n",
       "      <td>NaN</td>\n",
       "      <td>NaN</td>\n",
       "      <td>NaN</td>\n",
       "      <td>NaN</td>\n",
       "      <td>NaN</td>\n",
       "      <td>NaN</td>\n",
       "      <td>NaN</td>\n",
       "    </tr>\n",
       "  </tbody>\n",
       "</table>\n",
       "<p>5 rows × 300 columns</p>\n",
       "</div>"
      ],
      "text/plain": [
       "productId   0    1    2    3    4    5    6    7    8    9    ...  290  291  \\\n",
       "customerId                                                    ...             \n",
       "0           NaN  2.0  NaN  NaN  NaN  NaN  NaN  NaN  NaN  NaN  ...  NaN  NaN   \n",
       "1           NaN  NaN  6.0  NaN  NaN  NaN  NaN  NaN  NaN  NaN  ...  NaN  NaN   \n",
       "2           NaN  NaN  NaN  NaN  NaN  NaN  NaN  NaN  NaN  NaN  ...  NaN  NaN   \n",
       "3           NaN  NaN  NaN  NaN  NaN  NaN  NaN  NaN  NaN  NaN  ...  NaN  NaN   \n",
       "4           NaN  NaN  NaN  NaN  NaN  NaN  NaN  NaN  NaN  NaN  ...  NaN  NaN   \n",
       "\n",
       "productId   292  293  294  295  296  297  298  299  \n",
       "customerId                                          \n",
       "0           NaN  NaN  NaN  NaN  NaN  NaN  NaN  NaN  \n",
       "1           NaN  1.0  NaN  NaN  1.0  NaN  NaN  NaN  \n",
       "2           NaN  NaN  NaN  NaN  NaN  NaN  NaN  NaN  \n",
       "3           NaN  NaN  NaN  NaN  NaN  NaN  NaN  NaN  \n",
       "4           NaN  NaN  NaN  NaN  NaN  NaN  NaN  NaN  \n",
       "\n",
       "[5 rows x 300 columns]"
      ]
     },
     "execution_count": 70,
     "metadata": {},
     "output_type": "execute_result"
    }
   ],
   "source": [
    "df_matrix = pd.pivot_table(data, values='purchase_count', index='customerId', columns='productId')\n",
    "df_matrix.head()"
   ]
  },
  {
   "cell_type": "code",
   "execution_count": 71,
   "metadata": {},
   "outputs": [
    {
     "data": {
      "text/plain": [
       "(24429, 300)"
      ]
     },
     "execution_count": 71,
     "metadata": {},
     "output_type": "execute_result"
    }
   ],
   "source": [
    "(df_matrix.shape)"
   ]
  },
  {
   "cell_type": "code",
   "execution_count": 72,
   "metadata": {},
   "outputs": [
    {
     "name": "stdout",
     "output_type": "stream",
     "text": [
      "(24429, 300)\n"
     ]
    },
    {
     "data": {
      "text/html": [
       "<div>\n",
       "<style scoped>\n",
       "    .dataframe tbody tr th:only-of-type {\n",
       "        vertical-align: middle;\n",
       "    }\n",
       "\n",
       "    .dataframe tbody tr th {\n",
       "        vertical-align: top;\n",
       "    }\n",
       "\n",
       "    .dataframe thead th {\n",
       "        text-align: right;\n",
       "    }\n",
       "</style>\n",
       "<table border=\"1\" class=\"dataframe\">\n",
       "  <thead>\n",
       "    <tr style=\"text-align: right;\">\n",
       "      <th>productId</th>\n",
       "      <th>0</th>\n",
       "      <th>1</th>\n",
       "      <th>2</th>\n",
       "      <th>3</th>\n",
       "      <th>4</th>\n",
       "      <th>5</th>\n",
       "      <th>6</th>\n",
       "      <th>7</th>\n",
       "      <th>8</th>\n",
       "      <th>9</th>\n",
       "      <th>...</th>\n",
       "      <th>290</th>\n",
       "      <th>291</th>\n",
       "      <th>292</th>\n",
       "      <th>293</th>\n",
       "      <th>294</th>\n",
       "      <th>295</th>\n",
       "      <th>296</th>\n",
       "      <th>297</th>\n",
       "      <th>298</th>\n",
       "      <th>299</th>\n",
       "    </tr>\n",
       "    <tr>\n",
       "      <th>customerId</th>\n",
       "      <th></th>\n",
       "      <th></th>\n",
       "      <th></th>\n",
       "      <th></th>\n",
       "      <th></th>\n",
       "      <th></th>\n",
       "      <th></th>\n",
       "      <th></th>\n",
       "      <th></th>\n",
       "      <th></th>\n",
       "      <th></th>\n",
       "      <th></th>\n",
       "      <th></th>\n",
       "      <th></th>\n",
       "      <th></th>\n",
       "      <th></th>\n",
       "      <th></th>\n",
       "      <th></th>\n",
       "      <th></th>\n",
       "      <th></th>\n",
       "      <th></th>\n",
       "    </tr>\n",
       "  </thead>\n",
       "  <tbody>\n",
       "    <tr>\n",
       "      <th>0</th>\n",
       "      <td>NaN</td>\n",
       "      <td>0.1</td>\n",
       "      <td>NaN</td>\n",
       "      <td>NaN</td>\n",
       "      <td>NaN</td>\n",
       "      <td>NaN</td>\n",
       "      <td>NaN</td>\n",
       "      <td>NaN</td>\n",
       "      <td>NaN</td>\n",
       "      <td>NaN</td>\n",
       "      <td>...</td>\n",
       "      <td>NaN</td>\n",
       "      <td>NaN</td>\n",
       "      <td>NaN</td>\n",
       "      <td>NaN</td>\n",
       "      <td>NaN</td>\n",
       "      <td>NaN</td>\n",
       "      <td>NaN</td>\n",
       "      <td>NaN</td>\n",
       "      <td>NaN</td>\n",
       "      <td>NaN</td>\n",
       "    </tr>\n",
       "    <tr>\n",
       "      <th>1</th>\n",
       "      <td>NaN</td>\n",
       "      <td>NaN</td>\n",
       "      <td>0.166667</td>\n",
       "      <td>NaN</td>\n",
       "      <td>NaN</td>\n",
       "      <td>NaN</td>\n",
       "      <td>NaN</td>\n",
       "      <td>NaN</td>\n",
       "      <td>NaN</td>\n",
       "      <td>NaN</td>\n",
       "      <td>...</td>\n",
       "      <td>NaN</td>\n",
       "      <td>NaN</td>\n",
       "      <td>NaN</td>\n",
       "      <td>0.0</td>\n",
       "      <td>NaN</td>\n",
       "      <td>NaN</td>\n",
       "      <td>0.0</td>\n",
       "      <td>NaN</td>\n",
       "      <td>NaN</td>\n",
       "      <td>NaN</td>\n",
       "    </tr>\n",
       "    <tr>\n",
       "      <th>2</th>\n",
       "      <td>NaN</td>\n",
       "      <td>NaN</td>\n",
       "      <td>NaN</td>\n",
       "      <td>NaN</td>\n",
       "      <td>NaN</td>\n",
       "      <td>NaN</td>\n",
       "      <td>NaN</td>\n",
       "      <td>NaN</td>\n",
       "      <td>NaN</td>\n",
       "      <td>NaN</td>\n",
       "      <td>...</td>\n",
       "      <td>NaN</td>\n",
       "      <td>NaN</td>\n",
       "      <td>NaN</td>\n",
       "      <td>NaN</td>\n",
       "      <td>NaN</td>\n",
       "      <td>NaN</td>\n",
       "      <td>NaN</td>\n",
       "      <td>NaN</td>\n",
       "      <td>NaN</td>\n",
       "      <td>NaN</td>\n",
       "    </tr>\n",
       "    <tr>\n",
       "      <th>3</th>\n",
       "      <td>NaN</td>\n",
       "      <td>NaN</td>\n",
       "      <td>NaN</td>\n",
       "      <td>NaN</td>\n",
       "      <td>NaN</td>\n",
       "      <td>NaN</td>\n",
       "      <td>NaN</td>\n",
       "      <td>NaN</td>\n",
       "      <td>NaN</td>\n",
       "      <td>NaN</td>\n",
       "      <td>...</td>\n",
       "      <td>NaN</td>\n",
       "      <td>NaN</td>\n",
       "      <td>NaN</td>\n",
       "      <td>NaN</td>\n",
       "      <td>NaN</td>\n",
       "      <td>NaN</td>\n",
       "      <td>NaN</td>\n",
       "      <td>NaN</td>\n",
       "      <td>NaN</td>\n",
       "      <td>NaN</td>\n",
       "    </tr>\n",
       "    <tr>\n",
       "      <th>4</th>\n",
       "      <td>NaN</td>\n",
       "      <td>NaN</td>\n",
       "      <td>NaN</td>\n",
       "      <td>NaN</td>\n",
       "      <td>NaN</td>\n",
       "      <td>NaN</td>\n",
       "      <td>NaN</td>\n",
       "      <td>NaN</td>\n",
       "      <td>NaN</td>\n",
       "      <td>NaN</td>\n",
       "      <td>...</td>\n",
       "      <td>NaN</td>\n",
       "      <td>NaN</td>\n",
       "      <td>NaN</td>\n",
       "      <td>NaN</td>\n",
       "      <td>NaN</td>\n",
       "      <td>NaN</td>\n",
       "      <td>NaN</td>\n",
       "      <td>NaN</td>\n",
       "      <td>NaN</td>\n",
       "      <td>NaN</td>\n",
       "    </tr>\n",
       "  </tbody>\n",
       "</table>\n",
       "<p>5 rows × 300 columns</p>\n",
       "</div>"
      ],
      "text/plain": [
       "productId   0    1         2    3    4    5    6    7    8    9    ...  290  \\\n",
       "customerId                                                         ...        \n",
       "0           NaN  0.1       NaN  NaN  NaN  NaN  NaN  NaN  NaN  NaN  ...  NaN   \n",
       "1           NaN  NaN  0.166667  NaN  NaN  NaN  NaN  NaN  NaN  NaN  ...  NaN   \n",
       "2           NaN  NaN       NaN  NaN  NaN  NaN  NaN  NaN  NaN  NaN  ...  NaN   \n",
       "3           NaN  NaN       NaN  NaN  NaN  NaN  NaN  NaN  NaN  NaN  ...  NaN   \n",
       "4           NaN  NaN       NaN  NaN  NaN  NaN  NaN  NaN  NaN  NaN  ...  NaN   \n",
       "\n",
       "productId   291  292  293  294  295  296  297  298  299  \n",
       "customerId                                               \n",
       "0           NaN  NaN  NaN  NaN  NaN  NaN  NaN  NaN  NaN  \n",
       "1           NaN  NaN  0.0  NaN  NaN  0.0  NaN  NaN  NaN  \n",
       "2           NaN  NaN  NaN  NaN  NaN  NaN  NaN  NaN  NaN  \n",
       "3           NaN  NaN  NaN  NaN  NaN  NaN  NaN  NaN  NaN  \n",
       "4           NaN  NaN  NaN  NaN  NaN  NaN  NaN  NaN  NaN  \n",
       "\n",
       "[5 rows x 300 columns]"
      ]
     },
     "execution_count": 72,
     "metadata": {},
     "output_type": "execute_result"
    }
   ],
   "source": [
    "df_matrix_norm = (df_matrix-df_matrix.min())/(df_matrix.max()-df_matrix.min())\n",
    "print(df_matrix_norm.shape)\n",
    "df_matrix_norm.head()"
   ]
  },
  {
   "cell_type": "code",
   "execution_count": 73,
   "metadata": {},
   "outputs": [
    {
     "name": "stdout",
     "output_type": "stream",
     "text": [
      "(24429, 300)\n"
     ]
    },
    {
     "data": {
      "text/html": [
       "<div>\n",
       "<style scoped>\n",
       "    .dataframe tbody tr th:only-of-type {\n",
       "        vertical-align: middle;\n",
       "    }\n",
       "\n",
       "    .dataframe tbody tr th {\n",
       "        vertical-align: top;\n",
       "    }\n",
       "\n",
       "    .dataframe thead th {\n",
       "        text-align: right;\n",
       "    }\n",
       "</style>\n",
       "<table border=\"1\" class=\"dataframe\">\n",
       "  <thead>\n",
       "    <tr style=\"text-align: right;\">\n",
       "      <th>productId</th>\n",
       "      <th>0</th>\n",
       "      <th>1</th>\n",
       "      <th>2</th>\n",
       "      <th>3</th>\n",
       "      <th>4</th>\n",
       "      <th>5</th>\n",
       "      <th>6</th>\n",
       "      <th>7</th>\n",
       "      <th>8</th>\n",
       "      <th>9</th>\n",
       "      <th>...</th>\n",
       "      <th>290</th>\n",
       "      <th>291</th>\n",
       "      <th>292</th>\n",
       "      <th>293</th>\n",
       "      <th>294</th>\n",
       "      <th>295</th>\n",
       "      <th>296</th>\n",
       "      <th>297</th>\n",
       "      <th>298</th>\n",
       "      <th>299</th>\n",
       "    </tr>\n",
       "    <tr>\n",
       "      <th>customerId</th>\n",
       "      <th></th>\n",
       "      <th></th>\n",
       "      <th></th>\n",
       "      <th></th>\n",
       "      <th></th>\n",
       "      <th></th>\n",
       "      <th></th>\n",
       "      <th></th>\n",
       "      <th></th>\n",
       "      <th></th>\n",
       "      <th></th>\n",
       "      <th></th>\n",
       "      <th></th>\n",
       "      <th></th>\n",
       "      <th></th>\n",
       "      <th></th>\n",
       "      <th></th>\n",
       "      <th></th>\n",
       "      <th></th>\n",
       "      <th></th>\n",
       "      <th></th>\n",
       "    </tr>\n",
       "  </thead>\n",
       "  <tbody>\n",
       "    <tr>\n",
       "      <th>0</th>\n",
       "      <td>NaN</td>\n",
       "      <td>0.1</td>\n",
       "      <td>NaN</td>\n",
       "      <td>NaN</td>\n",
       "      <td>NaN</td>\n",
       "      <td>NaN</td>\n",
       "      <td>NaN</td>\n",
       "      <td>NaN</td>\n",
       "      <td>NaN</td>\n",
       "      <td>NaN</td>\n",
       "      <td>...</td>\n",
       "      <td>NaN</td>\n",
       "      <td>NaN</td>\n",
       "      <td>NaN</td>\n",
       "      <td>NaN</td>\n",
       "      <td>NaN</td>\n",
       "      <td>NaN</td>\n",
       "      <td>NaN</td>\n",
       "      <td>NaN</td>\n",
       "      <td>NaN</td>\n",
       "      <td>NaN</td>\n",
       "    </tr>\n",
       "    <tr>\n",
       "      <th>1</th>\n",
       "      <td>NaN</td>\n",
       "      <td>NaN</td>\n",
       "      <td>0.166667</td>\n",
       "      <td>NaN</td>\n",
       "      <td>NaN</td>\n",
       "      <td>NaN</td>\n",
       "      <td>NaN</td>\n",
       "      <td>NaN</td>\n",
       "      <td>NaN</td>\n",
       "      <td>NaN</td>\n",
       "      <td>...</td>\n",
       "      <td>NaN</td>\n",
       "      <td>NaN</td>\n",
       "      <td>NaN</td>\n",
       "      <td>0.0</td>\n",
       "      <td>NaN</td>\n",
       "      <td>NaN</td>\n",
       "      <td>0.0</td>\n",
       "      <td>NaN</td>\n",
       "      <td>NaN</td>\n",
       "      <td>NaN</td>\n",
       "    </tr>\n",
       "    <tr>\n",
       "      <th>2</th>\n",
       "      <td>NaN</td>\n",
       "      <td>NaN</td>\n",
       "      <td>NaN</td>\n",
       "      <td>NaN</td>\n",
       "      <td>NaN</td>\n",
       "      <td>NaN</td>\n",
       "      <td>NaN</td>\n",
       "      <td>NaN</td>\n",
       "      <td>NaN</td>\n",
       "      <td>NaN</td>\n",
       "      <td>...</td>\n",
       "      <td>NaN</td>\n",
       "      <td>NaN</td>\n",
       "      <td>NaN</td>\n",
       "      <td>NaN</td>\n",
       "      <td>NaN</td>\n",
       "      <td>NaN</td>\n",
       "      <td>NaN</td>\n",
       "      <td>NaN</td>\n",
       "      <td>NaN</td>\n",
       "      <td>NaN</td>\n",
       "    </tr>\n",
       "    <tr>\n",
       "      <th>3</th>\n",
       "      <td>NaN</td>\n",
       "      <td>NaN</td>\n",
       "      <td>NaN</td>\n",
       "      <td>NaN</td>\n",
       "      <td>NaN</td>\n",
       "      <td>NaN</td>\n",
       "      <td>NaN</td>\n",
       "      <td>NaN</td>\n",
       "      <td>NaN</td>\n",
       "      <td>NaN</td>\n",
       "      <td>...</td>\n",
       "      <td>NaN</td>\n",
       "      <td>NaN</td>\n",
       "      <td>NaN</td>\n",
       "      <td>NaN</td>\n",
       "      <td>NaN</td>\n",
       "      <td>NaN</td>\n",
       "      <td>NaN</td>\n",
       "      <td>NaN</td>\n",
       "      <td>NaN</td>\n",
       "      <td>NaN</td>\n",
       "    </tr>\n",
       "    <tr>\n",
       "      <th>4</th>\n",
       "      <td>NaN</td>\n",
       "      <td>NaN</td>\n",
       "      <td>NaN</td>\n",
       "      <td>NaN</td>\n",
       "      <td>NaN</td>\n",
       "      <td>NaN</td>\n",
       "      <td>NaN</td>\n",
       "      <td>NaN</td>\n",
       "      <td>NaN</td>\n",
       "      <td>NaN</td>\n",
       "      <td>...</td>\n",
       "      <td>NaN</td>\n",
       "      <td>NaN</td>\n",
       "      <td>NaN</td>\n",
       "      <td>NaN</td>\n",
       "      <td>NaN</td>\n",
       "      <td>NaN</td>\n",
       "      <td>NaN</td>\n",
       "      <td>NaN</td>\n",
       "      <td>NaN</td>\n",
       "      <td>NaN</td>\n",
       "    </tr>\n",
       "  </tbody>\n",
       "</table>\n",
       "<p>5 rows × 300 columns</p>\n",
       "</div>"
      ],
      "text/plain": [
       "productId   0    1         2    3    4    5    6    7    8    9    ...  290  \\\n",
       "customerId                                                         ...        \n",
       "0           NaN  0.1       NaN  NaN  NaN  NaN  NaN  NaN  NaN  NaN  ...  NaN   \n",
       "1           NaN  NaN  0.166667  NaN  NaN  NaN  NaN  NaN  NaN  NaN  ...  NaN   \n",
       "2           NaN  NaN       NaN  NaN  NaN  NaN  NaN  NaN  NaN  NaN  ...  NaN   \n",
       "3           NaN  NaN       NaN  NaN  NaN  NaN  NaN  NaN  NaN  NaN  ...  NaN   \n",
       "4           NaN  NaN       NaN  NaN  NaN  NaN  NaN  NaN  NaN  NaN  ...  NaN   \n",
       "\n",
       "productId   291  292  293  294  295  296  297  298  299  \n",
       "customerId                                               \n",
       "0           NaN  NaN  NaN  NaN  NaN  NaN  NaN  NaN  NaN  \n",
       "1           NaN  NaN  0.0  NaN  NaN  0.0  NaN  NaN  NaN  \n",
       "2           NaN  NaN  NaN  NaN  NaN  NaN  NaN  NaN  NaN  \n",
       "3           NaN  NaN  NaN  NaN  NaN  NaN  NaN  NaN  NaN  \n",
       "4           NaN  NaN  NaN  NaN  NaN  NaN  NaN  NaN  NaN  \n",
       "\n",
       "[5 rows x 300 columns]"
      ]
     },
     "execution_count": 73,
     "metadata": {},
     "output_type": "execute_result"
    }
   ],
   "source": [
    "df_matrix_norm = (df_matrix-df_matrix.min())/(df_matrix.max()-df_matrix.min())\n",
    "print(df_matrix_norm.shape)\n",
    "df_matrix_norm.head()"
   ]
  },
  {
   "cell_type": "code",
   "execution_count": 74,
   "metadata": {},
   "outputs": [
    {
     "name": "stdout",
     "output_type": "stream",
     "text": [
      "(24429, 300)\n"
     ]
    },
    {
     "data": {
      "text/html": [
       "<div>\n",
       "<style scoped>\n",
       "    .dataframe tbody tr th:only-of-type {\n",
       "        vertical-align: middle;\n",
       "    }\n",
       "\n",
       "    .dataframe tbody tr th {\n",
       "        vertical-align: top;\n",
       "    }\n",
       "\n",
       "    .dataframe thead th {\n",
       "        text-align: right;\n",
       "    }\n",
       "</style>\n",
       "<table border=\"1\" class=\"dataframe\">\n",
       "  <thead>\n",
       "    <tr style=\"text-align: right;\">\n",
       "      <th>productId</th>\n",
       "      <th>0</th>\n",
       "      <th>1</th>\n",
       "      <th>2</th>\n",
       "      <th>3</th>\n",
       "      <th>4</th>\n",
       "      <th>5</th>\n",
       "      <th>6</th>\n",
       "      <th>7</th>\n",
       "      <th>8</th>\n",
       "      <th>9</th>\n",
       "      <th>...</th>\n",
       "      <th>290</th>\n",
       "      <th>291</th>\n",
       "      <th>292</th>\n",
       "      <th>293</th>\n",
       "      <th>294</th>\n",
       "      <th>295</th>\n",
       "      <th>296</th>\n",
       "      <th>297</th>\n",
       "      <th>298</th>\n",
       "      <th>299</th>\n",
       "    </tr>\n",
       "    <tr>\n",
       "      <th>customerId</th>\n",
       "      <th></th>\n",
       "      <th></th>\n",
       "      <th></th>\n",
       "      <th></th>\n",
       "      <th></th>\n",
       "      <th></th>\n",
       "      <th></th>\n",
       "      <th></th>\n",
       "      <th></th>\n",
       "      <th></th>\n",
       "      <th></th>\n",
       "      <th></th>\n",
       "      <th></th>\n",
       "      <th></th>\n",
       "      <th></th>\n",
       "      <th></th>\n",
       "      <th></th>\n",
       "      <th></th>\n",
       "      <th></th>\n",
       "      <th></th>\n",
       "      <th></th>\n",
       "    </tr>\n",
       "  </thead>\n",
       "  <tbody>\n",
       "    <tr>\n",
       "      <th>0</th>\n",
       "      <td>NaN</td>\n",
       "      <td>0.1</td>\n",
       "      <td>NaN</td>\n",
       "      <td>NaN</td>\n",
       "      <td>NaN</td>\n",
       "      <td>NaN</td>\n",
       "      <td>NaN</td>\n",
       "      <td>NaN</td>\n",
       "      <td>NaN</td>\n",
       "      <td>NaN</td>\n",
       "      <td>...</td>\n",
       "      <td>NaN</td>\n",
       "      <td>NaN</td>\n",
       "      <td>NaN</td>\n",
       "      <td>NaN</td>\n",
       "      <td>NaN</td>\n",
       "      <td>NaN</td>\n",
       "      <td>NaN</td>\n",
       "      <td>NaN</td>\n",
       "      <td>NaN</td>\n",
       "      <td>NaN</td>\n",
       "    </tr>\n",
       "    <tr>\n",
       "      <th>1</th>\n",
       "      <td>NaN</td>\n",
       "      <td>NaN</td>\n",
       "      <td>0.166667</td>\n",
       "      <td>NaN</td>\n",
       "      <td>NaN</td>\n",
       "      <td>NaN</td>\n",
       "      <td>NaN</td>\n",
       "      <td>NaN</td>\n",
       "      <td>NaN</td>\n",
       "      <td>NaN</td>\n",
       "      <td>...</td>\n",
       "      <td>NaN</td>\n",
       "      <td>NaN</td>\n",
       "      <td>NaN</td>\n",
       "      <td>0.0</td>\n",
       "      <td>NaN</td>\n",
       "      <td>NaN</td>\n",
       "      <td>0.0</td>\n",
       "      <td>NaN</td>\n",
       "      <td>NaN</td>\n",
       "      <td>NaN</td>\n",
       "    </tr>\n",
       "    <tr>\n",
       "      <th>2</th>\n",
       "      <td>NaN</td>\n",
       "      <td>NaN</td>\n",
       "      <td>NaN</td>\n",
       "      <td>NaN</td>\n",
       "      <td>NaN</td>\n",
       "      <td>NaN</td>\n",
       "      <td>NaN</td>\n",
       "      <td>NaN</td>\n",
       "      <td>NaN</td>\n",
       "      <td>NaN</td>\n",
       "      <td>...</td>\n",
       "      <td>NaN</td>\n",
       "      <td>NaN</td>\n",
       "      <td>NaN</td>\n",
       "      <td>NaN</td>\n",
       "      <td>NaN</td>\n",
       "      <td>NaN</td>\n",
       "      <td>NaN</td>\n",
       "      <td>NaN</td>\n",
       "      <td>NaN</td>\n",
       "      <td>NaN</td>\n",
       "    </tr>\n",
       "    <tr>\n",
       "      <th>3</th>\n",
       "      <td>NaN</td>\n",
       "      <td>NaN</td>\n",
       "      <td>NaN</td>\n",
       "      <td>NaN</td>\n",
       "      <td>NaN</td>\n",
       "      <td>NaN</td>\n",
       "      <td>NaN</td>\n",
       "      <td>NaN</td>\n",
       "      <td>NaN</td>\n",
       "      <td>NaN</td>\n",
       "      <td>...</td>\n",
       "      <td>NaN</td>\n",
       "      <td>NaN</td>\n",
       "      <td>NaN</td>\n",
       "      <td>NaN</td>\n",
       "      <td>NaN</td>\n",
       "      <td>NaN</td>\n",
       "      <td>NaN</td>\n",
       "      <td>NaN</td>\n",
       "      <td>NaN</td>\n",
       "      <td>NaN</td>\n",
       "    </tr>\n",
       "    <tr>\n",
       "      <th>4</th>\n",
       "      <td>NaN</td>\n",
       "      <td>NaN</td>\n",
       "      <td>NaN</td>\n",
       "      <td>NaN</td>\n",
       "      <td>NaN</td>\n",
       "      <td>NaN</td>\n",
       "      <td>NaN</td>\n",
       "      <td>NaN</td>\n",
       "      <td>NaN</td>\n",
       "      <td>NaN</td>\n",
       "      <td>...</td>\n",
       "      <td>NaN</td>\n",
       "      <td>NaN</td>\n",
       "      <td>NaN</td>\n",
       "      <td>NaN</td>\n",
       "      <td>NaN</td>\n",
       "      <td>NaN</td>\n",
       "      <td>NaN</td>\n",
       "      <td>NaN</td>\n",
       "      <td>NaN</td>\n",
       "      <td>NaN</td>\n",
       "    </tr>\n",
       "  </tbody>\n",
       "</table>\n",
       "<p>5 rows × 300 columns</p>\n",
       "</div>"
      ],
      "text/plain": [
       "productId   0    1         2    3    4    5    6    7    8    9    ...  290  \\\n",
       "customerId                                                         ...        \n",
       "0           NaN  0.1       NaN  NaN  NaN  NaN  NaN  NaN  NaN  NaN  ...  NaN   \n",
       "1           NaN  NaN  0.166667  NaN  NaN  NaN  NaN  NaN  NaN  NaN  ...  NaN   \n",
       "2           NaN  NaN       NaN  NaN  NaN  NaN  NaN  NaN  NaN  NaN  ...  NaN   \n",
       "3           NaN  NaN       NaN  NaN  NaN  NaN  NaN  NaN  NaN  NaN  ...  NaN   \n",
       "4           NaN  NaN       NaN  NaN  NaN  NaN  NaN  NaN  NaN  NaN  ...  NaN   \n",
       "\n",
       "productId   291  292  293  294  295  296  297  298  299  \n",
       "customerId                                               \n",
       "0           NaN  NaN  NaN  NaN  NaN  NaN  NaN  NaN  NaN  \n",
       "1           NaN  NaN  0.0  NaN  NaN  0.0  NaN  NaN  NaN  \n",
       "2           NaN  NaN  NaN  NaN  NaN  NaN  NaN  NaN  NaN  \n",
       "3           NaN  NaN  NaN  NaN  NaN  NaN  NaN  NaN  NaN  \n",
       "4           NaN  NaN  NaN  NaN  NaN  NaN  NaN  NaN  NaN  \n",
       "\n",
       "[5 rows x 300 columns]"
      ]
     },
     "execution_count": 74,
     "metadata": {},
     "output_type": "execute_result"
    }
   ],
   "source": [
    "df_matrix_norm = (df_matrix-df_matrix.min())/(df_matrix.max()-df_matrix.min())\n",
    "print(df_matrix_norm.shape)\n",
    "df_matrix_norm.head()"
   ]
  },
  {
   "cell_type": "code",
   "execution_count": 75,
   "metadata": {},
   "outputs": [
    {
     "name": "stdout",
     "output_type": "stream",
     "text": [
      "(133585, 3)\n"
     ]
    },
    {
     "data": {
      "text/html": [
       "<div>\n",
       "<style scoped>\n",
       "    .dataframe tbody tr th:only-of-type {\n",
       "        vertical-align: middle;\n",
       "    }\n",
       "\n",
       "    .dataframe tbody tr th {\n",
       "        vertical-align: top;\n",
       "    }\n",
       "\n",
       "    .dataframe thead th {\n",
       "        text-align: right;\n",
       "    }\n",
       "</style>\n",
       "<table border=\"1\" class=\"dataframe\">\n",
       "  <thead>\n",
       "    <tr style=\"text-align: right;\">\n",
       "      <th></th>\n",
       "      <th>customerId</th>\n",
       "      <th>productId</th>\n",
       "      <th>scaled_purchase_freq</th>\n",
       "    </tr>\n",
       "  </thead>\n",
       "  <tbody>\n",
       "    <tr>\n",
       "      <th>9</th>\n",
       "      <td>9</td>\n",
       "      <td>0</td>\n",
       "      <td>0.133333</td>\n",
       "    </tr>\n",
       "    <tr>\n",
       "      <th>25</th>\n",
       "      <td>25</td>\n",
       "      <td>0</td>\n",
       "      <td>0.133333</td>\n",
       "    </tr>\n",
       "    <tr>\n",
       "      <th>32</th>\n",
       "      <td>33</td>\n",
       "      <td>0</td>\n",
       "      <td>0.133333</td>\n",
       "    </tr>\n",
       "    <tr>\n",
       "      <th>35</th>\n",
       "      <td>36</td>\n",
       "      <td>0</td>\n",
       "      <td>0.133333</td>\n",
       "    </tr>\n",
       "    <tr>\n",
       "      <th>43</th>\n",
       "      <td>44</td>\n",
       "      <td>0</td>\n",
       "      <td>0.133333</td>\n",
       "    </tr>\n",
       "  </tbody>\n",
       "</table>\n",
       "</div>"
      ],
      "text/plain": [
       "    customerId productId  scaled_purchase_freq\n",
       "9            9         0              0.133333\n",
       "25          25         0              0.133333\n",
       "32          33         0              0.133333\n",
       "35          36         0              0.133333\n",
       "43          44         0              0.133333"
      ]
     },
     "execution_count": 75,
     "metadata": {},
     "output_type": "execute_result"
    }
   ],
   "source": [
    "d = df_matrix_norm.reset_index()\n",
    "d.index.names = ['scaled_purchase_freq']\n",
    "data_norm = pd.melt(d, id_vars=['customerId'], value_name='scaled_purchase_freq').dropna()\n",
    "print(data_norm.shape)\n",
    "data_norm.head()"
   ]
  },
  {
   "cell_type": "code",
   "execution_count": 76,
   "metadata": {},
   "outputs": [],
   "source": [
    "def normalize_data(data):\n",
    "    df_matrix = pd.pivot_table(data, values='purchase_count', index='customerId', columns='productId')\n",
    "    df_matrix_norm = (df_matrix-df_matrix.min())/(df_matrix.max()-df_matrix.min())\n",
    "    d = df_matrix_norm.reset_index()\n",
    "    d.index.names = ['scaled_purchase_freq']\n",
    "    return pd.melt(d, id_vars=['customerId'], value_name='scaled_purchase_freq').dropna()\n",
    "    "
   ]
  },
  {
   "cell_type": "code",
   "execution_count": 77,
   "metadata": {},
   "outputs": [
    {
     "name": "stdout",
     "output_type": "stream",
     "text": [
      "(106868, 3) (26717, 3)\n"
     ]
    }
   ],
   "source": [
    "train, test = train_test_split(data, test_size = .2)\n",
    "print(train.shape, test.shape)"
   ]
  },
  {
   "cell_type": "code",
   "execution_count": 78,
   "metadata": {},
   "outputs": [],
   "source": [
    "train_data = tc.SFrame(train)\n",
    "test_data = tc.SFrame(test)"
   ]
  },
  {
   "cell_type": "code",
   "execution_count": 79,
   "metadata": {},
   "outputs": [
    {
     "data": {
      "text/html": [
       "<div style=\"max-height:1000px;max-width:1500px;overflow:auto;\"><table frame=\"box\" rules=\"cols\">\n",
       "    <tr>\n",
       "        <th style=\"padding-left: 1em; padding-right: 1em; text-align: center\">customerId</th>\n",
       "        <th style=\"padding-left: 1em; padding-right: 1em; text-align: center\">productId</th>\n",
       "        <th style=\"padding-left: 1em; padding-right: 1em; text-align: center\">purchase_count</th>\n",
       "    </tr>\n",
       "    <tr>\n",
       "        <td style=\"padding-left: 1em; padding-right: 1em; text-align: center; vertical-align: top\">9833</td>\n",
       "        <td style=\"padding-left: 1em; padding-right: 1em; text-align: center; vertical-align: top\">156</td>\n",
       "        <td style=\"padding-left: 1em; padding-right: 1em; text-align: center; vertical-align: top\">1</td>\n",
       "    </tr>\n",
       "    <tr>\n",
       "        <td style=\"padding-left: 1em; padding-right: 1em; text-align: center; vertical-align: top\">2298</td>\n",
       "        <td style=\"padding-left: 1em; padding-right: 1em; text-align: center; vertical-align: top\">216</td>\n",
       "        <td style=\"padding-left: 1em; padding-right: 1em; text-align: center; vertical-align: top\">1</td>\n",
       "    </tr>\n",
       "    <tr>\n",
       "        <td style=\"padding-left: 1em; padding-right: 1em; text-align: center; vertical-align: top\">13974</td>\n",
       "        <td style=\"padding-left: 1em; padding-right: 1em; text-align: center; vertical-align: top\">238</td>\n",
       "        <td style=\"padding-left: 1em; padding-right: 1em; text-align: center; vertical-align: top\">1</td>\n",
       "    </tr>\n",
       "    <tr>\n",
       "        <td style=\"padding-left: 1em; padding-right: 1em; text-align: center; vertical-align: top\">154</td>\n",
       "        <td style=\"padding-left: 1em; padding-right: 1em; text-align: center; vertical-align: top\">222</td>\n",
       "        <td style=\"padding-left: 1em; padding-right: 1em; text-align: center; vertical-align: top\">2</td>\n",
       "    </tr>\n",
       "    <tr>\n",
       "        <td style=\"padding-left: 1em; padding-right: 1em; text-align: center; vertical-align: top\">2194</td>\n",
       "        <td style=\"padding-left: 1em; padding-right: 1em; text-align: center; vertical-align: top\">57</td>\n",
       "        <td style=\"padding-left: 1em; padding-right: 1em; text-align: center; vertical-align: top\">1</td>\n",
       "    </tr>\n",
       "    <tr>\n",
       "        <td style=\"padding-left: 1em; padding-right: 1em; text-align: center; vertical-align: top\">4390</td>\n",
       "        <td style=\"padding-left: 1em; padding-right: 1em; text-align: center; vertical-align: top\">19</td>\n",
       "        <td style=\"padding-left: 1em; padding-right: 1em; text-align: center; vertical-align: top\">1</td>\n",
       "    </tr>\n",
       "    <tr>\n",
       "        <td style=\"padding-left: 1em; padding-right: 1em; text-align: center; vertical-align: top\">7352</td>\n",
       "        <td style=\"padding-left: 1em; padding-right: 1em; text-align: center; vertical-align: top\">228</td>\n",
       "        <td style=\"padding-left: 1em; padding-right: 1em; text-align: center; vertical-align: top\">3</td>\n",
       "    </tr>\n",
       "    <tr>\n",
       "        <td style=\"padding-left: 1em; padding-right: 1em; text-align: center; vertical-align: top\">9334</td>\n",
       "        <td style=\"padding-left: 1em; padding-right: 1em; text-align: center; vertical-align: top\">210</td>\n",
       "        <td style=\"padding-left: 1em; padding-right: 1em; text-align: center; vertical-align: top\">1</td>\n",
       "    </tr>\n",
       "    <tr>\n",
       "        <td style=\"padding-left: 1em; padding-right: 1em; text-align: center; vertical-align: top\">25878</td>\n",
       "        <td style=\"padding-left: 1em; padding-right: 1em; text-align: center; vertical-align: top\">13</td>\n",
       "        <td style=\"padding-left: 1em; padding-right: 1em; text-align: center; vertical-align: top\">1</td>\n",
       "    </tr>\n",
       "    <tr>\n",
       "        <td style=\"padding-left: 1em; padding-right: 1em; text-align: center; vertical-align: top\">7223</td>\n",
       "        <td style=\"padding-left: 1em; padding-right: 1em; text-align: center; vertical-align: top\">168</td>\n",
       "        <td style=\"padding-left: 1em; padding-right: 1em; text-align: center; vertical-align: top\">3</td>\n",
       "    </tr>\n",
       "</table>\n",
       "[106868 rows x 3 columns]<br/>Note: Only the head of the SFrame is printed.<br/>You can use print_rows(num_rows=m, num_columns=n) to print more rows and columns.\n",
       "</div>"
      ],
      "text/plain": [
       "Columns:\n",
       "\tcustomerId\tint\n",
       "\tproductId\tint\n",
       "\tpurchase_count\tint\n",
       "\n",
       "Rows: 106868\n",
       "\n",
       "Data:\n",
       "+------------+-----------+----------------+\n",
       "| customerId | productId | purchase_count |\n",
       "+------------+-----------+----------------+\n",
       "|    9833    |    156    |       1        |\n",
       "|    2298    |    216    |       1        |\n",
       "|   13974    |    238    |       1        |\n",
       "|    154     |    222    |       2        |\n",
       "|    2194    |     57    |       1        |\n",
       "|    4390    |     19    |       1        |\n",
       "|    7352    |    228    |       3        |\n",
       "|    9334    |    210    |       1        |\n",
       "|   25878    |     13    |       1        |\n",
       "|    7223    |    168    |       3        |\n",
       "+------------+-----------+----------------+\n",
       "[106868 rows x 3 columns]\n",
       "Note: Only the head of the SFrame is printed.\n",
       "You can use print_rows(num_rows=m, num_columns=n) to print more rows and columns."
      ]
     },
     "execution_count": 79,
     "metadata": {},
     "output_type": "execute_result"
    }
   ],
   "source": [
    "train_data"
   ]
  },
  {
   "cell_type": "code",
   "execution_count": 80,
   "metadata": {},
   "outputs": [
    {
     "data": {
      "text/html": [
       "<div style=\"max-height:1000px;max-width:1500px;overflow:auto;\"><table frame=\"box\" rules=\"cols\">\n",
       "    <tr>\n",
       "        <th style=\"padding-left: 1em; padding-right: 1em; text-align: center\">customerId</th>\n",
       "        <th style=\"padding-left: 1em; padding-right: 1em; text-align: center\">productId</th>\n",
       "        <th style=\"padding-left: 1em; padding-right: 1em; text-align: center\">purchase_count</th>\n",
       "    </tr>\n",
       "    <tr>\n",
       "        <td style=\"padding-left: 1em; padding-right: 1em; text-align: center; vertical-align: top\">8957</td>\n",
       "        <td style=\"padding-left: 1em; padding-right: 1em; text-align: center; vertical-align: top\">44</td>\n",
       "        <td style=\"padding-left: 1em; padding-right: 1em; text-align: center; vertical-align: top\">1</td>\n",
       "    </tr>\n",
       "    <tr>\n",
       "        <td style=\"padding-left: 1em; padding-right: 1em; text-align: center; vertical-align: top\">12814</td>\n",
       "        <td style=\"padding-left: 1em; padding-right: 1em; text-align: center; vertical-align: top\">149</td>\n",
       "        <td style=\"padding-left: 1em; padding-right: 1em; text-align: center; vertical-align: top\">1</td>\n",
       "    </tr>\n",
       "    <tr>\n",
       "        <td style=\"padding-left: 1em; padding-right: 1em; text-align: center; vertical-align: top\">11704</td>\n",
       "        <td style=\"padding-left: 1em; padding-right: 1em; text-align: center; vertical-align: top\">128</td>\n",
       "        <td style=\"padding-left: 1em; padding-right: 1em; text-align: center; vertical-align: top\">2</td>\n",
       "    </tr>\n",
       "    <tr>\n",
       "        <td style=\"padding-left: 1em; padding-right: 1em; text-align: center; vertical-align: top\">5529</td>\n",
       "        <td style=\"padding-left: 1em; padding-right: 1em; text-align: center; vertical-align: top\">295</td>\n",
       "        <td style=\"padding-left: 1em; padding-right: 1em; text-align: center; vertical-align: top\">1</td>\n",
       "    </tr>\n",
       "    <tr>\n",
       "        <td style=\"padding-left: 1em; padding-right: 1em; text-align: center; vertical-align: top\">116</td>\n",
       "        <td style=\"padding-left: 1em; padding-right: 1em; text-align: center; vertical-align: top\">61</td>\n",
       "        <td style=\"padding-left: 1em; padding-right: 1em; text-align: center; vertical-align: top\">2</td>\n",
       "    </tr>\n",
       "    <tr>\n",
       "        <td style=\"padding-left: 1em; padding-right: 1em; text-align: center; vertical-align: top\">26742</td>\n",
       "        <td style=\"padding-left: 1em; padding-right: 1em; text-align: center; vertical-align: top\">96</td>\n",
       "        <td style=\"padding-left: 1em; padding-right: 1em; text-align: center; vertical-align: top\">2</td>\n",
       "    </tr>\n",
       "    <tr>\n",
       "        <td style=\"padding-left: 1em; padding-right: 1em; text-align: center; vertical-align: top\">2826</td>\n",
       "        <td style=\"padding-left: 1em; padding-right: 1em; text-align: center; vertical-align: top\">156</td>\n",
       "        <td style=\"padding-left: 1em; padding-right: 1em; text-align: center; vertical-align: top\">1</td>\n",
       "    </tr>\n",
       "    <tr>\n",
       "        <td style=\"padding-left: 1em; padding-right: 1em; text-align: center; vertical-align: top\">27209</td>\n",
       "        <td style=\"padding-left: 1em; padding-right: 1em; text-align: center; vertical-align: top\">163</td>\n",
       "        <td style=\"padding-left: 1em; padding-right: 1em; text-align: center; vertical-align: top\">1</td>\n",
       "    </tr>\n",
       "    <tr>\n",
       "        <td style=\"padding-left: 1em; padding-right: 1em; text-align: center; vertical-align: top\">5664</td>\n",
       "        <td style=\"padding-left: 1em; padding-right: 1em; text-align: center; vertical-align: top\">63</td>\n",
       "        <td style=\"padding-left: 1em; padding-right: 1em; text-align: center; vertical-align: top\">1</td>\n",
       "    </tr>\n",
       "    <tr>\n",
       "        <td style=\"padding-left: 1em; padding-right: 1em; text-align: center; vertical-align: top\">14852</td>\n",
       "        <td style=\"padding-left: 1em; padding-right: 1em; text-align: center; vertical-align: top\">68</td>\n",
       "        <td style=\"padding-left: 1em; padding-right: 1em; text-align: center; vertical-align: top\">3</td>\n",
       "    </tr>\n",
       "</table>\n",
       "[26717 rows x 3 columns]<br/>Note: Only the head of the SFrame is printed.<br/>You can use print_rows(num_rows=m, num_columns=n) to print more rows and columns.\n",
       "</div>"
      ],
      "text/plain": [
       "Columns:\n",
       "\tcustomerId\tint\n",
       "\tproductId\tint\n",
       "\tpurchase_count\tint\n",
       "\n",
       "Rows: 26717\n",
       "\n",
       "Data:\n",
       "+------------+-----------+----------------+\n",
       "| customerId | productId | purchase_count |\n",
       "+------------+-----------+----------------+\n",
       "|    8957    |     44    |       1        |\n",
       "|   12814    |    149    |       1        |\n",
       "|   11704    |    128    |       2        |\n",
       "|    5529    |    295    |       1        |\n",
       "|    116     |     61    |       2        |\n",
       "|   26742    |     96    |       2        |\n",
       "|    2826    |    156    |       1        |\n",
       "|   27209    |    163    |       1        |\n",
       "|    5664    |     63    |       1        |\n",
       "|   14852    |     68    |       3        |\n",
       "+------------+-----------+----------------+\n",
       "[26717 rows x 3 columns]\n",
       "Note: Only the head of the SFrame is printed.\n",
       "You can use print_rows(num_rows=m, num_columns=n) to print more rows and columns."
      ]
     },
     "execution_count": 80,
     "metadata": {},
     "output_type": "execute_result"
    }
   ],
   "source": [
    "test_data"
   ]
  },
  {
   "cell_type": "code",
   "execution_count": 81,
   "metadata": {},
   "outputs": [],
   "source": [
    "def split_data(data):\n",
    "    '''\n",
    "    Splits dataset into training and test set.\n",
    "    \n",
    "    Args:\n",
    "        data (pandas.DataFrame)\n",
    "        \n",
    "    Returns\n",
    "        train_data (tc.SFrame)\n",
    "        test_data (tc.SFrame)\n",
    "    '''\n",
    "    train, test = train_test_split(data, test_size = .2)\n",
    "    train_data = tc.SFrame(train)\n",
    "    test_data = tc.SFrame(test)\n",
    "    return train_data, test_data"
   ]
  },
  {
   "cell_type": "code",
   "execution_count": 82,
   "metadata": {},
   "outputs": [],
   "source": [
    "train_data_dummy, test_data_dummy = split_data(data_dummy)\n",
    "train_data_norm, test_data_norm = split_data(data_norm)"
   ]
  },
  {
   "cell_type": "code",
   "execution_count": 83,
   "metadata": {},
   "outputs": [],
   "source": [
    "user_id = 'customerId'\n",
    "item_id = 'productId'\n",
    "target = 'purchase_count'\n",
    "users_to_recommend = list(transactions[user_id])\n",
    "n_rec = 10 # number of items to recommend\n",
    "n_display = 30"
   ]
  },
  {
   "cell_type": "code",
   "execution_count": 84,
   "metadata": {},
   "outputs": [
    {
     "data": {
      "text/html": [
       "<pre>Preparing data set.</pre>"
      ],
      "text/plain": [
       "Preparing data set."
      ]
     },
     "metadata": {},
     "output_type": "display_data"
    },
    {
     "data": {
      "text/html": [
       "<pre>    Data has 106868 observations with 23268 users and 300 items.</pre>"
      ],
      "text/plain": [
       "    Data has 106868 observations with 23268 users and 300 items."
      ]
     },
     "metadata": {},
     "output_type": "display_data"
    },
    {
     "data": {
      "text/html": [
       "<pre>    Data prepared in: 0.132022s</pre>"
      ],
      "text/plain": [
       "    Data prepared in: 0.132022s"
      ]
     },
     "metadata": {},
     "output_type": "display_data"
    },
    {
     "data": {
      "text/html": [
       "<pre>106868 observations to process; with 300 unique items.</pre>"
      ],
      "text/plain": [
       "106868 observations to process; with 300 unique items."
      ]
     },
     "metadata": {},
     "output_type": "display_data"
    }
   ],
   "source": [
    "popularity_model = tc.popularity_recommender.create(train_data, \n",
    "                                                    user_id=user_id, \n",
    "                                                    item_id=item_id, \n",
    "                                                    target=target)"
   ]
  },
  {
   "cell_type": "code",
   "execution_count": 85,
   "metadata": {},
   "outputs": [
    {
     "data": {
      "text/html": [
       "<pre>recommendations finished on 1000/62483 queries. users per second: 51461.5</pre>"
      ],
      "text/plain": [
       "recommendations finished on 1000/62483 queries. users per second: 51461.5"
      ]
     },
     "metadata": {},
     "output_type": "display_data"
    },
    {
     "data": {
      "text/html": [
       "<pre>recommendations finished on 2000/62483 queries. users per second: 88280.7</pre>"
      ],
      "text/plain": [
       "recommendations finished on 2000/62483 queries. users per second: 88280.7"
      ]
     },
     "metadata": {},
     "output_type": "display_data"
    },
    {
     "data": {
      "text/html": [
       "<pre>recommendations finished on 3000/62483 queries. users per second: 122724</pre>"
      ],
      "text/plain": [
       "recommendations finished on 3000/62483 queries. users per second: 122724"
      ]
     },
     "metadata": {},
     "output_type": "display_data"
    },
    {
     "data": {
      "text/html": [
       "<pre>recommendations finished on 4000/62483 queries. users per second: 148187</pre>"
      ],
      "text/plain": [
       "recommendations finished on 4000/62483 queries. users per second: 148187"
      ]
     },
     "metadata": {},
     "output_type": "display_data"
    },
    {
     "data": {
      "text/html": [
       "<pre>recommendations finished on 5000/62483 queries. users per second: 173871</pre>"
      ],
      "text/plain": [
       "recommendations finished on 5000/62483 queries. users per second: 173871"
      ]
     },
     "metadata": {},
     "output_type": "display_data"
    },
    {
     "data": {
      "text/html": [
       "<pre>recommendations finished on 6000/62483 queries. users per second: 196091</pre>"
      ],
      "text/plain": [
       "recommendations finished on 6000/62483 queries. users per second: 196091"
      ]
     },
     "metadata": {},
     "output_type": "display_data"
    },
    {
     "data": {
      "text/html": [
       "<pre>recommendations finished on 7000/62483 queries. users per second: 214632</pre>"
      ],
      "text/plain": [
       "recommendations finished on 7000/62483 queries. users per second: 214632"
      ]
     },
     "metadata": {},
     "output_type": "display_data"
    },
    {
     "data": {
      "text/html": [
       "<pre>recommendations finished on 8000/62483 queries. users per second: 230024</pre>"
      ],
      "text/plain": [
       "recommendations finished on 8000/62483 queries. users per second: 230024"
      ]
     },
     "metadata": {},
     "output_type": "display_data"
    },
    {
     "data": {
      "text/html": [
       "<pre>recommendations finished on 9000/62483 queries. users per second: 246866</pre>"
      ],
      "text/plain": [
       "recommendations finished on 9000/62483 queries. users per second: 246866"
      ]
     },
     "metadata": {},
     "output_type": "display_data"
    },
    {
     "data": {
      "text/html": [
       "<pre>recommendations finished on 10000/62483 queries. users per second: 261945</pre>"
      ],
      "text/plain": [
       "recommendations finished on 10000/62483 queries. users per second: 261945"
      ]
     },
     "metadata": {},
     "output_type": "display_data"
    },
    {
     "data": {
      "text/html": [
       "<pre>recommendations finished on 11000/62483 queries. users per second: 273993</pre>"
      ],
      "text/plain": [
       "recommendations finished on 11000/62483 queries. users per second: 273993"
      ]
     },
     "metadata": {},
     "output_type": "display_data"
    },
    {
     "data": {
      "text/html": [
       "<pre>recommendations finished on 12000/62483 queries. users per second: 281809</pre>"
      ],
      "text/plain": [
       "recommendations finished on 12000/62483 queries. users per second: 281809"
      ]
     },
     "metadata": {},
     "output_type": "display_data"
    },
    {
     "data": {
      "text/html": [
       "<pre>recommendations finished on 13000/62483 queries. users per second: 267517</pre>"
      ],
      "text/plain": [
       "recommendations finished on 13000/62483 queries. users per second: 267517"
      ]
     },
     "metadata": {},
     "output_type": "display_data"
    },
    {
     "data": {
      "text/html": [
       "<pre>recommendations finished on 14000/62483 queries. users per second: 278385</pre>"
      ],
      "text/plain": [
       "recommendations finished on 14000/62483 queries. users per second: 278385"
      ]
     },
     "metadata": {},
     "output_type": "display_data"
    },
    {
     "data": {
      "text/html": [
       "<pre>recommendations finished on 15000/62483 queries. users per second: 287213</pre>"
      ],
      "text/plain": [
       "recommendations finished on 15000/62483 queries. users per second: 287213"
      ]
     },
     "metadata": {},
     "output_type": "display_data"
    },
    {
     "data": {
      "text/html": [
       "<pre>recommendations finished on 16000/62483 queries. users per second: 297276</pre>"
      ],
      "text/plain": [
       "recommendations finished on 16000/62483 queries. users per second: 297276"
      ]
     },
     "metadata": {},
     "output_type": "display_data"
    },
    {
     "data": {
      "text/html": [
       "<pre>recommendations finished on 17000/62483 queries. users per second: 306599</pre>"
      ],
      "text/plain": [
       "recommendations finished on 17000/62483 queries. users per second: 306599"
      ]
     },
     "metadata": {},
     "output_type": "display_data"
    },
    {
     "data": {
      "text/html": [
       "<pre>recommendations finished on 18000/62483 queries. users per second: 314213</pre>"
      ],
      "text/plain": [
       "recommendations finished on 18000/62483 queries. users per second: 314213"
      ]
     },
     "metadata": {},
     "output_type": "display_data"
    },
    {
     "data": {
      "text/html": [
       "<pre>recommendations finished on 19000/62483 queries. users per second: 319548</pre>"
      ],
      "text/plain": [
       "recommendations finished on 19000/62483 queries. users per second: 319548"
      ]
     },
     "metadata": {},
     "output_type": "display_data"
    },
    {
     "data": {
      "text/html": [
       "<pre>recommendations finished on 20000/62483 queries. users per second: 326600</pre>"
      ],
      "text/plain": [
       "recommendations finished on 20000/62483 queries. users per second: 326600"
      ]
     },
     "metadata": {},
     "output_type": "display_data"
    },
    {
     "data": {
      "text/html": [
       "<pre>recommendations finished on 21000/62483 queries. users per second: 333561</pre>"
      ],
      "text/plain": [
       "recommendations finished on 21000/62483 queries. users per second: 333561"
      ]
     },
     "metadata": {},
     "output_type": "display_data"
    },
    {
     "data": {
      "text/html": [
       "<pre>recommendations finished on 22000/62483 queries. users per second: 340152</pre>"
      ],
      "text/plain": [
       "recommendations finished on 22000/62483 queries. users per second: 340152"
      ]
     },
     "metadata": {},
     "output_type": "display_data"
    },
    {
     "data": {
      "text/html": [
       "<pre>recommendations finished on 23000/62483 queries. users per second: 345553</pre>"
      ],
      "text/plain": [
       "recommendations finished on 23000/62483 queries. users per second: 345553"
      ]
     },
     "metadata": {},
     "output_type": "display_data"
    },
    {
     "data": {
      "text/html": [
       "<pre>recommendations finished on 24000/62483 queries. users per second: 340334</pre>"
      ],
      "text/plain": [
       "recommendations finished on 24000/62483 queries. users per second: 340334"
      ]
     },
     "metadata": {},
     "output_type": "display_data"
    },
    {
     "data": {
      "text/html": [
       "<pre>recommendations finished on 25000/62483 queries. users per second: 346227</pre>"
      ],
      "text/plain": [
       "recommendations finished on 25000/62483 queries. users per second: 346227"
      ]
     },
     "metadata": {},
     "output_type": "display_data"
    },
    {
     "data": {
      "text/html": [
       "<pre>recommendations finished on 26000/62483 queries. users per second: 351646</pre>"
      ],
      "text/plain": [
       "recommendations finished on 26000/62483 queries. users per second: 351646"
      ]
     },
     "metadata": {},
     "output_type": "display_data"
    },
    {
     "data": {
      "text/html": [
       "<pre>recommendations finished on 27000/62483 queries. users per second: 356426</pre>"
      ],
      "text/plain": [
       "recommendations finished on 27000/62483 queries. users per second: 356426"
      ]
     },
     "metadata": {},
     "output_type": "display_data"
    },
    {
     "data": {
      "text/html": [
       "<pre>recommendations finished on 28000/62483 queries. users per second: 361664</pre>"
      ],
      "text/plain": [
       "recommendations finished on 28000/62483 queries. users per second: 361664"
      ]
     },
     "metadata": {},
     "output_type": "display_data"
    },
    {
     "data": {
      "text/html": [
       "<pre>recommendations finished on 29000/62483 queries. users per second: 364688</pre>"
      ],
      "text/plain": [
       "recommendations finished on 29000/62483 queries. users per second: 364688"
      ]
     },
     "metadata": {},
     "output_type": "display_data"
    },
    {
     "data": {
      "text/html": [
       "<pre>recommendations finished on 30000/62483 queries. users per second: 367548</pre>"
      ],
      "text/plain": [
       "recommendations finished on 30000/62483 queries. users per second: 367548"
      ]
     },
     "metadata": {},
     "output_type": "display_data"
    },
    {
     "data": {
      "text/html": [
       "<pre>recommendations finished on 31000/62483 queries. users per second: 370791</pre>"
      ],
      "text/plain": [
       "recommendations finished on 31000/62483 queries. users per second: 370791"
      ]
     },
     "metadata": {},
     "output_type": "display_data"
    },
    {
     "data": {
      "text/html": [
       "<pre>recommendations finished on 32000/62483 queries. users per second: 375085</pre>"
      ],
      "text/plain": [
       "recommendations finished on 32000/62483 queries. users per second: 375085"
      ]
     },
     "metadata": {},
     "output_type": "display_data"
    },
    {
     "data": {
      "text/html": [
       "<pre>recommendations finished on 33000/62483 queries. users per second: 379350</pre>"
      ],
      "text/plain": [
       "recommendations finished on 33000/62483 queries. users per second: 379350"
      ]
     },
     "metadata": {},
     "output_type": "display_data"
    },
    {
     "data": {
      "text/html": [
       "<pre>recommendations finished on 34000/62483 queries. users per second: 384020</pre>"
      ],
      "text/plain": [
       "recommendations finished on 34000/62483 queries. users per second: 384020"
      ]
     },
     "metadata": {},
     "output_type": "display_data"
    },
    {
     "data": {
      "text/html": [
       "<pre>recommendations finished on 35000/62483 queries. users per second: 388815</pre>"
      ],
      "text/plain": [
       "recommendations finished on 35000/62483 queries. users per second: 388815"
      ]
     },
     "metadata": {},
     "output_type": "display_data"
    },
    {
     "data": {
      "text/html": [
       "<pre>recommendations finished on 36000/62483 queries. users per second: 384973</pre>"
      ],
      "text/plain": [
       "recommendations finished on 36000/62483 queries. users per second: 384973"
      ]
     },
     "metadata": {},
     "output_type": "display_data"
    },
    {
     "data": {
      "text/html": [
       "<pre>recommendations finished on 37000/62483 queries. users per second: 380428</pre>"
      ],
      "text/plain": [
       "recommendations finished on 37000/62483 queries. users per second: 380428"
      ]
     },
     "metadata": {},
     "output_type": "display_data"
    },
    {
     "data": {
      "text/html": [
       "<pre>recommendations finished on 38000/62483 queries. users per second: 384974</pre>"
      ],
      "text/plain": [
       "recommendations finished on 38000/62483 queries. users per second: 384974"
      ]
     },
     "metadata": {},
     "output_type": "display_data"
    },
    {
     "data": {
      "text/html": [
       "<pre>recommendations finished on 39000/62483 queries. users per second: 389649</pre>"
      ],
      "text/plain": [
       "recommendations finished on 39000/62483 queries. users per second: 389649"
      ]
     },
     "metadata": {},
     "output_type": "display_data"
    },
    {
     "data": {
      "text/html": [
       "<pre>recommendations finished on 40000/62483 queries. users per second: 394046</pre>"
      ],
      "text/plain": [
       "recommendations finished on 40000/62483 queries. users per second: 394046"
      ]
     },
     "metadata": {},
     "output_type": "display_data"
    },
    {
     "data": {
      "text/html": [
       "<pre>recommendations finished on 41000/62483 queries. users per second: 386920</pre>"
      ],
      "text/plain": [
       "recommendations finished on 41000/62483 queries. users per second: 386920"
      ]
     },
     "metadata": {},
     "output_type": "display_data"
    },
    {
     "data": {
      "text/html": [
       "<pre>recommendations finished on 42000/62483 queries. users per second: 364549</pre>"
      ],
      "text/plain": [
       "recommendations finished on 42000/62483 queries. users per second: 364549"
      ]
     },
     "metadata": {},
     "output_type": "display_data"
    },
    {
     "data": {
      "text/html": [
       "<pre>recommendations finished on 43000/62483 queries. users per second: 368523</pre>"
      ],
      "text/plain": [
       "recommendations finished on 43000/62483 queries. users per second: 368523"
      ]
     },
     "metadata": {},
     "output_type": "display_data"
    },
    {
     "data": {
      "text/html": [
       "<pre>recommendations finished on 44000/62483 queries. users per second: 368923</pre>"
      ],
      "text/plain": [
       "recommendations finished on 44000/62483 queries. users per second: 368923"
      ]
     },
     "metadata": {},
     "output_type": "display_data"
    },
    {
     "data": {
      "text/html": [
       "<pre>recommendations finished on 45000/62483 queries. users per second: 367485</pre>"
      ],
      "text/plain": [
       "recommendations finished on 45000/62483 queries. users per second: 367485"
      ]
     },
     "metadata": {},
     "output_type": "display_data"
    },
    {
     "data": {
      "text/html": [
       "<pre>recommendations finished on 46000/62483 queries. users per second: 370860</pre>"
      ],
      "text/plain": [
       "recommendations finished on 46000/62483 queries. users per second: 370860"
      ]
     },
     "metadata": {},
     "output_type": "display_data"
    },
    {
     "data": {
      "text/html": [
       "<pre>recommendations finished on 47000/62483 queries. users per second: 375291</pre>"
      ],
      "text/plain": [
       "recommendations finished on 47000/62483 queries. users per second: 375291"
      ]
     },
     "metadata": {},
     "output_type": "display_data"
    },
    {
     "data": {
      "text/html": [
       "<pre>recommendations finished on 48000/62483 queries. users per second: 376527</pre>"
      ],
      "text/plain": [
       "recommendations finished on 48000/62483 queries. users per second: 376527"
      ]
     },
     "metadata": {},
     "output_type": "display_data"
    },
    {
     "data": {
      "text/html": [
       "<pre>recommendations finished on 49000/62483 queries. users per second: 374123</pre>"
      ],
      "text/plain": [
       "recommendations finished on 49000/62483 queries. users per second: 374123"
      ]
     },
     "metadata": {},
     "output_type": "display_data"
    },
    {
     "data": {
      "text/html": [
       "<pre>recommendations finished on 50000/62483 queries. users per second: 376727</pre>"
      ],
      "text/plain": [
       "recommendations finished on 50000/62483 queries. users per second: 376727"
      ]
     },
     "metadata": {},
     "output_type": "display_data"
    },
    {
     "data": {
      "text/html": [
       "<pre>recommendations finished on 51000/62483 queries. users per second: 379354</pre>"
      ],
      "text/plain": [
       "recommendations finished on 51000/62483 queries. users per second: 379354"
      ]
     },
     "metadata": {},
     "output_type": "display_data"
    },
    {
     "data": {
      "text/html": [
       "<pre>recommendations finished on 52000/62483 queries. users per second: 383130</pre>"
      ],
      "text/plain": [
       "recommendations finished on 52000/62483 queries. users per second: 383130"
      ]
     },
     "metadata": {},
     "output_type": "display_data"
    },
    {
     "data": {
      "text/html": [
       "<pre>recommendations finished on 53000/62483 queries. users per second: 383266</pre>"
      ],
      "text/plain": [
       "recommendations finished on 53000/62483 queries. users per second: 383266"
      ]
     },
     "metadata": {},
     "output_type": "display_data"
    },
    {
     "data": {
      "text/html": [
       "<pre>recommendations finished on 54000/62483 queries. users per second: 362397</pre>"
      ],
      "text/plain": [
       "recommendations finished on 54000/62483 queries. users per second: 362397"
      ]
     },
     "metadata": {},
     "output_type": "display_data"
    },
    {
     "data": {
      "text/html": [
       "<pre>recommendations finished on 55000/62483 queries. users per second: 364898</pre>"
      ],
      "text/plain": [
       "recommendations finished on 55000/62483 queries. users per second: 364898"
      ]
     },
     "metadata": {},
     "output_type": "display_data"
    },
    {
     "data": {
      "text/html": [
       "<pre>recommendations finished on 56000/62483 queries. users per second: 366665</pre>"
      ],
      "text/plain": [
       "recommendations finished on 56000/62483 queries. users per second: 366665"
      ]
     },
     "metadata": {},
     "output_type": "display_data"
    },
    {
     "data": {
      "text/html": [
       "<pre>recommendations finished on 57000/62483 queries. users per second: 369016</pre>"
      ],
      "text/plain": [
       "recommendations finished on 57000/62483 queries. users per second: 369016"
      ]
     },
     "metadata": {},
     "output_type": "display_data"
    },
    {
     "data": {
      "text/html": [
       "<pre>recommendations finished on 58000/62483 queries. users per second: 371785</pre>"
      ],
      "text/plain": [
       "recommendations finished on 58000/62483 queries. users per second: 371785"
      ]
     },
     "metadata": {},
     "output_type": "display_data"
    },
    {
     "data": {
      "text/html": [
       "<pre>recommendations finished on 59000/62483 queries. users per second: 373846</pre>"
      ],
      "text/plain": [
       "recommendations finished on 59000/62483 queries. users per second: 373846"
      ]
     },
     "metadata": {},
     "output_type": "display_data"
    },
    {
     "data": {
      "text/html": [
       "<pre>recommendations finished on 60000/62483 queries. users per second: 374782</pre>"
      ],
      "text/plain": [
       "recommendations finished on 60000/62483 queries. users per second: 374782"
      ]
     },
     "metadata": {},
     "output_type": "display_data"
    },
    {
     "data": {
      "text/html": [
       "<pre>recommendations finished on 61000/62483 queries. users per second: 377086</pre>"
      ],
      "text/plain": [
       "recommendations finished on 61000/62483 queries. users per second: 377086"
      ]
     },
     "metadata": {},
     "output_type": "display_data"
    },
    {
     "data": {
      "text/html": [
       "<pre>recommendations finished on 62000/62483 queries. users per second: 378707</pre>"
      ],
      "text/plain": [
       "recommendations finished on 62000/62483 queries. users per second: 378707"
      ]
     },
     "metadata": {},
     "output_type": "display_data"
    },
    {
     "name": "stdout",
     "output_type": "stream",
     "text": [
      "+------------+-----------+--------------------+------+\n",
      "| customerId | productId |       score        | rank |\n",
      "+------------+-----------+--------------------+------+\n",
      "|     0      |    132    | 3.274193548387097  |  1   |\n",
      "|     0      |    248    | 3.0681818181818183 |  2   |\n",
      "|     0      |     34    | 3.0268199233716473 |  3   |\n",
      "|     0      |     0     | 2.9668560606060606 |  4   |\n",
      "|     0      |     37    | 2.964980544747082  |  5   |\n",
      "|     0      |     3     | 2.8556263269639066 |  6   |\n",
      "|     0      |     27    | 2.7642857142857142 |  7   |\n",
      "|     0      |    110    | 2.6604938271604937 |  8   |\n",
      "|     0      |     32    | 2.658291457286432  |  9   |\n",
      "|     0      |     82    | 2.6331877729257642 |  10  |\n",
      "|     1      |    132    | 3.274193548387097  |  1   |\n",
      "|     1      |    248    | 3.0681818181818183 |  2   |\n",
      "|     1      |     34    | 3.0268199233716473 |  3   |\n",
      "|     1      |     0     | 2.9668560606060606 |  4   |\n",
      "|     1      |     37    | 2.964980544747082  |  5   |\n",
      "|     1      |     3     | 2.8556263269639066 |  6   |\n",
      "|     1      |     27    | 2.7642857142857142 |  7   |\n",
      "|     1      |    110    | 2.6604938271604937 |  8   |\n",
      "|     1      |     32    | 2.658291457286432  |  9   |\n",
      "|     1      |     82    | 2.6331877729257642 |  10  |\n",
      "|     2      |    132    | 3.274193548387097  |  1   |\n",
      "|     2      |    248    | 3.0681818181818183 |  2   |\n",
      "|     2      |     34    | 3.0268199233716473 |  3   |\n",
      "|     2      |     0     | 2.9668560606060606 |  4   |\n",
      "|     2      |     37    | 2.964980544747082  |  5   |\n",
      "|     2      |     3     | 2.8556263269639066 |  6   |\n",
      "|     2      |     27    | 2.7642857142857142 |  7   |\n",
      "|     2      |    110    | 2.6604938271604937 |  8   |\n",
      "|     2      |     32    | 2.658291457286432  |  9   |\n",
      "|     2      |     82    | 2.6331877729257642 |  10  |\n",
      "+------------+-----------+--------------------+------+\n",
      "[624830 rows x 4 columns]\n",
      "\n"
     ]
    }
   ],
   "source": [
    "# Get recommendations for a list of users to recommend (from customers file)\n",
    "# Printed below is head / top 30 rows for first 3 customers with 10 recommendations each\n",
    "\n",
    "popularity_recomm = popularity_model.recommend(users=users_to_recommend, k=n_rec)\n",
    "popularity_recomm.print_rows(n_display)"
   ]
  },
  {
   "cell_type": "code",
   "execution_count": 86,
   "metadata": {},
   "outputs": [],
   "source": [
    "def model(train_data, name, user_id, item_id, target, users_to_recommend, n_rec, n_display):\n",
    "    if name == 'popularity':\n",
    "        model = tc.popularity_recommender.create(train_data, \n",
    "                                                    user_id=user_id, \n",
    "                                                    item_id=item_id, \n",
    "                                                    target=target)\n",
    "    elif name == 'cosine':\n",
    "        model = tc.item_similarity_recommender.create(train_data, \n",
    "                                                    user_id=user_id, \n",
    "                                                    item_id=item_id, \n",
    "                                                    target=target, \n",
    "                                                    similarity_type='cosine')\n",
    "    elif name == 'pearson':\n",
    "        model = tc.item_similarity_recommender.create(train_data, \n",
    "                                                    user_id=user_id, \n",
    "                                                    item_id=item_id, \n",
    "                                                    target=target, \n",
    "                                                    similarity_type='pearson')\n",
    "        \n",
    "    recom = model.recommend(users=users_to_recommend, k=n_rec)\n",
    "    recom.print_rows(n_display)\n",
    "    return model"
   ]
  },
  {
   "cell_type": "code",
   "execution_count": 87,
   "metadata": {},
   "outputs": [],
   "source": [
    "ser_id = 'customerId'\n",
    "item_id = 'productId'\n",
    "users_to_recommend = list(customers[user_id])\n",
    "n_rec = 10 # number of items to recommend\n",
    "n_display = 30 # to print the head / first few rows in a defined dataset"
   ]
  },
  {
   "cell_type": "code",
   "execution_count": 88,
   "metadata": {},
   "outputs": [
    {
     "data": {
      "text/html": [
       "<pre>Warning: Ignoring columns purchase_count;</pre>"
      ],
      "text/plain": [
       "Warning: Ignoring columns purchase_count;"
      ]
     },
     "metadata": {},
     "output_type": "display_data"
    },
    {
     "data": {
      "text/html": [
       "<pre>    To use these columns in scoring predictions, use a model that allows the use of additional features.</pre>"
      ],
      "text/plain": [
       "    To use these columns in scoring predictions, use a model that allows the use of additional features."
      ]
     },
     "metadata": {},
     "output_type": "display_data"
    },
    {
     "data": {
      "text/html": [
       "<pre>Preparing data set.</pre>"
      ],
      "text/plain": [
       "Preparing data set."
      ]
     },
     "metadata": {},
     "output_type": "display_data"
    },
    {
     "data": {
      "text/html": [
       "<pre>    Data has 106868 observations with 23258 users and 300 items.</pre>"
      ],
      "text/plain": [
       "    Data has 106868 observations with 23258 users and 300 items."
      ]
     },
     "metadata": {},
     "output_type": "display_data"
    },
    {
     "data": {
      "text/html": [
       "<pre>    Data prepared in: 0.095012s</pre>"
      ],
      "text/plain": [
       "    Data prepared in: 0.095012s"
      ]
     },
     "metadata": {},
     "output_type": "display_data"
    },
    {
     "data": {
      "text/html": [
       "<pre>106868 observations to process; with 300 unique items.</pre>"
      ],
      "text/plain": [
       "106868 observations to process; with 300 unique items."
      ]
     },
     "metadata": {},
     "output_type": "display_data"
    },
    {
     "data": {
      "text/html": [
       "<pre>recommendations finished on 1000/1000 queries. users per second: 159033</pre>"
      ],
      "text/plain": [
       "recommendations finished on 1000/1000 queries. users per second: 159033"
      ]
     },
     "metadata": {},
     "output_type": "display_data"
    },
    {
     "name": "stdout",
     "output_type": "stream",
     "text": [
      "+------------+-----------+-------+------+\n",
      "| customerId | productId | score | rank |\n",
      "+------------+-----------+-------+------+\n",
      "|    1553    |     9     |  1.0  |  1   |\n",
      "|    1553    |    246    |  1.0  |  2   |\n",
      "|    1553    |    122    |  1.0  |  3   |\n",
      "|    1553    |    249    |  1.0  |  4   |\n",
      "|    1553    |    192    |  1.0  |  5   |\n",
      "|    1553    |    141    |  1.0  |  6   |\n",
      "|    1553    |     45    |  1.0  |  7   |\n",
      "|    1553    |    209    |  1.0  |  8   |\n",
      "|    1553    |     7     |  1.0  |  9   |\n",
      "|    1553    |    110    |  1.0  |  10  |\n",
      "|   20400    |     9     |  1.0  |  1   |\n",
      "|   20400    |    246    |  1.0  |  2   |\n",
      "|   20400    |    122    |  1.0  |  3   |\n",
      "|   20400    |    249    |  1.0  |  4   |\n",
      "|   20400    |    192    |  1.0  |  5   |\n",
      "|   20400    |    141    |  1.0  |  6   |\n",
      "|   20400    |     45    |  1.0  |  7   |\n",
      "|   20400    |    209    |  1.0  |  8   |\n",
      "|   20400    |     7     |  1.0  |  9   |\n",
      "|   20400    |    110    |  1.0  |  10  |\n",
      "|   19750    |     9     |  1.0  |  1   |\n",
      "|   19750    |    246    |  1.0  |  2   |\n",
      "|   19750    |    122    |  1.0  |  3   |\n",
      "|   19750    |    249    |  1.0  |  4   |\n",
      "|   19750    |    192    |  1.0  |  5   |\n",
      "|   19750    |    141    |  1.0  |  6   |\n",
      "|   19750    |     45    |  1.0  |  7   |\n",
      "|   19750    |    209    |  1.0  |  8   |\n",
      "|   19750    |     7     |  1.0  |  9   |\n",
      "|   19750    |    110    |  1.0  |  10  |\n",
      "+------------+-----------+-------+------+\n",
      "[10000 rows x 4 columns]\n",
      "\n"
     ]
    }
   ],
   "source": [
    "name = 'popularity'\n",
    "target = 'purchase_dummy'\n",
    "pop_dummy = model(train_data_dummy, name, user_id, item_id, target, users_to_recommend, n_rec, n_display)"
   ]
  },
  {
   "cell_type": "code",
   "execution_count": 89,
   "metadata": {},
   "outputs": [
    {
     "data": {
      "text/html": [
       "<pre>Preparing data set.</pre>"
      ],
      "text/plain": [
       "Preparing data set."
      ]
     },
     "metadata": {},
     "output_type": "display_data"
    },
    {
     "data": {
      "text/html": [
       "<pre>    Data has 106868 observations with 23341 users and 300 items.</pre>"
      ],
      "text/plain": [
       "    Data has 106868 observations with 23341 users and 300 items."
      ]
     },
     "metadata": {},
     "output_type": "display_data"
    },
    {
     "data": {
      "text/html": [
       "<pre>    Data prepared in: 0.068846s</pre>"
      ],
      "text/plain": [
       "    Data prepared in: 0.068846s"
      ]
     },
     "metadata": {},
     "output_type": "display_data"
    },
    {
     "data": {
      "text/html": [
       "<pre>106868 observations to process; with 300 unique items.</pre>"
      ],
      "text/plain": [
       "106868 observations to process; with 300 unique items."
      ]
     },
     "metadata": {},
     "output_type": "display_data"
    },
    {
     "data": {
      "text/html": [
       "<pre>recommendations finished on 1000/1000 queries. users per second: 155860</pre>"
      ],
      "text/plain": [
       "recommendations finished on 1000/1000 queries. users per second: 155860"
      ]
     },
     "metadata": {},
     "output_type": "display_data"
    },
    {
     "name": "stdout",
     "output_type": "stream",
     "text": [
      "+------------+-----------+---------------------+------+\n",
      "| customerId | productId |        score        | rank |\n",
      "+------------+-----------+---------------------+------+\n",
      "|    1553    |    226    |  0.7808219178082192 |  1   |\n",
      "|    1553    |    230    |  0.328057553956834  |  2   |\n",
      "|    1553    |    247    |  0.3229974160206719 |  3   |\n",
      "|    1553    |    294    |  0.2644628099173551 |  4   |\n",
      "|    1553    |    125    |  0.2637037037037032 |  5   |\n",
      "|    1553    |    248    |  0.2553191489361702 |  6   |\n",
      "|    1553    |    155    | 0.23846153846153836 |  7   |\n",
      "|    1553    |    204    | 0.23655913978494605 |  8   |\n",
      "|    1553    |    276    | 0.23461538461538461 |  9   |\n",
      "|    1553    |     72    | 0.22950819672131148 |  10  |\n",
      "|   20400    |    226    |  0.7808219178082192 |  1   |\n",
      "|   20400    |    230    |  0.328057553956834  |  2   |\n",
      "|   20400    |    247    |  0.3229974160206719 |  3   |\n",
      "|   20400    |    294    |  0.2644628099173551 |  4   |\n",
      "|   20400    |    125    |  0.2637037037037032 |  5   |\n",
      "|   20400    |    248    |  0.2553191489361702 |  6   |\n",
      "|   20400    |    155    | 0.23846153846153836 |  7   |\n",
      "|   20400    |    204    | 0.23655913978494605 |  8   |\n",
      "|   20400    |    276    | 0.23461538461538461 |  9   |\n",
      "|   20400    |     72    | 0.22950819672131148 |  10  |\n",
      "|   19750    |    226    |  0.7808219178082192 |  1   |\n",
      "|   19750    |    230    |  0.328057553956834  |  2   |\n",
      "|   19750    |    247    |  0.3229974160206719 |  3   |\n",
      "|   19750    |    294    |  0.2644628099173551 |  4   |\n",
      "|   19750    |    125    |  0.2637037037037032 |  5   |\n",
      "|   19750    |    248    |  0.2553191489361702 |  6   |\n",
      "|   19750    |    155    | 0.23846153846153836 |  7   |\n",
      "|   19750    |    204    | 0.23655913978494605 |  8   |\n",
      "|   19750    |    276    | 0.23461538461538461 |  9   |\n",
      "|   19750    |     72    | 0.22950819672131148 |  10  |\n",
      "+------------+-----------+---------------------+------+\n",
      "[10000 rows x 4 columns]\n",
      "\n"
     ]
    }
   ],
   "source": [
    "name = 'popularity'\n",
    "target = 'scaled_purchase_freq'\n",
    "pop_norm = model(train_data_norm, name, user_id, item_id, target, users_to_recommend, n_rec, n_display)"
   ]
  },
  {
   "cell_type": "code",
   "execution_count": 90,
   "metadata": {},
   "outputs": [
    {
     "data": {
      "text/plain": [
       "productId\n",
       "132    3.274194\n",
       "248    3.068182\n",
       "34     3.026820\n",
       "0      2.966856\n",
       "37     2.964981\n",
       "3      2.855626\n",
       "27     2.764286\n",
       "110    2.660494\n",
       "32     2.658291\n",
       "82     2.633188\n",
       "226    2.628571\n",
       "230    2.624060\n",
       "10     2.583082\n",
       "129    2.511236\n",
       "173    2.490909\n",
       "58     2.483146\n",
       "83     2.448276\n",
       "68     2.427350\n",
       "41     2.425325\n",
       "91     2.409091\n",
       "Name: purchase_count, dtype: float64"
      ]
     },
     "execution_count": 90,
     "metadata": {},
     "output_type": "execute_result"
    }
   ],
   "source": [
    "train.groupby(by=item_id)['purchase_count'].mean().sort_values(ascending=False).head(20)"
   ]
  },
  {
   "cell_type": "code",
   "execution_count": 91,
   "metadata": {},
   "outputs": [
    {
     "data": {
      "text/html": [
       "<pre>Preparing data set.</pre>"
      ],
      "text/plain": [
       "Preparing data set."
      ]
     },
     "metadata": {},
     "output_type": "display_data"
    },
    {
     "data": {
      "text/html": [
       "<pre>    Data has 106868 observations with 23268 users and 300 items.</pre>"
      ],
      "text/plain": [
       "    Data has 106868 observations with 23268 users and 300 items."
      ]
     },
     "metadata": {},
     "output_type": "display_data"
    },
    {
     "data": {
      "text/html": [
       "<pre>    Data prepared in: 0.069578s</pre>"
      ],
      "text/plain": [
       "    Data prepared in: 0.069578s"
      ]
     },
     "metadata": {},
     "output_type": "display_data"
    },
    {
     "data": {
      "text/html": [
       "<pre>Training model from provided data.</pre>"
      ],
      "text/plain": [
       "Training model from provided data."
      ]
     },
     "metadata": {},
     "output_type": "display_data"
    },
    {
     "data": {
      "text/html": [
       "<pre>Gathering per-item and per-user statistics.</pre>"
      ],
      "text/plain": [
       "Gathering per-item and per-user statistics."
      ]
     },
     "metadata": {},
     "output_type": "display_data"
    },
    {
     "data": {
      "text/html": [
       "<pre>+--------------------------------+------------+</pre>"
      ],
      "text/plain": [
       "+--------------------------------+------------+"
      ]
     },
     "metadata": {},
     "output_type": "display_data"
    },
    {
     "data": {
      "text/html": [
       "<pre>| Elapsed Time (Item Statistics) | % Complete |</pre>"
      ],
      "text/plain": [
       "| Elapsed Time (Item Statistics) | % Complete |"
      ]
     },
     "metadata": {},
     "output_type": "display_data"
    },
    {
     "data": {
      "text/html": [
       "<pre>+--------------------------------+------------+</pre>"
      ],
      "text/plain": [
       "+--------------------------------+------------+"
      ]
     },
     "metadata": {},
     "output_type": "display_data"
    },
    {
     "data": {
      "text/html": [
       "<pre>| 743us                          | 4.25       |</pre>"
      ],
      "text/plain": [
       "| 743us                          | 4.25       |"
      ]
     },
     "metadata": {},
     "output_type": "display_data"
    },
    {
     "data": {
      "text/html": [
       "<pre>| 3.174ms                        | 100        |</pre>"
      ],
      "text/plain": [
       "| 3.174ms                        | 100        |"
      ]
     },
     "metadata": {},
     "output_type": "display_data"
    },
    {
     "data": {
      "text/html": [
       "<pre>+--------------------------------+------------+</pre>"
      ],
      "text/plain": [
       "+--------------------------------+------------+"
      ]
     },
     "metadata": {},
     "output_type": "display_data"
    },
    {
     "data": {
      "text/html": [
       "<pre>Setting up lookup tables.</pre>"
      ],
      "text/plain": [
       "Setting up lookup tables."
      ]
     },
     "metadata": {},
     "output_type": "display_data"
    },
    {
     "data": {
      "text/html": [
       "<pre>Processing data in one pass using dense lookup tables.</pre>"
      ],
      "text/plain": [
       "Processing data in one pass using dense lookup tables."
      ]
     },
     "metadata": {},
     "output_type": "display_data"
    },
    {
     "data": {
      "text/html": [
       "<pre>+-------------------------------------+------------------+-----------------+</pre>"
      ],
      "text/plain": [
       "+-------------------------------------+------------------+-----------------+"
      ]
     },
     "metadata": {},
     "output_type": "display_data"
    },
    {
     "data": {
      "text/html": [
       "<pre>| Elapsed Time (Constructing Lookups) | Total % Complete | Items Processed |</pre>"
      ],
      "text/plain": [
       "| Elapsed Time (Constructing Lookups) | Total % Complete | Items Processed |"
      ]
     },
     "metadata": {},
     "output_type": "display_data"
    },
    {
     "data": {
      "text/html": [
       "<pre>+-------------------------------------+------------------+-----------------+</pre>"
      ],
      "text/plain": [
       "+-------------------------------------+------------------+-----------------+"
      ]
     },
     "metadata": {},
     "output_type": "display_data"
    },
    {
     "data": {
      "text/html": [
       "<pre>| 3.621ms                             | 0                | 0               |</pre>"
      ],
      "text/plain": [
       "| 3.621ms                             | 0                | 0               |"
      ]
     },
     "metadata": {},
     "output_type": "display_data"
    },
    {
     "data": {
      "text/html": [
       "<pre>| 11.838ms                            | 100              | 300             |</pre>"
      ],
      "text/plain": [
       "| 11.838ms                            | 100              | 300             |"
      ]
     },
     "metadata": {},
     "output_type": "display_data"
    },
    {
     "data": {
      "text/html": [
       "<pre>+-------------------------------------+------------------+-----------------+</pre>"
      ],
      "text/plain": [
       "+-------------------------------------+------------------+-----------------+"
      ]
     },
     "metadata": {},
     "output_type": "display_data"
    },
    {
     "data": {
      "text/html": [
       "<pre>Finalizing lookup tables.</pre>"
      ],
      "text/plain": [
       "Finalizing lookup tables."
      ]
     },
     "metadata": {},
     "output_type": "display_data"
    },
    {
     "data": {
      "text/html": [
       "<pre>Generating candidate set for working with new users.</pre>"
      ],
      "text/plain": [
       "Generating candidate set for working with new users."
      ]
     },
     "metadata": {},
     "output_type": "display_data"
    },
    {
     "data": {
      "text/html": [
       "<pre>Finished training in 0.016433s</pre>"
      ],
      "text/plain": [
       "Finished training in 0.016433s"
      ]
     },
     "metadata": {},
     "output_type": "display_data"
    },
    {
     "data": {
      "text/html": [
       "<pre>recommendations finished on 1000/1000 queries. users per second: 62762.8</pre>"
      ],
      "text/plain": [
       "recommendations finished on 1000/1000 queries. users per second: 62762.8"
      ]
     },
     "metadata": {},
     "output_type": "display_data"
    },
    {
     "name": "stdout",
     "output_type": "stream",
     "text": [
      "+------------+-----------+----------------------+------+\n",
      "| customerId | productId |        score         | rank |\n",
      "+------------+-----------+----------------------+------+\n",
      "|    1553    |     2     | 0.09611833095550537  |  1   |\n",
      "|    1553    |     5     | 0.07466095685958862  |  2   |\n",
      "|    1553    |     17    |  0.0740822434425354  |  3   |\n",
      "|    1553    |     1     | 0.07150241136550903  |  4   |\n",
      "|    1553    |     35    | 0.05555305480957031  |  5   |\n",
      "|    1553    |    162    |  0.048896324634552   |  6   |\n",
      "|    1553    |    124    | 0.04777834415435791  |  7   |\n",
      "|    1553    |     61    | 0.045536267757415774 |  8   |\n",
      "|    1553    |     33    | 0.04547817707061767  |  9   |\n",
      "|    1553    |    167    | 0.040196990966796874 |  10  |\n",
      "|   20400    |    246    |  0.0479048490524292  |  1   |\n",
      "|   20400    |    160    | 0.04294389486312866  |  2   |\n",
      "|   20400    |    122    | 0.042781054973602295 |  3   |\n",
      "|   20400    |    284    | 0.04174298048019409  |  4   |\n",
      "|   20400    |     6     | 0.04119884967803955  |  5   |\n",
      "|   20400    |    215    | 0.03857964277267456  |  6   |\n",
      "|   20400    |     1     |  0.037578284740448   |  7   |\n",
      "|   20400    |     31    | 0.036115288734436035 |  8   |\n",
      "|   20400    |     26    | 0.035875022411346436 |  9   |\n",
      "|   20400    |    179    | 0.033398330211639404 |  10  |\n",
      "|   19750    |     38    | 0.10216708183288574  |  1   |\n",
      "|   19750    |     48    | 0.09772447347640992  |  2   |\n",
      "|   19750    |     1     | 0.08045009374618531  |  3   |\n",
      "|   19750    |     79    |   0.07243732213974   |  4   |\n",
      "|   19750    |     36    | 0.07236734628677369  |  5   |\n",
      "|   19750    |     63    |  0.0611361026763916  |  6   |\n",
      "|   19750    |     5     | 0.05679523944854736  |  7   |\n",
      "|   19750    |     14    | 0.055462312698364255 |  8   |\n",
      "|   19750    |    194    | 0.052837693691253663 |  9   |\n",
      "|   19750    |     21    | 0.04789454936981201  |  10  |\n",
      "+------------+-----------+----------------------+------+\n",
      "[10000 rows x 4 columns]\n",
      "\n"
     ]
    }
   ],
   "source": [
    "name = 'cosine'\n",
    "target = 'purchase_count'\n",
    "cos = model(train_data, name, user_id, item_id, target, users_to_recommend, n_rec, n_display)"
   ]
  },
  {
   "cell_type": "code",
   "execution_count": 92,
   "metadata": {},
   "outputs": [
    {
     "data": {
      "text/html": [
       "<pre>Warning: Ignoring columns purchase_count;</pre>"
      ],
      "text/plain": [
       "Warning: Ignoring columns purchase_count;"
      ]
     },
     "metadata": {},
     "output_type": "display_data"
    },
    {
     "data": {
      "text/html": [
       "<pre>    To use these columns in scoring predictions, use a model that allows the use of additional features.</pre>"
      ],
      "text/plain": [
       "    To use these columns in scoring predictions, use a model that allows the use of additional features."
      ]
     },
     "metadata": {},
     "output_type": "display_data"
    },
    {
     "data": {
      "text/html": [
       "<pre>Preparing data set.</pre>"
      ],
      "text/plain": [
       "Preparing data set."
      ]
     },
     "metadata": {},
     "output_type": "display_data"
    },
    {
     "data": {
      "text/html": [
       "<pre>    Data has 106868 observations with 23258 users and 300 items.</pre>"
      ],
      "text/plain": [
       "    Data has 106868 observations with 23258 users and 300 items."
      ]
     },
     "metadata": {},
     "output_type": "display_data"
    },
    {
     "data": {
      "text/html": [
       "<pre>    Data prepared in: 0.098008s</pre>"
      ],
      "text/plain": [
       "    Data prepared in: 0.098008s"
      ]
     },
     "metadata": {},
     "output_type": "display_data"
    },
    {
     "data": {
      "text/html": [
       "<pre>Training model from provided data.</pre>"
      ],
      "text/plain": [
       "Training model from provided data."
      ]
     },
     "metadata": {},
     "output_type": "display_data"
    },
    {
     "data": {
      "text/html": [
       "<pre>Gathering per-item and per-user statistics.</pre>"
      ],
      "text/plain": [
       "Gathering per-item and per-user statistics."
      ]
     },
     "metadata": {},
     "output_type": "display_data"
    },
    {
     "data": {
      "text/html": [
       "<pre>+--------------------------------+------------+</pre>"
      ],
      "text/plain": [
       "+--------------------------------+------------+"
      ]
     },
     "metadata": {},
     "output_type": "display_data"
    },
    {
     "data": {
      "text/html": [
       "<pre>| Elapsed Time (Item Statistics) | % Complete |</pre>"
      ],
      "text/plain": [
       "| Elapsed Time (Item Statistics) | % Complete |"
      ]
     },
     "metadata": {},
     "output_type": "display_data"
    },
    {
     "data": {
      "text/html": [
       "<pre>+--------------------------------+------------+</pre>"
      ],
      "text/plain": [
       "+--------------------------------+------------+"
      ]
     },
     "metadata": {},
     "output_type": "display_data"
    },
    {
     "data": {
      "text/html": [
       "<pre>| 1.961ms                        | 4.25       |</pre>"
      ],
      "text/plain": [
       "| 1.961ms                        | 4.25       |"
      ]
     },
     "metadata": {},
     "output_type": "display_data"
    },
    {
     "data": {
      "text/html": [
       "<pre>| 35.753ms                       | 100        |</pre>"
      ],
      "text/plain": [
       "| 35.753ms                       | 100        |"
      ]
     },
     "metadata": {},
     "output_type": "display_data"
    },
    {
     "data": {
      "text/html": [
       "<pre>+--------------------------------+------------+</pre>"
      ],
      "text/plain": [
       "+--------------------------------+------------+"
      ]
     },
     "metadata": {},
     "output_type": "display_data"
    },
    {
     "data": {
      "text/html": [
       "<pre>Setting up lookup tables.</pre>"
      ],
      "text/plain": [
       "Setting up lookup tables."
      ]
     },
     "metadata": {},
     "output_type": "display_data"
    },
    {
     "data": {
      "text/html": [
       "<pre>Processing data in one pass using dense lookup tables.</pre>"
      ],
      "text/plain": [
       "Processing data in one pass using dense lookup tables."
      ]
     },
     "metadata": {},
     "output_type": "display_data"
    },
    {
     "data": {
      "text/html": [
       "<pre>+-------------------------------------+------------------+-----------------+</pre>"
      ],
      "text/plain": [
       "+-------------------------------------+------------------+-----------------+"
      ]
     },
     "metadata": {},
     "output_type": "display_data"
    },
    {
     "data": {
      "text/html": [
       "<pre>| Elapsed Time (Constructing Lookups) | Total % Complete | Items Processed |</pre>"
      ],
      "text/plain": [
       "| Elapsed Time (Constructing Lookups) | Total % Complete | Items Processed |"
      ]
     },
     "metadata": {},
     "output_type": "display_data"
    },
    {
     "data": {
      "text/html": [
       "<pre>+-------------------------------------+------------------+-----------------+</pre>"
      ],
      "text/plain": [
       "+-------------------------------------+------------------+-----------------+"
      ]
     },
     "metadata": {},
     "output_type": "display_data"
    },
    {
     "data": {
      "text/html": [
       "<pre>| 36.599ms                            | 0                | 0               |</pre>"
      ],
      "text/plain": [
       "| 36.599ms                            | 0                | 0               |"
      ]
     },
     "metadata": {},
     "output_type": "display_data"
    },
    {
     "data": {
      "text/html": [
       "<pre>| 43.2ms                              | 100              | 300             |</pre>"
      ],
      "text/plain": [
       "| 43.2ms                              | 100              | 300             |"
      ]
     },
     "metadata": {},
     "output_type": "display_data"
    },
    {
     "data": {
      "text/html": [
       "<pre>+-------------------------------------+------------------+-----------------+</pre>"
      ],
      "text/plain": [
       "+-------------------------------------+------------------+-----------------+"
      ]
     },
     "metadata": {},
     "output_type": "display_data"
    },
    {
     "data": {
      "text/html": [
       "<pre>Finalizing lookup tables.</pre>"
      ],
      "text/plain": [
       "Finalizing lookup tables."
      ]
     },
     "metadata": {},
     "output_type": "display_data"
    },
    {
     "data": {
      "text/html": [
       "<pre>Generating candidate set for working with new users.</pre>"
      ],
      "text/plain": [
       "Generating candidate set for working with new users."
      ]
     },
     "metadata": {},
     "output_type": "display_data"
    },
    {
     "data": {
      "text/html": [
       "<pre>Finished training in 0.050811s</pre>"
      ],
      "text/plain": [
       "Finished training in 0.050811s"
      ]
     },
     "metadata": {},
     "output_type": "display_data"
    },
    {
     "name": "stdout",
     "output_type": "stream",
     "text": [
      "+------------+-----------+----------------------+------+\n",
      "| customerId | productId |        score         | rank |\n",
      "+------------+-----------+----------------------+------+\n",
      "|    1553    |     2     | 0.10151444375514984  |  1   |\n",
      "|    1553    |     5     | 0.07988397777080536  |  2   |\n",
      "|    1553    |     35    |  0.0793403834104538  |  3   |\n",
      "|    1553    |     17    | 0.06881895661354065  |  4   |\n",
      "|    1553    |     1     | 0.060543134808540344 |  5   |\n",
      "|    1553    |     8     | 0.054424017667770386 |  6   |\n",
      "|    1553    |     11    | 0.050963833928108215 |  7   |\n",
      "|    1553    |     61    | 0.049317553639411926 |  8   |\n",
      "|    1553    |     9     | 0.04885376989841461  |  9   |\n",
      "|    1553    |     36    | 0.046601518988609314 |  10  |\n",
      "|   20400    |    113    | 0.051524579524993896 |  1   |\n",
      "|   20400    |     85    | 0.04352247714996338  |  2   |\n",
      "|   20400    |     27    |  0.0431901216506958  |  3   |\n",
      "|   20400    |    224    | 0.04251587390899658  |  4   |\n",
      "|   20400    |     54    |  0.042064368724823   |  5   |\n",
      "|   20400    |     6     | 0.04103207588195801  |  6   |\n",
      "|   20400    |     26    | 0.04089254140853882  |  7   |\n",
      "|   20400    |     32    | 0.03894895315170288  |  8   |\n",
      "|   20400    |    284    | 0.03794664144515991  |  9   |\n",
      "|   20400    |    246    | 0.03783619403839111  |  10  |\n",
      "|   19750    |     36    | 0.09994934995969136  |  1   |\n",
      "|   19750    |     48    | 0.08404696981112163  |  2   |\n",
      "|   19750    |     79    | 0.07331780592600505  |  3   |\n",
      "|   19750    |     38    | 0.06924143433570862  |  4   |\n",
      "|   19750    |     5     | 0.060244629780451454 |  5   |\n",
      "|   19750    |     1     | 0.056420862674713135 |  6   |\n",
      "|   19750    |     17    |  0.0525322953859965  |  7   |\n",
      "|   19750    |     2     | 0.05229624112447103  |  8   |\n",
      "|   19750    |     7     | 0.05100711186726888  |  9   |\n",
      "|   19750    |     44    | 0.04933480421702067  |  10  |\n",
      "+------------+-----------+----------------------+------+\n",
      "[10000 rows x 4 columns]\n",
      "\n"
     ]
    },
    {
     "data": {
      "text/html": [
       "<pre>recommendations finished on 1000/1000 queries. users per second: 105641</pre>"
      ],
      "text/plain": [
       "recommendations finished on 1000/1000 queries. users per second: 105641"
      ]
     },
     "metadata": {},
     "output_type": "display_data"
    }
   ],
   "source": [
    "name = 'cosine'\n",
    "target = 'purchase_dummy'\n",
    "cos_dummy = model(train_data_dummy, name, user_id, item_id, target, users_to_recommend, n_rec, n_display)"
   ]
  },
  {
   "cell_type": "code",
   "execution_count": 93,
   "metadata": {},
   "outputs": [
    {
     "data": {
      "text/html": [
       "<pre>Preparing data set.</pre>"
      ],
      "text/plain": [
       "Preparing data set."
      ]
     },
     "metadata": {},
     "output_type": "display_data"
    },
    {
     "data": {
      "text/html": [
       "<pre>    Data has 106868 observations with 23341 users and 300 items.</pre>"
      ],
      "text/plain": [
       "    Data has 106868 observations with 23341 users and 300 items."
      ]
     },
     "metadata": {},
     "output_type": "display_data"
    },
    {
     "data": {
      "text/html": [
       "<pre>    Data prepared in: 0.080926s</pre>"
      ],
      "text/plain": [
       "    Data prepared in: 0.080926s"
      ]
     },
     "metadata": {},
     "output_type": "display_data"
    },
    {
     "data": {
      "text/html": [
       "<pre>Training model from provided data.</pre>"
      ],
      "text/plain": [
       "Training model from provided data."
      ]
     },
     "metadata": {},
     "output_type": "display_data"
    },
    {
     "data": {
      "text/html": [
       "<pre>Gathering per-item and per-user statistics.</pre>"
      ],
      "text/plain": [
       "Gathering per-item and per-user statistics."
      ]
     },
     "metadata": {},
     "output_type": "display_data"
    },
    {
     "data": {
      "text/html": [
       "<pre>+--------------------------------+------------+</pre>"
      ],
      "text/plain": [
       "+--------------------------------+------------+"
      ]
     },
     "metadata": {},
     "output_type": "display_data"
    },
    {
     "data": {
      "text/html": [
       "<pre>| Elapsed Time (Item Statistics) | % Complete |</pre>"
      ],
      "text/plain": [
       "| Elapsed Time (Item Statistics) | % Complete |"
      ]
     },
     "metadata": {},
     "output_type": "display_data"
    },
    {
     "data": {
      "text/html": [
       "<pre>+--------------------------------+------------+</pre>"
      ],
      "text/plain": [
       "+--------------------------------+------------+"
      ]
     },
     "metadata": {},
     "output_type": "display_data"
    },
    {
     "data": {
      "text/html": [
       "<pre>| 903us                          | 4.25       |</pre>"
      ],
      "text/plain": [
       "| 903us                          | 4.25       |"
      ]
     },
     "metadata": {},
     "output_type": "display_data"
    },
    {
     "data": {
      "text/html": [
       "<pre>| 3.553ms                        | 100        |</pre>"
      ],
      "text/plain": [
       "| 3.553ms                        | 100        |"
      ]
     },
     "metadata": {},
     "output_type": "display_data"
    },
    {
     "name": "stdout",
     "output_type": "stream",
     "text": [
      "+------------+-----------+-----------------------+------+\n",
      "| customerId | productId |         score         | rank |\n",
      "+------------+-----------+-----------------------+------+\n",
      "|    1553    |    118    |          0.0          |  1   |\n",
      "|    1553    |     33    |          0.0          |  2   |\n",
      "|    1553    |     16    |          0.0          |  3   |\n",
      "|    1553    |     80    |          0.0          |  4   |\n",
      "|    1553    |     32    |          0.0          |  5   |\n",
      "|    1553    |    262    |          0.0          |  6   |\n",
      "|    1553    |     51    |          0.0          |  7   |\n",
      "|    1553    |    136    |          0.0          |  8   |\n",
      "|    1553    |    106    |          0.0          |  9   |\n",
      "|    1553    |    287    |          0.0          |  10  |\n",
      "|   20400    |     2     | 0.0035287928581237793 |  1   |\n",
      "|   20400    |     1     |  0.003511742353439331 |  2   |\n",
      "|   20400    |     8     | 0.0023563170433044435 |  3   |\n",
      "|   20400    |     0     |  0.002153496742248535 |  4   |\n",
      "|   20400    |    107    | 0.0018621528148651124 |  5   |\n",
      "|   20400    |     72    | 0.0018083083629608155 |  6   |\n",
      "|   20400    |     38    | 0.0017576181888580321 |  7   |\n",
      "|   20400    |     79    | 0.0016624283790588378 |  8   |\n",
      "|   20400    |     20    | 0.0016561806201934814 |  9   |\n",
      "|   20400    |     13    | 0.0016263794898986816 |  10  |\n",
      "|   19750    |    118    |          0.0          |  1   |\n",
      "|   19750    |     33    |          0.0          |  2   |\n",
      "|   19750    |     16    |          0.0          |  3   |\n",
      "|   19750    |     80    |          0.0          |  4   |\n",
      "|   19750    |     32    |          0.0          |  5   |\n",
      "|   19750    |    262    |          0.0          |  6   |\n",
      "|   19750    |     51    |          0.0          |  7   |\n",
      "|   19750    |    136    |          0.0          |  8   |\n",
      "|   19750    |    106    |          0.0          |  9   |\n",
      "|   19750    |    287    |          0.0          |  10  |\n",
      "+------------+-----------+-----------------------+------+\n",
      "[10000 rows x 4 columns]\n",
      "\n"
     ]
    },
    {
     "data": {
      "text/html": [
       "<pre>+--------------------------------+------------+</pre>"
      ],
      "text/plain": [
       "+--------------------------------+------------+"
      ]
     },
     "metadata": {},
     "output_type": "display_data"
    },
    {
     "data": {
      "text/html": [
       "<pre>Setting up lookup tables.</pre>"
      ],
      "text/plain": [
       "Setting up lookup tables."
      ]
     },
     "metadata": {},
     "output_type": "display_data"
    },
    {
     "data": {
      "text/html": [
       "<pre>Processing data in one pass using dense lookup tables.</pre>"
      ],
      "text/plain": [
       "Processing data in one pass using dense lookup tables."
      ]
     },
     "metadata": {},
     "output_type": "display_data"
    }
   ],
   "source": [
    "name = 'cosine'\n",
    "target = 'scaled_purchase_freq'\n",
    "cos_norm = model(train_data_norm, name, user_id, item_id, target, users_to_recommend, n_rec, n_display)"
   ]
  },
  {
   "cell_type": "code",
   "execution_count": 94,
   "metadata": {},
   "outputs": [
    {
     "data": {
      "text/html": [
       "<pre>Preparing data set.</pre>"
      ],
      "text/plain": [
       "Preparing data set."
      ]
     },
     "metadata": {},
     "output_type": "display_data"
    },
    {
     "data": {
      "text/html": [
       "<pre>    Data has 106868 observations with 23268 users and 300 items.</pre>"
      ],
      "text/plain": [
       "    Data has 106868 observations with 23268 users and 300 items."
      ]
     },
     "metadata": {},
     "output_type": "display_data"
    },
    {
     "data": {
      "text/html": [
       "<pre>    Data prepared in: 0.06824s</pre>"
      ],
      "text/plain": [
       "    Data prepared in: 0.06824s"
      ]
     },
     "metadata": {},
     "output_type": "display_data"
    },
    {
     "data": {
      "text/html": [
       "<pre>Training model from provided data.</pre>"
      ],
      "text/plain": [
       "Training model from provided data."
      ]
     },
     "metadata": {},
     "output_type": "display_data"
    },
    {
     "data": {
      "text/html": [
       "<pre>Gathering per-item and per-user statistics.</pre>"
      ],
      "text/plain": [
       "Gathering per-item and per-user statistics."
      ]
     },
     "metadata": {},
     "output_type": "display_data"
    },
    {
     "data": {
      "text/html": [
       "<pre>+--------------------------------+------------+</pre>"
      ],
      "text/plain": [
       "+--------------------------------+------------+"
      ]
     },
     "metadata": {},
     "output_type": "display_data"
    },
    {
     "data": {
      "text/html": [
       "<pre>| Elapsed Time (Item Statistics) | % Complete |</pre>"
      ],
      "text/plain": [
       "| Elapsed Time (Item Statistics) | % Complete |"
      ]
     },
     "metadata": {},
     "output_type": "display_data"
    },
    {
     "data": {
      "text/html": [
       "<pre>+--------------------------------+------------+</pre>"
      ],
      "text/plain": [
       "+--------------------------------+------------+"
      ]
     },
     "metadata": {},
     "output_type": "display_data"
    },
    {
     "data": {
      "text/html": [
       "<pre>| 759us                          | 4.25       |</pre>"
      ],
      "text/plain": [
       "| 759us                          | 4.25       |"
      ]
     },
     "metadata": {},
     "output_type": "display_data"
    },
    {
     "data": {
      "text/html": [
       "<pre>| 5.399ms                        | 100        |</pre>"
      ],
      "text/plain": [
       "| 5.399ms                        | 100        |"
      ]
     },
     "metadata": {},
     "output_type": "display_data"
    },
    {
     "data": {
      "text/html": [
       "<pre>+--------------------------------+------------+</pre>"
      ],
      "text/plain": [
       "+--------------------------------+------------+"
      ]
     },
     "metadata": {},
     "output_type": "display_data"
    },
    {
     "data": {
      "text/html": [
       "<pre>Setting up lookup tables.</pre>"
      ],
      "text/plain": [
       "Setting up lookup tables."
      ]
     },
     "metadata": {},
     "output_type": "display_data"
    },
    {
     "data": {
      "text/html": [
       "<pre>Processing data in one pass using dense lookup tables.</pre>"
      ],
      "text/plain": [
       "Processing data in one pass using dense lookup tables."
      ]
     },
     "metadata": {},
     "output_type": "display_data"
    },
    {
     "data": {
      "text/html": [
       "<pre>+-------------------------------------+------------------+-----------------+</pre>"
      ],
      "text/plain": [
       "+-------------------------------------+------------------+-----------------+"
      ]
     },
     "metadata": {},
     "output_type": "display_data"
    },
    {
     "data": {
      "text/html": [
       "<pre>| Elapsed Time (Constructing Lookups) | Total % Complete | Items Processed |</pre>"
      ],
      "text/plain": [
       "| Elapsed Time (Constructing Lookups) | Total % Complete | Items Processed |"
      ]
     },
     "metadata": {},
     "output_type": "display_data"
    },
    {
     "data": {
      "text/html": [
       "<pre>+-------------------------------------+------------------+-----------------+</pre>"
      ],
      "text/plain": [
       "+-------------------------------------+------------------+-----------------+"
      ]
     },
     "metadata": {},
     "output_type": "display_data"
    },
    {
     "data": {
      "text/html": [
       "<pre>| 5.71ms                              | 0                | 0               |</pre>"
      ],
      "text/plain": [
       "| 5.71ms                              | 0                | 0               |"
      ]
     },
     "metadata": {},
     "output_type": "display_data"
    },
    {
     "name": "stdout",
     "output_type": "stream",
     "text": [
      "+------------+-----------+--------------------+------+\n",
      "| customerId | productId |       score        | rank |\n",
      "+------------+-----------+--------------------+------+\n",
      "|    1553    |    132    | 3.2741935483870965 |  1   |\n",
      "|    1553    |    248    | 3.064912467653102  |  2   |\n",
      "|    1553    |     34    | 3.0094499139493456 |  3   |\n",
      "|    1553    |     0     | 2.966856060606068  |  4   |\n",
      "|    1553    |     37    | 2.9649805447470827 |  5   |\n",
      "|    1553    |     3     | 2.8550414861893723 |  6   |\n",
      "|    1553    |     27    | 2.7642857142857147 |  7   |\n",
      "|    1553    |    110    | 2.6595805409513877 |  8   |\n",
      "|    1553    |     32    | 2.6582914572864316 |  9   |\n",
      "|    1553    |     82    | 2.630356754954727  |  10  |\n",
      "|   20400    |    132    | 3.265402518933819  |  1   |\n",
      "|   20400    |    248    | 3.0681818181818192 |  2   |\n",
      "|   20400    |     34    | 3.0268199233716477 |  3   |\n",
      "|   20400    |     0     | 2.966856060606068  |  4   |\n",
      "|   20400    |     37    | 2.9638395330321474 |  5   |\n",
      "|   20400    |     3     | 2.8556263269639084 |  6   |\n",
      "|   20400    |     27    | 2.7642857142857147 |  7   |\n",
      "|   20400    |    110    | 2.660493827160494  |  8   |\n",
      "|   20400    |     32    | 2.6582914572864316 |  9   |\n",
      "|   20400    |     82    | 2.633187772925766  |  10  |\n",
      "|   19750    |    132    | 3.271572601026104  |  1   |\n",
      "|   19750    |    248    | 3.066485624963588  |  2   |\n",
      "|   19750    |     34    | 3.0172021655744063 |  3   |\n",
      "|   19750    |     0     | 2.966856060606068  |  4   |\n",
      "|   19750    |     37    | 2.9621161600958987 |  5   |\n",
      "|   19750    |     3     | 2.846737140581615  |  6   |\n",
      "|   19750    |     27    | 2.7610415765217375 |  7   |\n",
      "|   19750    |     32    | 2.6583309990077755 |  8   |\n",
      "|   19750    |    110    | 2.6561254861914083 |  9   |\n",
      "|   19750    |     82    | 2.633187772925766  |  10  |\n",
      "+------------+-----------+--------------------+------+\n",
      "[10000 rows x 4 columns]\n",
      "\n"
     ]
    },
    {
     "data": {
      "text/html": [
       "<pre>| 23.466ms                            | 100              | 300             |</pre>"
      ],
      "text/plain": [
       "| 23.466ms                            | 100              | 300             |"
      ]
     },
     "metadata": {},
     "output_type": "display_data"
    },
    {
     "data": {
      "text/html": [
       "<pre>+-------------------------------------+------------------+-----------------+</pre>"
      ],
      "text/plain": [
       "+-------------------------------------+------------------+-----------------+"
      ]
     },
     "metadata": {},
     "output_type": "display_data"
    }
   ],
   "source": [
    "name = 'pearson'\n",
    "target = 'purchase_count'\n",
    "pear = model(train_data, name, user_id, item_id, target, users_to_recommend, n_rec, n_display)"
   ]
  },
  {
   "cell_type": "code",
   "execution_count": 95,
   "metadata": {},
   "outputs": [
    {
     "data": {
      "text/html": [
       "<pre>Warning: Ignoring columns purchase_count;</pre>"
      ],
      "text/plain": [
       "Warning: Ignoring columns purchase_count;"
      ]
     },
     "metadata": {},
     "output_type": "display_data"
    },
    {
     "data": {
      "text/html": [
       "<pre>    To use these columns in scoring predictions, use a model that allows the use of additional features.</pre>"
      ],
      "text/plain": [
       "    To use these columns in scoring predictions, use a model that allows the use of additional features."
      ]
     },
     "metadata": {},
     "output_type": "display_data"
    },
    {
     "data": {
      "text/html": [
       "<pre>Preparing data set.</pre>"
      ],
      "text/plain": [
       "Preparing data set."
      ]
     },
     "metadata": {},
     "output_type": "display_data"
    },
    {
     "data": {
      "text/html": [
       "<pre>    Data has 106868 observations with 23258 users and 300 items.</pre>"
      ],
      "text/plain": [
       "    Data has 106868 observations with 23258 users and 300 items."
      ]
     },
     "metadata": {},
     "output_type": "display_data"
    },
    {
     "data": {
      "text/html": [
       "<pre>    Data prepared in: 0.063078s</pre>"
      ],
      "text/plain": [
       "    Data prepared in: 0.063078s"
      ]
     },
     "metadata": {},
     "output_type": "display_data"
    },
    {
     "data": {
      "text/html": [
       "<pre>Training model from provided data.</pre>"
      ],
      "text/plain": [
       "Training model from provided data."
      ]
     },
     "metadata": {},
     "output_type": "display_data"
    },
    {
     "data": {
      "text/html": [
       "<pre>Gathering per-item and per-user statistics.</pre>"
      ],
      "text/plain": [
       "Gathering per-item and per-user statistics."
      ]
     },
     "metadata": {},
     "output_type": "display_data"
    },
    {
     "data": {
      "text/html": [
       "<pre>+--------------------------------+------------+</pre>"
      ],
      "text/plain": [
       "+--------------------------------+------------+"
      ]
     },
     "metadata": {},
     "output_type": "display_data"
    },
    {
     "data": {
      "text/html": [
       "<pre>| Elapsed Time (Item Statistics) | % Complete |</pre>"
      ],
      "text/plain": [
       "| Elapsed Time (Item Statistics) | % Complete |"
      ]
     },
     "metadata": {},
     "output_type": "display_data"
    },
    {
     "data": {
      "text/html": [
       "<pre>+--------------------------------+------------+</pre>"
      ],
      "text/plain": [
       "+--------------------------------+------------+"
      ]
     },
     "metadata": {},
     "output_type": "display_data"
    },
    {
     "data": {
      "text/html": [
       "<pre>| 774us                          | 4.25       |</pre>"
      ],
      "text/plain": [
       "| 774us                          | 4.25       |"
      ]
     },
     "metadata": {},
     "output_type": "display_data"
    },
    {
     "data": {
      "text/html": [
       "<pre>| 6.49ms                         | 100        |</pre>"
      ],
      "text/plain": [
       "| 6.49ms                         | 100        |"
      ]
     },
     "metadata": {},
     "output_type": "display_data"
    },
    {
     "data": {
      "text/html": [
       "<pre>+--------------------------------+------------+</pre>"
      ],
      "text/plain": [
       "+--------------------------------+------------+"
      ]
     },
     "metadata": {},
     "output_type": "display_data"
    },
    {
     "data": {
      "text/html": [
       "<pre>Setting up lookup tables.</pre>"
      ],
      "text/plain": [
       "Setting up lookup tables."
      ]
     },
     "metadata": {},
     "output_type": "display_data"
    },
    {
     "data": {
      "text/html": [
       "<pre>Processing data in one pass using dense lookup tables.</pre>"
      ],
      "text/plain": [
       "Processing data in one pass using dense lookup tables."
      ]
     },
     "metadata": {},
     "output_type": "display_data"
    },
    {
     "data": {
      "text/html": [
       "<pre>+-------------------------------------+------------------+-----------------+</pre>"
      ],
      "text/plain": [
       "+-------------------------------------+------------------+-----------------+"
      ]
     },
     "metadata": {},
     "output_type": "display_data"
    },
    {
     "data": {
      "text/html": [
       "<pre>| Elapsed Time (Constructing Lookups) | Total % Complete | Items Processed |</pre>"
      ],
      "text/plain": [
       "| Elapsed Time (Constructing Lookups) | Total % Complete | Items Processed |"
      ]
     },
     "metadata": {},
     "output_type": "display_data"
    },
    {
     "data": {
      "text/html": [
       "<pre>+-------------------------------------+------------------+-----------------+</pre>"
      ],
      "text/plain": [
       "+-------------------------------------+------------------+-----------------+"
      ]
     },
     "metadata": {},
     "output_type": "display_data"
    },
    {
     "data": {
      "text/html": [
       "<pre>| 6.812ms                             | 0                | 0               |</pre>"
      ],
      "text/plain": [
       "| 6.812ms                             | 0                | 0               |"
      ]
     },
     "metadata": {},
     "output_type": "display_data"
    },
    {
     "name": "stdout",
     "output_type": "stream",
     "text": [
      "+------------+-----------+-------+------+\n",
      "| customerId | productId | score | rank |\n",
      "+------------+-----------+-------+------+\n",
      "|    1553    |     9     |  0.0  |  1   |\n",
      "|    1553    |    246    |  0.0  |  2   |\n",
      "|    1553    |    122    |  0.0  |  3   |\n",
      "|    1553    |    249    |  0.0  |  4   |\n",
      "|    1553    |    192    |  0.0  |  5   |\n",
      "|    1553    |    141    |  0.0  |  6   |\n",
      "|    1553    |     45    |  0.0  |  7   |\n",
      "|    1553    |    209    |  0.0  |  8   |\n",
      "|    1553    |     7     |  0.0  |  9   |\n",
      "|    1553    |    110    |  0.0  |  10  |\n",
      "|   20400    |     9     |  0.0  |  1   |\n",
      "|   20400    |    246    |  0.0  |  2   |\n",
      "|   20400    |    122    |  0.0  |  3   |\n",
      "|   20400    |    249    |  0.0  |  4   |\n",
      "|   20400    |    192    |  0.0  |  5   |\n",
      "|   20400    |    141    |  0.0  |  6   |\n",
      "|   20400    |     45    |  0.0  |  7   |\n",
      "|   20400    |    209    |  0.0  |  8   |\n",
      "|   20400    |     7     |  0.0  |  9   |\n",
      "|   20400    |    110    |  0.0  |  10  |\n",
      "|   19750    |     9     |  0.0  |  1   |\n",
      "|   19750    |    246    |  0.0  |  2   |\n",
      "|   19750    |    122    |  0.0  |  3   |\n",
      "|   19750    |    249    |  0.0  |  4   |\n",
      "|   19750    |    192    |  0.0  |  5   |\n",
      "|   19750    |    141    |  0.0  |  6   |\n",
      "|   19750    |     45    |  0.0  |  7   |\n",
      "|   19750    |    209    |  0.0  |  8   |\n",
      "|   19750    |     7     |  0.0  |  9   |\n",
      "|   19750    |    110    |  0.0  |  10  |\n",
      "+------------+-----------+-------+------+\n",
      "[10000 rows x 4 columns]\n",
      "\n"
     ]
    },
    {
     "data": {
      "text/html": [
       "<pre>| 19.265ms                            | 100              | 300             |</pre>"
      ],
      "text/plain": [
       "| 19.265ms                            | 100              | 300             |"
      ]
     },
     "metadata": {},
     "output_type": "display_data"
    },
    {
     "data": {
      "text/html": [
       "<pre>+-------------------------------------+------------------+-----------------+</pre>"
      ],
      "text/plain": [
       "+-------------------------------------+------------------+-----------------+"
      ]
     },
     "metadata": {},
     "output_type": "display_data"
    },
    {
     "data": {
      "text/html": [
       "<pre>Finalizing lookup tables.</pre>"
      ],
      "text/plain": [
       "Finalizing lookup tables."
      ]
     },
     "metadata": {},
     "output_type": "display_data"
    }
   ],
   "source": [
    "name = 'pearson'\n",
    "target = 'purchase_dummy'\n",
    "pear_dummy = model(train_data_dummy, name, user_id, item_id, target, users_to_recommend, n_rec, n_display)"
   ]
  },
  {
   "cell_type": "code",
   "execution_count": 96,
   "metadata": {},
   "outputs": [
    {
     "data": {
      "text/html": [
       "<pre>Preparing data set.</pre>"
      ],
      "text/plain": [
       "Preparing data set."
      ]
     },
     "metadata": {},
     "output_type": "display_data"
    },
    {
     "data": {
      "text/html": [
       "<pre>    Data has 106868 observations with 23341 users and 300 items.</pre>"
      ],
      "text/plain": [
       "    Data has 106868 observations with 23341 users and 300 items."
      ]
     },
     "metadata": {},
     "output_type": "display_data"
    },
    {
     "data": {
      "text/html": [
       "<pre>    Data prepared in: 0.068243s</pre>"
      ],
      "text/plain": [
       "    Data prepared in: 0.068243s"
      ]
     },
     "metadata": {},
     "output_type": "display_data"
    },
    {
     "data": {
      "text/html": [
       "<pre>Training model from provided data.</pre>"
      ],
      "text/plain": [
       "Training model from provided data."
      ]
     },
     "metadata": {},
     "output_type": "display_data"
    },
    {
     "data": {
      "text/html": [
       "<pre>Gathering per-item and per-user statistics.</pre>"
      ],
      "text/plain": [
       "Gathering per-item and per-user statistics."
      ]
     },
     "metadata": {},
     "output_type": "display_data"
    },
    {
     "data": {
      "text/html": [
       "<pre>+--------------------------------+------------+</pre>"
      ],
      "text/plain": [
       "+--------------------------------+------------+"
      ]
     },
     "metadata": {},
     "output_type": "display_data"
    },
    {
     "data": {
      "text/html": [
       "<pre>| Elapsed Time (Item Statistics) | % Complete |</pre>"
      ],
      "text/plain": [
       "| Elapsed Time (Item Statistics) | % Complete |"
      ]
     },
     "metadata": {},
     "output_type": "display_data"
    },
    {
     "data": {
      "text/html": [
       "<pre>+--------------------------------+------------+</pre>"
      ],
      "text/plain": [
       "+--------------------------------+------------+"
      ]
     },
     "metadata": {},
     "output_type": "display_data"
    },
    {
     "data": {
      "text/html": [
       "<pre>| 803us                          | 4.25       |</pre>"
      ],
      "text/plain": [
       "| 803us                          | 4.25       |"
      ]
     },
     "metadata": {},
     "output_type": "display_data"
    },
    {
     "data": {
      "text/html": [
       "<pre>| 3.578ms                        | 100        |</pre>"
      ],
      "text/plain": [
       "| 3.578ms                        | 100        |"
      ]
     },
     "metadata": {},
     "output_type": "display_data"
    },
    {
     "data": {
      "text/html": [
       "<pre>+--------------------------------+------------+</pre>"
      ],
      "text/plain": [
       "+--------------------------------+------------+"
      ]
     },
     "metadata": {},
     "output_type": "display_data"
    },
    {
     "data": {
      "text/html": [
       "<pre>Setting up lookup tables.</pre>"
      ],
      "text/plain": [
       "Setting up lookup tables."
      ]
     },
     "metadata": {},
     "output_type": "display_data"
    },
    {
     "data": {
      "text/html": [
       "<pre>Processing data in one pass using dense lookup tables.</pre>"
      ],
      "text/plain": [
       "Processing data in one pass using dense lookup tables."
      ]
     },
     "metadata": {},
     "output_type": "display_data"
    },
    {
     "name": "stdout",
     "output_type": "stream",
     "text": [
      "+------------+-----------+---------------------+------+\n",
      "| customerId | productId |        score        | rank |\n",
      "+------------+-----------+---------------------+------+\n",
      "|    1553    |    226    |  0.7805972082974157 |  1   |\n",
      "|    1553    |    230    | 0.32770691175254973 |  2   |\n",
      "|    1553    |    247    | 0.32299741602067183 |  3   |\n",
      "|    1553    |    294    |  0.2644628099173552 |  4   |\n",
      "|    1553    |    125    | 0.26341907960397226 |  5   |\n",
      "|    1553    |    248    |  0.2553191489361702 |  6   |\n",
      "|    1553    |    155    | 0.23846153846153845 |  7   |\n",
      "|    1553    |    204    | 0.23655913978494625 |  8   |\n",
      "|    1553    |    276    | 0.23424283174368057 |  9   |\n",
      "|    1553    |     72    |   0.22922379911923  |  10  |\n",
      "|   20400    |    226    |  0.7808096011044225 |  1   |\n",
      "|   20400    |    230    |  0.3280463125208298 |  2   |\n",
      "|   20400    |    247    | 0.32299470400933455 |  3   |\n",
      "|   20400    |    294    |  0.2644442132681853 |  4   |\n",
      "|   20400    |    125    |  0.2636924873016499 |  5   |\n",
      "|   20400    |    248    |  0.2553142315529762 |  6   |\n",
      "|   20400    |    155    | 0.23844837060341467 |  7   |\n",
      "|   20400    |    204    |  0.2365451171962164 |  8   |\n",
      "|   20400    |    276    | 0.23459373263212357 |  9   |\n",
      "|   20400    |     72    |  0.2294513255455453 |  10  |\n",
      "|   19750    |    226    |  0.7805045081736288 |  1   |\n",
      "|   19750    |    230    |  0.3280575539568344 |  2   |\n",
      "|   19750    |    247    | 0.32271742320183944 |  3   |\n",
      "|   19750    |    294    |  0.2644628099173552 |  4   |\n",
      "|   19750    |    125    | 0.26327732187730296 |  5   |\n",
      "|   19750    |    248    |  0.2550446695469795 |  6   |\n",
      "|   19750    |    155    | 0.23708391120800604 |  7   |\n",
      "|   19750    |    204    | 0.23607491165079098 |  8   |\n",
      "|   19750    |    276    | 0.23461538461538467 |  9   |\n",
      "|   19750    |     72    | 0.22894341290974207 |  10  |\n",
      "+------------+-----------+---------------------+------+\n",
      "[10000 rows x 4 columns]\n",
      "\n"
     ]
    },
    {
     "data": {
      "text/html": [
       "<pre>+-------------------------------------+------------------+-----------------+</pre>"
      ],
      "text/plain": [
       "+-------------------------------------+------------------+-----------------+"
      ]
     },
     "metadata": {},
     "output_type": "display_data"
    },
    {
     "data": {
      "text/html": [
       "<pre>| Elapsed Time (Constructing Lookups) | Total % Complete | Items Processed |</pre>"
      ],
      "text/plain": [
       "| Elapsed Time (Constructing Lookups) | Total % Complete | Items Processed |"
      ]
     },
     "metadata": {},
     "output_type": "display_data"
    },
    {
     "data": {
      "text/html": [
       "<pre>+-------------------------------------+------------------+-----------------+</pre>"
      ],
      "text/plain": [
       "+-------------------------------------+------------------+-----------------+"
      ]
     },
     "metadata": {},
     "output_type": "display_data"
    }
   ],
   "source": [
    "name = 'pearson'\n",
    "target = 'scaled_purchase_freq'\n",
    "pear_norm = model(train_data_norm, name, user_id, item_id, target, users_to_recommend, n_rec, n_display)"
   ]
  },
  {
   "cell_type": "code",
   "execution_count": 97,
   "metadata": {},
   "outputs": [],
   "source": [
    "models_w_counts = [popularity_model, cos, pear]\n",
    "models_w_dummy = [pop_dummy, cos_dummy, pear_dummy]\n",
    "models_w_norm = [pop_norm, cos_norm, pear_norm]\n",
    "\n",
    "names_w_counts = ['Popularity Model on Purchase Counts', 'Cosine Similarity on Purchase Counts', 'Pearson Similarity on Purchase Counts']\n",
    "names_w_dummy = ['Popularity Model on Purchase Dummy', 'Cosine Similarity on Purchase Dummy', 'Pearson Similarity on Purchase Dummy']\n",
    "names_w_norm = ['Popularity Model on Scaled Purchase Counts', 'Cosine Similarity on Scaled Purchase Counts', 'Pearson Similarity on Scaled Purchase Counts']"
   ]
  },
  {
   "cell_type": "code",
   "execution_count": 98,
   "metadata": {},
   "outputs": [
    {
     "name": "stdout",
     "output_type": "stream",
     "text": [
      "PROGRESS: Evaluate model Popularity Model on Purchase Counts\n"
     ]
    },
    {
     "data": {
      "text/html": [
       "<pre>recommendations finished on 1000/13878 queries. users per second: 75568.7</pre>"
      ],
      "text/plain": [
       "recommendations finished on 1000/13878 queries. users per second: 75568.7"
      ]
     },
     "metadata": {},
     "output_type": "display_data"
    },
    {
     "data": {
      "text/html": [
       "<pre>recommendations finished on 2000/13878 queries. users per second: 101518</pre>"
      ],
      "text/plain": [
       "recommendations finished on 2000/13878 queries. users per second: 101518"
      ]
     },
     "metadata": {},
     "output_type": "display_data"
    },
    {
     "data": {
      "text/html": [
       "<pre>recommendations finished on 3000/13878 queries. users per second: 111940</pre>"
      ],
      "text/plain": [
       "recommendations finished on 3000/13878 queries. users per second: 111940"
      ]
     },
     "metadata": {},
     "output_type": "display_data"
    },
    {
     "data": {
      "text/html": [
       "<pre>recommendations finished on 4000/13878 queries. users per second: 114025</pre>"
      ],
      "text/plain": [
       "recommendations finished on 4000/13878 queries. users per second: 114025"
      ]
     },
     "metadata": {},
     "output_type": "display_data"
    },
    {
     "data": {
      "text/html": [
       "<pre>recommendations finished on 5000/13878 queries. users per second: 120814</pre>"
      ],
      "text/plain": [
       "recommendations finished on 5000/13878 queries. users per second: 120814"
      ]
     },
     "metadata": {},
     "output_type": "display_data"
    },
    {
     "data": {
      "text/html": [
       "<pre>recommendations finished on 6000/13878 queries. users per second: 123358</pre>"
      ],
      "text/plain": [
       "recommendations finished on 6000/13878 queries. users per second: 123358"
      ]
     },
     "metadata": {},
     "output_type": "display_data"
    },
    {
     "data": {
      "text/html": [
       "<pre>recommendations finished on 7000/13878 queries. users per second: 127092</pre>"
      ],
      "text/plain": [
       "recommendations finished on 7000/13878 queries. users per second: 127092"
      ]
     },
     "metadata": {},
     "output_type": "display_data"
    },
    {
     "data": {
      "text/html": [
       "<pre>recommendations finished on 8000/13878 queries. users per second: 131850</pre>"
      ],
      "text/plain": [
       "recommendations finished on 8000/13878 queries. users per second: 131850"
      ]
     },
     "metadata": {},
     "output_type": "display_data"
    },
    {
     "data": {
      "text/html": [
       "<pre>recommendations finished on 9000/13878 queries. users per second: 136834</pre>"
      ],
      "text/plain": [
       "recommendations finished on 9000/13878 queries. users per second: 136834"
      ]
     },
     "metadata": {},
     "output_type": "display_data"
    },
    {
     "data": {
      "text/html": [
       "<pre>recommendations finished on 10000/13878 queries. users per second: 139974</pre>"
      ],
      "text/plain": [
       "recommendations finished on 10000/13878 queries. users per second: 139974"
      ]
     },
     "metadata": {},
     "output_type": "display_data"
    },
    {
     "data": {
      "text/html": [
       "<pre>recommendations finished on 11000/13878 queries. users per second: 142334</pre>"
      ],
      "text/plain": [
       "recommendations finished on 11000/13878 queries. users per second: 142334"
      ]
     },
     "metadata": {},
     "output_type": "display_data"
    },
    {
     "data": {
      "text/html": [
       "<pre>recommendations finished on 12000/13878 queries. users per second: 145164</pre>"
      ],
      "text/plain": [
       "recommendations finished on 12000/13878 queries. users per second: 145164"
      ]
     },
     "metadata": {},
     "output_type": "display_data"
    },
    {
     "data": {
      "text/html": [
       "<pre>recommendations finished on 13000/13878 queries. users per second: 145130</pre>"
      ],
      "text/plain": [
       "recommendations finished on 13000/13878 queries. users per second: 145130"
      ]
     },
     "metadata": {},
     "output_type": "display_data"
    },
    {
     "name": "stdout",
     "output_type": "stream",
     "text": [
      "\n",
      "Precision and recall summary statistics by cutoff\n",
      "+--------+-----------------------+-----------------------+\n",
      "| cutoff |     mean_precision    |      mean_recall      |\n",
      "+--------+-----------------------+-----------------------+\n",
      "|   1    | 0.0008646779074794659 | 0.0005788538213959743 |\n",
      "|   2    | 0.0007565931690445296 | 0.0009799682951433914 |\n",
      "|   3    |  0.002065619445645379 | 0.0031874312769481954 |\n",
      "|   4    |  0.00632295719844358  |  0.013680457809749913 |\n",
      "|   5    |  0.005908632367776373 |  0.01596293298457269  |\n",
      "|   6    |  0.006328961906134424 |  0.020394407260404913 |\n",
      "|   7    | 0.0057130504601321744 |  0.02153538750320098  |\n",
      "|   8    |  0.005449272229427879 |  0.02338162442663316  |\n",
      "|   9    |  0.005332180429456757 |  0.025908662767549575 |\n",
      "|   10   |  0.005238506989479772 |  0.028347574874641547 |\n",
      "+--------+-----------------------+-----------------------+\n",
      "[10 rows x 3 columns]\n",
      "\n",
      "\n",
      "Overall RMSE: 1.0431879520293805\n",
      "\n",
      "Per User RMSE (best)\n",
      "+------------+----------------------+-------+\n",
      "| customerId |         rmse         | count |\n",
      "+------------+----------------------+-------+\n",
      "|    6593    | 0.004388926401080351 |   1   |\n",
      "+------------+----------------------+-------+\n",
      "[1 rows x 3 columns]\n",
      "\n",
      "\n",
      "Per User RMSE (worst)\n",
      "+------------+--------------------+-------+\n",
      "| customerId |        rmse        | count |\n",
      "+------------+--------------------+-------+\n",
      "|    3062    | 19.704066500859156 |   8   |\n",
      "+------------+--------------------+-------+\n",
      "[1 rows x 3 columns]\n",
      "\n",
      "\n",
      "Per Item RMSE (best)\n",
      "+-----------+---------------------+-------+\n",
      "| productId |         rmse        | count |\n",
      "+-----------+---------------------+-------+\n",
      "|    285    | 0.21563254512633512 |   65  |\n",
      "+-----------+---------------------+-------+\n",
      "[1 rows x 3 columns]\n",
      "\n",
      "\n",
      "Per Item RMSE (worst)\n",
      "+-----------+-------------------+-------+\n",
      "| productId |        rmse       | count |\n",
      "+-----------+-------------------+-------+\n",
      "|    245    | 5.195145594649892 |   18  |\n",
      "+-----------+-------------------+-------+\n",
      "[1 rows x 3 columns]\n",
      "\n",
      "PROGRESS: Evaluate model Cosine Similarity on Purchase Counts\n"
     ]
    },
    {
     "data": {
      "text/html": [
       "<pre>recommendations finished on 1000/13878 queries. users per second: 113986</pre>"
      ],
      "text/plain": [
       "recommendations finished on 1000/13878 queries. users per second: 113986"
      ]
     },
     "metadata": {},
     "output_type": "display_data"
    },
    {
     "data": {
      "text/html": [
       "<pre>recommendations finished on 2000/13878 queries. users per second: 130293</pre>"
      ],
      "text/plain": [
       "recommendations finished on 2000/13878 queries. users per second: 130293"
      ]
     },
     "metadata": {},
     "output_type": "display_data"
    },
    {
     "data": {
      "text/html": [
       "<pre>recommendations finished on 3000/13878 queries. users per second: 136376</pre>"
      ],
      "text/plain": [
       "recommendations finished on 3000/13878 queries. users per second: 136376"
      ]
     },
     "metadata": {},
     "output_type": "display_data"
    },
    {
     "data": {
      "text/html": [
       "<pre>recommendations finished on 4000/13878 queries. users per second: 141743</pre>"
      ],
      "text/plain": [
       "recommendations finished on 4000/13878 queries. users per second: 141743"
      ]
     },
     "metadata": {},
     "output_type": "display_data"
    },
    {
     "data": {
      "text/html": [
       "<pre>recommendations finished on 5000/13878 queries. users per second: 142357</pre>"
      ],
      "text/plain": [
       "recommendations finished on 5000/13878 queries. users per second: 142357"
      ]
     },
     "metadata": {},
     "output_type": "display_data"
    },
    {
     "data": {
      "text/html": [
       "<pre>recommendations finished on 6000/13878 queries. users per second: 142990</pre>"
      ],
      "text/plain": [
       "recommendations finished on 6000/13878 queries. users per second: 142990"
      ]
     },
     "metadata": {},
     "output_type": "display_data"
    },
    {
     "data": {
      "text/html": [
       "<pre>recommendations finished on 7000/13878 queries. users per second: 143340</pre>"
      ],
      "text/plain": [
       "recommendations finished on 7000/13878 queries. users per second: 143340"
      ]
     },
     "metadata": {},
     "output_type": "display_data"
    },
    {
     "data": {
      "text/html": [
       "<pre>recommendations finished on 8000/13878 queries. users per second: 146945</pre>"
      ],
      "text/plain": [
       "recommendations finished on 8000/13878 queries. users per second: 146945"
      ]
     },
     "metadata": {},
     "output_type": "display_data"
    },
    {
     "data": {
      "text/html": [
       "<pre>recommendations finished on 9000/13878 queries. users per second: 148436</pre>"
      ],
      "text/plain": [
       "recommendations finished on 9000/13878 queries. users per second: 148436"
      ]
     },
     "metadata": {},
     "output_type": "display_data"
    },
    {
     "data": {
      "text/html": [
       "<pre>recommendations finished on 10000/13878 queries. users per second: 145294</pre>"
      ],
      "text/plain": [
       "recommendations finished on 10000/13878 queries. users per second: 145294"
      ]
     },
     "metadata": {},
     "output_type": "display_data"
    },
    {
     "data": {
      "text/html": [
       "<pre>recommendations finished on 11000/13878 queries. users per second: 144092</pre>"
      ],
      "text/plain": [
       "recommendations finished on 11000/13878 queries. users per second: 144092"
      ]
     },
     "metadata": {},
     "output_type": "display_data"
    },
    {
     "data": {
      "text/html": [
       "<pre>recommendations finished on 12000/13878 queries. users per second: 143730</pre>"
      ],
      "text/plain": [
       "recommendations finished on 12000/13878 queries. users per second: 143730"
      ]
     },
     "metadata": {},
     "output_type": "display_data"
    },
    {
     "data": {
      "text/html": [
       "<pre>recommendations finished on 13000/13878 queries. users per second: 145102</pre>"
      ],
      "text/plain": [
       "recommendations finished on 13000/13878 queries. users per second: 145102"
      ]
     },
     "metadata": {},
     "output_type": "display_data"
    },
    {
     "name": "stdout",
     "output_type": "stream",
     "text": [
      "\n",
      "Precision and recall summary statistics by cutoff\n",
      "+--------+----------------------+---------------------+\n",
      "| cutoff |    mean_precision    |     mean_recall     |\n",
      "+--------+----------------------+---------------------+\n",
      "|   1    | 0.11420954027957922  | 0.06653645591796734 |\n",
      "|   2    | 0.09414180717682663  |  0.1101570861867187 |\n",
      "|   3    | 0.08029495124177354  | 0.13866731925471415 |\n",
      "|   4    | 0.06937238795215454  | 0.15665980954762984 |\n",
      "|   5    | 0.06235768842772746  | 0.17446390638583045 |\n",
      "|   6    | 0.05655233703223318  |  0.1888351402942171 |\n",
      "|   7    | 0.051952730941058026 | 0.20069398988004492 |\n",
      "|   8    | 0.04828685689580627  | 0.21159193906701315 |\n",
      "|   9    | 0.04506733278890617  |  0.2211269680762097 |\n",
      "|   10   | 0.042542153047989695 | 0.23108029172641273 |\n",
      "+--------+----------------------+---------------------+\n",
      "[10 rows x 3 columns]\n",
      "\n",
      "\n",
      "Overall RMSE: 1.8910241709536955\n",
      "\n",
      "Per User RMSE (best)\n",
      "+------------+---------------------+-------+\n",
      "| customerId |         rmse        | count |\n",
      "+------------+---------------------+-------+\n",
      "|   27392    | 0.07104313373565674 |   1   |\n",
      "+------------+---------------------+-------+\n",
      "[1 rows x 3 columns]\n",
      "\n",
      "\n",
      "Per User RMSE (worst)\n",
      "+------------+--------------------+-------+\n",
      "| customerId |        rmse        | count |\n",
      "+------------+--------------------+-------+\n",
      "|    3062    | 20.233044016594853 |   8   |\n",
      "+------------+--------------------+-------+\n",
      "[1 rows x 3 columns]\n",
      "\n",
      "\n",
      "Per Item RMSE (best)\n",
      "+-----------+--------------------+-------+\n",
      "| productId |        rmse        | count |\n",
      "+-----------+--------------------+-------+\n",
      "|    285    | 1.0561913461495012 |   65  |\n",
      "+-----------+--------------------+-------+\n",
      "[1 rows x 3 columns]\n",
      "\n",
      "\n",
      "Per Item RMSE (worst)\n",
      "+-----------+-------------------+-------+\n",
      "| productId |        rmse       | count |\n",
      "+-----------+-------------------+-------+\n",
      "|    245    | 6.274493989644187 |   18  |\n",
      "+-----------+-------------------+-------+\n",
      "[1 rows x 3 columns]\n",
      "\n",
      "PROGRESS: Evaluate model Pearson Similarity on Purchase Counts\n"
     ]
    },
    {
     "data": {
      "text/html": [
       "<pre>recommendations finished on 1000/13878 queries. users per second: 108073</pre>"
      ],
      "text/plain": [
       "recommendations finished on 1000/13878 queries. users per second: 108073"
      ]
     },
     "metadata": {},
     "output_type": "display_data"
    },
    {
     "data": {
      "text/html": [
       "<pre>recommendations finished on 2000/13878 queries. users per second: 128634</pre>"
      ],
      "text/plain": [
       "recommendations finished on 2000/13878 queries. users per second: 128634"
      ]
     },
     "metadata": {},
     "output_type": "display_data"
    },
    {
     "data": {
      "text/html": [
       "<pre>recommendations finished on 3000/13878 queries. users per second: 137243</pre>"
      ],
      "text/plain": [
       "recommendations finished on 3000/13878 queries. users per second: 137243"
      ]
     },
     "metadata": {},
     "output_type": "display_data"
    },
    {
     "data": {
      "text/html": [
       "<pre>recommendations finished on 4000/13878 queries. users per second: 141638</pre>"
      ],
      "text/plain": [
       "recommendations finished on 4000/13878 queries. users per second: 141638"
      ]
     },
     "metadata": {},
     "output_type": "display_data"
    },
    {
     "data": {
      "text/html": [
       "<pre>recommendations finished on 5000/13878 queries. users per second: 143053</pre>"
      ],
      "text/plain": [
       "recommendations finished on 5000/13878 queries. users per second: 143053"
      ]
     },
     "metadata": {},
     "output_type": "display_data"
    },
    {
     "data": {
      "text/html": [
       "<pre>recommendations finished on 6000/13878 queries. users per second: 145458</pre>"
      ],
      "text/plain": [
       "recommendations finished on 6000/13878 queries. users per second: 145458"
      ]
     },
     "metadata": {},
     "output_type": "display_data"
    },
    {
     "data": {
      "text/html": [
       "<pre>recommendations finished on 7000/13878 queries. users per second: 146791</pre>"
      ],
      "text/plain": [
       "recommendations finished on 7000/13878 queries. users per second: 146791"
      ]
     },
     "metadata": {},
     "output_type": "display_data"
    },
    {
     "data": {
      "text/html": [
       "<pre>recommendations finished on 8000/13878 queries. users per second: 149505</pre>"
      ],
      "text/plain": [
       "recommendations finished on 8000/13878 queries. users per second: 149505"
      ]
     },
     "metadata": {},
     "output_type": "display_data"
    },
    {
     "data": {
      "text/html": [
       "<pre>recommendations finished on 9000/13878 queries. users per second: 151518</pre>"
      ],
      "text/plain": [
       "recommendations finished on 9000/13878 queries. users per second: 151518"
      ]
     },
     "metadata": {},
     "output_type": "display_data"
    },
    {
     "data": {
      "text/html": [
       "<pre>recommendations finished on 10000/13878 queries. users per second: 151909</pre>"
      ],
      "text/plain": [
       "recommendations finished on 10000/13878 queries. users per second: 151909"
      ]
     },
     "metadata": {},
     "output_type": "display_data"
    },
    {
     "data": {
      "text/html": [
       "<pre>recommendations finished on 11000/13878 queries. users per second: 154388</pre>"
      ],
      "text/plain": [
       "recommendations finished on 11000/13878 queries. users per second: 154388"
      ]
     },
     "metadata": {},
     "output_type": "display_data"
    },
    {
     "data": {
      "text/html": [
       "<pre>recommendations finished on 12000/13878 queries. users per second: 155966</pre>"
      ],
      "text/plain": [
       "recommendations finished on 12000/13878 queries. users per second: 155966"
      ]
     },
     "metadata": {},
     "output_type": "display_data"
    },
    {
     "data": {
      "text/html": [
       "<pre>recommendations finished on 13000/13878 queries. users per second: 156912</pre>"
      ],
      "text/plain": [
       "recommendations finished on 13000/13878 queries. users per second: 156912"
      ]
     },
     "metadata": {},
     "output_type": "display_data"
    },
    {
     "name": "stdout",
     "output_type": "stream",
     "text": [
      "\n",
      "Precision and recall summary statistics by cutoff\n",
      "+--------+-----------------------+-----------------------+\n",
      "| cutoff |     mean_precision    |      mean_recall      |\n",
      "+--------+-----------------------+-----------------------+\n",
      "|   1    | 0.0009367343997694177 | 0.0006148820675409522 |\n",
      "|   2    |  0.000828649661334486 |  0.001052024787433349 |\n",
      "|   3    | 0.0022097324302252966 |  0.003532501812247871 |\n",
      "|   4    |  0.005548349906326566 |  0.012047177317844257 |\n",
      "|   5    | 0.0059518662631503514 |  0.01607101772300761  |\n",
      "|   6    |  0.006389008983042724 |  0.02053551789113941  |\n",
      "|   7    |  0.00576451938319643  |  0.021691509903162598 |\n",
      "|   8    |  0.005503314598645335 |  0.023780337017304237 |\n",
      "|   9    |  0.005364205537141164 |  0.026036477259825788 |\n",
      "|   10   |  0.005166450497189818 |  0.02787131577322029  |\n",
      "+--------+-----------------------+-----------------------+\n",
      "[10 rows x 3 columns]\n",
      "\n",
      "\n",
      "Overall RMSE: 1.0404484054617749\n",
      "\n",
      "Per User RMSE (best)\n",
      "+------------+------------------------+-------+\n",
      "| customerId |          rmse          | count |\n",
      "+------------+------------------------+-------+\n",
      "|   22450    | 0.00022189333977795656 |   1   |\n",
      "+------------+------------------------+-------+\n",
      "[1 rows x 3 columns]\n",
      "\n",
      "\n",
      "Per User RMSE (worst)\n",
      "+------------+-------------------+-------+\n",
      "| customerId |        rmse       | count |\n",
      "+------------+-------------------+-------+\n",
      "|    3062    | 19.70063588609076 |   8   |\n",
      "+------------+-------------------+-------+\n",
      "[1 rows x 3 columns]\n",
      "\n",
      "\n",
      "Per Item RMSE (best)\n",
      "+-----------+---------------------+-------+\n",
      "| productId |         rmse        | count |\n",
      "+-----------+---------------------+-------+\n",
      "|    285    | 0.21547940552234587 |   65  |\n",
      "+-----------+---------------------+-------+\n",
      "[1 rows x 3 columns]\n",
      "\n",
      "\n",
      "Per Item RMSE (worst)\n",
      "+-----------+-------------------+-------+\n",
      "| productId |        rmse       | count |\n",
      "+-----------+-------------------+-------+\n",
      "|    245    | 5.194935912536496 |   18  |\n",
      "+-----------+-------------------+-------+\n",
      "[1 rows x 3 columns]\n",
      "\n"
     ]
    }
   ],
   "source": [
    "eval_counts = tc.recommender.util.compare_models(test_data, models_w_counts, model_names=names_w_counts)"
   ]
  },
  {
   "cell_type": "code",
   "execution_count": 99,
   "metadata": {},
   "outputs": [
    {
     "name": "stdout",
     "output_type": "stream",
     "text": [
      "PROGRESS: Evaluate model Popularity Model on Purchase Dummy\n"
     ]
    },
    {
     "data": {
      "text/html": [
       "<pre>recommendations finished on 1000/13875 queries. users per second: 87085.3</pre>"
      ],
      "text/plain": [
       "recommendations finished on 1000/13875 queries. users per second: 87085.3"
      ]
     },
     "metadata": {},
     "output_type": "display_data"
    },
    {
     "data": {
      "text/html": [
       "<pre>recommendations finished on 2000/13875 queries. users per second: 114345</pre>"
      ],
      "text/plain": [
       "recommendations finished on 2000/13875 queries. users per second: 114345"
      ]
     },
     "metadata": {},
     "output_type": "display_data"
    },
    {
     "data": {
      "text/html": [
       "<pre>recommendations finished on 3000/13875 queries. users per second: 122961</pre>"
      ],
      "text/plain": [
       "recommendations finished on 3000/13875 queries. users per second: 122961"
      ]
     },
     "metadata": {},
     "output_type": "display_data"
    },
    {
     "data": {
      "text/html": [
       "<pre>recommendations finished on 4000/13875 queries. users per second: 132882</pre>"
      ],
      "text/plain": [
       "recommendations finished on 4000/13875 queries. users per second: 132882"
      ]
     },
     "metadata": {},
     "output_type": "display_data"
    },
    {
     "data": {
      "text/html": [
       "<pre>recommendations finished on 5000/13875 queries. users per second: 143439</pre>"
      ],
      "text/plain": [
       "recommendations finished on 5000/13875 queries. users per second: 143439"
      ]
     },
     "metadata": {},
     "output_type": "display_data"
    },
    {
     "data": {
      "text/html": [
       "<pre>recommendations finished on 6000/13875 queries. users per second: 130585</pre>"
      ],
      "text/plain": [
       "recommendations finished on 6000/13875 queries. users per second: 130585"
      ]
     },
     "metadata": {},
     "output_type": "display_data"
    },
    {
     "data": {
      "text/html": [
       "<pre>recommendations finished on 7000/13875 queries. users per second: 139612</pre>"
      ],
      "text/plain": [
       "recommendations finished on 7000/13875 queries. users per second: 139612"
      ]
     },
     "metadata": {},
     "output_type": "display_data"
    },
    {
     "data": {
      "text/html": [
       "<pre>recommendations finished on 8000/13875 queries. users per second: 146582</pre>"
      ],
      "text/plain": [
       "recommendations finished on 8000/13875 queries. users per second: 146582"
      ]
     },
     "metadata": {},
     "output_type": "display_data"
    },
    {
     "data": {
      "text/html": [
       "<pre>recommendations finished on 9000/13875 queries. users per second: 152809</pre>"
      ],
      "text/plain": [
       "recommendations finished on 9000/13875 queries. users per second: 152809"
      ]
     },
     "metadata": {},
     "output_type": "display_data"
    },
    {
     "data": {
      "text/html": [
       "<pre>recommendations finished on 10000/13875 queries. users per second: 158015</pre>"
      ],
      "text/plain": [
       "recommendations finished on 10000/13875 queries. users per second: 158015"
      ]
     },
     "metadata": {},
     "output_type": "display_data"
    },
    {
     "data": {
      "text/html": [
       "<pre>recommendations finished on 11000/13875 queries. users per second: 161877</pre>"
      ],
      "text/plain": [
       "recommendations finished on 11000/13875 queries. users per second: 161877"
      ]
     },
     "metadata": {},
     "output_type": "display_data"
    },
    {
     "data": {
      "text/html": [
       "<pre>recommendations finished on 12000/13875 queries. users per second: 165952</pre>"
      ],
      "text/plain": [
       "recommendations finished on 12000/13875 queries. users per second: 165952"
      ]
     },
     "metadata": {},
     "output_type": "display_data"
    },
    {
     "data": {
      "text/html": [
       "<pre>recommendations finished on 13000/13875 queries. users per second: 166181</pre>"
      ],
      "text/plain": [
       "recommendations finished on 13000/13875 queries. users per second: 166181"
      ]
     },
     "metadata": {},
     "output_type": "display_data"
    },
    {
     "name": "stdout",
     "output_type": "stream",
     "text": [
      "\n",
      "Precision and recall summary statistics by cutoff\n",
      "+--------+-----------------------+-----------------------+\n",
      "| cutoff |     mean_precision    |      mean_recall      |\n",
      "+--------+-----------------------+-----------------------+\n",
      "|   1    | 0.0032432432432432418 | 0.0015414999414999416 |\n",
      "|   2    |  0.011279279279279296 |  0.012499654979654988 |\n",
      "|   3    |  0.009129129129129077 |  0.015105946985946996 |\n",
      "|   4    |  0.009639639639639652 |  0.02147813708754887  |\n",
      "|   5    |  0.008936936936937022 |  0.024681221490633235 |\n",
      "|   6    |  0.008276276276276334 |  0.02753916514857689  |\n",
      "|   7    |  0.007660231660231652 |  0.029795501484913188 |\n",
      "|   8    |  0.007531531531531532 |  0.03351838280779442  |\n",
      "|   9    |  0.007295295295295394 |  0.03672759201700381  |\n",
      "|   10   |  0.008050450450450384 |  0.04510937984400897  |\n",
      "+--------+-----------------------+-----------------------+\n",
      "[10 rows x 3 columns]\n",
      "\n",
      "\n",
      "Overall RMSE: 0.0\n",
      "\n",
      "Per User RMSE (best)\n",
      "+------------+------+-------+\n",
      "| customerId | rmse | count |\n",
      "+------------+------+-------+\n",
      "|    940     | 0.0  |   8   |\n",
      "+------------+------+-------+\n",
      "[1 rows x 3 columns]\n",
      "\n",
      "\n",
      "Per User RMSE (worst)\n",
      "+------------+------+-------+\n",
      "| customerId | rmse | count |\n",
      "+------------+------+-------+\n",
      "|    7899    | 0.0  |   1   |\n",
      "+------------+------+-------+\n",
      "[1 rows x 3 columns]\n",
      "\n",
      "\n",
      "Per Item RMSE (best)\n",
      "+-----------+------+-------+\n",
      "| productId | rmse | count |\n",
      "+-----------+------+-------+\n",
      "|    215    | 0.0  |   75  |\n",
      "+-----------+------+-------+\n",
      "[1 rows x 3 columns]\n",
      "\n",
      "\n",
      "Per Item RMSE (worst)\n",
      "+-----------+------+-------+\n",
      "| productId | rmse | count |\n",
      "+-----------+------+-------+\n",
      "|    232    | 0.0  |   77  |\n",
      "+-----------+------+-------+\n",
      "[1 rows x 3 columns]\n",
      "\n",
      "PROGRESS: Evaluate model Cosine Similarity on Purchase Dummy\n"
     ]
    },
    {
     "data": {
      "text/html": [
       "<pre>recommendations finished on 1000/13875 queries. users per second: 87788.6</pre>"
      ],
      "text/plain": [
       "recommendations finished on 1000/13875 queries. users per second: 87788.6"
      ]
     },
     "metadata": {},
     "output_type": "display_data"
    },
    {
     "data": {
      "text/html": [
       "<pre>recommendations finished on 2000/13875 queries. users per second: 110902</pre>"
      ],
      "text/plain": [
       "recommendations finished on 2000/13875 queries. users per second: 110902"
      ]
     },
     "metadata": {},
     "output_type": "display_data"
    },
    {
     "data": {
      "text/html": [
       "<pre>recommendations finished on 3000/13875 queries. users per second: 120690</pre>"
      ],
      "text/plain": [
       "recommendations finished on 3000/13875 queries. users per second: 120690"
      ]
     },
     "metadata": {},
     "output_type": "display_data"
    },
    {
     "data": {
      "text/html": [
       "<pre>recommendations finished on 4000/13875 queries. users per second: 127466</pre>"
      ],
      "text/plain": [
       "recommendations finished on 4000/13875 queries. users per second: 127466"
      ]
     },
     "metadata": {},
     "output_type": "display_data"
    },
    {
     "data": {
      "text/html": [
       "<pre>recommendations finished on 5000/13875 queries. users per second: 130487</pre>"
      ],
      "text/plain": [
       "recommendations finished on 5000/13875 queries. users per second: 130487"
      ]
     },
     "metadata": {},
     "output_type": "display_data"
    },
    {
     "data": {
      "text/html": [
       "<pre>recommendations finished on 6000/13875 queries. users per second: 133114</pre>"
      ],
      "text/plain": [
       "recommendations finished on 6000/13875 queries. users per second: 133114"
      ]
     },
     "metadata": {},
     "output_type": "display_data"
    },
    {
     "data": {
      "text/html": [
       "<pre>recommendations finished on 7000/13875 queries. users per second: 135912</pre>"
      ],
      "text/plain": [
       "recommendations finished on 7000/13875 queries. users per second: 135912"
      ]
     },
     "metadata": {},
     "output_type": "display_data"
    },
    {
     "data": {
      "text/html": [
       "<pre>recommendations finished on 8000/13875 queries. users per second: 138756</pre>"
      ],
      "text/plain": [
       "recommendations finished on 8000/13875 queries. users per second: 138756"
      ]
     },
     "metadata": {},
     "output_type": "display_data"
    },
    {
     "data": {
      "text/html": [
       "<pre>recommendations finished on 9000/13875 queries. users per second: 140599</pre>"
      ],
      "text/plain": [
       "recommendations finished on 9000/13875 queries. users per second: 140599"
      ]
     },
     "metadata": {},
     "output_type": "display_data"
    },
    {
     "data": {
      "text/html": [
       "<pre>recommendations finished on 10000/13875 queries. users per second: 142477</pre>"
      ],
      "text/plain": [
       "recommendations finished on 10000/13875 queries. users per second: 142477"
      ]
     },
     "metadata": {},
     "output_type": "display_data"
    },
    {
     "data": {
      "text/html": [
       "<pre>recommendations finished on 11000/13875 queries. users per second: 139276</pre>"
      ],
      "text/plain": [
       "recommendations finished on 11000/13875 queries. users per second: 139276"
      ]
     },
     "metadata": {},
     "output_type": "display_data"
    },
    {
     "data": {
      "text/html": [
       "<pre>recommendations finished on 12000/13875 queries. users per second: 139050</pre>"
      ],
      "text/plain": [
       "recommendations finished on 12000/13875 queries. users per second: 139050"
      ]
     },
     "metadata": {},
     "output_type": "display_data"
    },
    {
     "data": {
      "text/html": [
       "<pre>recommendations finished on 13000/13875 queries. users per second: 139107</pre>"
      ],
      "text/plain": [
       "recommendations finished on 13000/13875 queries. users per second: 139107"
      ]
     },
     "metadata": {},
     "output_type": "display_data"
    },
    {
     "name": "stdout",
     "output_type": "stream",
     "text": [
      "\n",
      "Precision and recall summary statistics by cutoff\n",
      "+--------+----------------------+---------------------+\n",
      "| cutoff |    mean_precision    |     mean_recall     |\n",
      "+--------+----------------------+---------------------+\n",
      "|   1    | 0.11142342342342343  | 0.06493817070338812 |\n",
      "|   2    |  0.0875675675675677  | 0.09955740603203508 |\n",
      "|   3    | 0.07466666666666703  | 0.12575365630828522 |\n",
      "|   4    | 0.06448648648648642  |  0.1432791327137613 |\n",
      "|   5    | 0.05676396396396416  |  0.156803732918362  |\n",
      "|   6    | 0.05112312312312301  | 0.16783252071236737 |\n",
      "|   7    | 0.04659974259974285  |  0.1776932021730489 |\n",
      "|   8    |  0.043027027027027   | 0.18682316070300697 |\n",
      "|   9    | 0.040320320320319986 | 0.19552260560245258 |\n",
      "|   10   | 0.03806846846846856  | 0.20453393381378054 |\n",
      "+--------+----------------------+---------------------+\n",
      "[10 rows x 3 columns]\n",
      "\n",
      "\n",
      "Overall RMSE: 0.9744590204324248\n",
      "\n",
      "Per User RMSE (best)\n",
      "+------------+--------------------+-------+\n",
      "| customerId |        rmse        | count |\n",
      "+------------+--------------------+-------+\n",
      "|   21934    | 0.4163441061973572 |   1   |\n",
      "+------------+--------------------+-------+\n",
      "[1 rows x 3 columns]\n",
      "\n",
      "\n",
      "Per User RMSE (worst)\n",
      "+------------+------+-------+\n",
      "| customerId | rmse | count |\n",
      "+------------+------+-------+\n",
      "|   25095    | 1.0  |   1   |\n",
      "+------------+------+-------+\n",
      "[1 rows x 3 columns]\n",
      "\n",
      "\n",
      "Per Item RMSE (best)\n",
      "+-----------+--------------------+-------+\n",
      "| productId |        rmse        | count |\n",
      "+-----------+--------------------+-------+\n",
      "|     8     | 0.8842947161066055 |  223  |\n",
      "+-----------+--------------------+-------+\n",
      "[1 rows x 3 columns]\n",
      "\n",
      "\n",
      "Per Item RMSE (worst)\n",
      "+-----------+------+-------+\n",
      "| productId | rmse | count |\n",
      "+-----------+------+-------+\n",
      "|    230    | 1.0  |   42  |\n",
      "+-----------+------+-------+\n",
      "[1 rows x 3 columns]\n",
      "\n",
      "PROGRESS: Evaluate model Pearson Similarity on Purchase Dummy\n"
     ]
    },
    {
     "data": {
      "text/html": [
       "<pre>recommendations finished on 1000/13875 queries. users per second: 101605</pre>"
      ],
      "text/plain": [
       "recommendations finished on 1000/13875 queries. users per second: 101605"
      ]
     },
     "metadata": {},
     "output_type": "display_data"
    },
    {
     "data": {
      "text/html": [
       "<pre>recommendations finished on 2000/13875 queries. users per second: 125321</pre>"
      ],
      "text/plain": [
       "recommendations finished on 2000/13875 queries. users per second: 125321"
      ]
     },
     "metadata": {},
     "output_type": "display_data"
    },
    {
     "data": {
      "text/html": [
       "<pre>recommendations finished on 3000/13875 queries. users per second: 138014</pre>"
      ],
      "text/plain": [
       "recommendations finished on 3000/13875 queries. users per second: 138014"
      ]
     },
     "metadata": {},
     "output_type": "display_data"
    },
    {
     "data": {
      "text/html": [
       "<pre>recommendations finished on 4000/13875 queries. users per second: 144796</pre>"
      ],
      "text/plain": [
       "recommendations finished on 4000/13875 queries. users per second: 144796"
      ]
     },
     "metadata": {},
     "output_type": "display_data"
    },
    {
     "data": {
      "text/html": [
       "<pre>recommendations finished on 5000/13875 queries. users per second: 148509</pre>"
      ],
      "text/plain": [
       "recommendations finished on 5000/13875 queries. users per second: 148509"
      ]
     },
     "metadata": {},
     "output_type": "display_data"
    },
    {
     "data": {
      "text/html": [
       "<pre>recommendations finished on 6000/13875 queries. users per second: 151225</pre>"
      ],
      "text/plain": [
       "recommendations finished on 6000/13875 queries. users per second: 151225"
      ]
     },
     "metadata": {},
     "output_type": "display_data"
    },
    {
     "data": {
      "text/html": [
       "<pre>recommendations finished on 7000/13875 queries. users per second: 153334</pre>"
      ],
      "text/plain": [
       "recommendations finished on 7000/13875 queries. users per second: 153334"
      ]
     },
     "metadata": {},
     "output_type": "display_data"
    },
    {
     "data": {
      "text/html": [
       "<pre>recommendations finished on 8000/13875 queries. users per second: 154607</pre>"
      ],
      "text/plain": [
       "recommendations finished on 8000/13875 queries. users per second: 154607"
      ]
     },
     "metadata": {},
     "output_type": "display_data"
    },
    {
     "data": {
      "text/html": [
       "<pre>recommendations finished on 9000/13875 queries. users per second: 155723</pre>"
      ],
      "text/plain": [
       "recommendations finished on 9000/13875 queries. users per second: 155723"
      ]
     },
     "metadata": {},
     "output_type": "display_data"
    },
    {
     "data": {
      "text/html": [
       "<pre>recommendations finished on 10000/13875 queries. users per second: 156421</pre>"
      ],
      "text/plain": [
       "recommendations finished on 10000/13875 queries. users per second: 156421"
      ]
     },
     "metadata": {},
     "output_type": "display_data"
    },
    {
     "data": {
      "text/html": [
       "<pre>recommendations finished on 11000/13875 queries. users per second: 157778</pre>"
      ],
      "text/plain": [
       "recommendations finished on 11000/13875 queries. users per second: 157778"
      ]
     },
     "metadata": {},
     "output_type": "display_data"
    },
    {
     "data": {
      "text/html": [
       "<pre>recommendations finished on 12000/13875 queries. users per second: 157551</pre>"
      ],
      "text/plain": [
       "recommendations finished on 12000/13875 queries. users per second: 157551"
      ]
     },
     "metadata": {},
     "output_type": "display_data"
    },
    {
     "data": {
      "text/html": [
       "<pre>recommendations finished on 13000/13875 queries. users per second: 155409</pre>"
      ],
      "text/plain": [
       "recommendations finished on 13000/13875 queries. users per second: 155409"
      ]
     },
     "metadata": {},
     "output_type": "display_data"
    },
    {
     "name": "stdout",
     "output_type": "stream",
     "text": [
      "\n",
      "Precision and recall summary statistics by cutoff\n",
      "+--------+-----------------------+-----------------------+\n",
      "| cutoff |     mean_precision    |      mean_recall      |\n",
      "+--------+-----------------------+-----------------------+\n",
      "|   1    | 0.0032432432432432474 | 0.0015414999414999396 |\n",
      "|   2    |  0.01127927927927927  |  0.012499654979654985 |\n",
      "|   3    |  0.00912912912912908  |  0.015105946985946988 |\n",
      "|   4    |  0.00963963963963963  |  0.021478137087548872 |\n",
      "|   5    |  0.008936936936937033 |  0.024681221490633204 |\n",
      "|   6    |  0.008276276276276317 |  0.02753916514857687  |\n",
      "|   7    |  0.007660231660231662 |  0.02979550148491322  |\n",
      "|   8    |  0.007531531531531532 |  0.03351838280779453  |\n",
      "|   9    |  0.007295295295295389 |  0.03672759201700365  |\n",
      "|   10   |  0.008050450450450365 |  0.04510937984400901  |\n",
      "+--------+-----------------------+-----------------------+\n",
      "[10 rows x 3 columns]\n",
      "\n",
      "\n",
      "Overall RMSE: 1.0\n",
      "\n",
      "Per User RMSE (best)\n",
      "+------------+------+-------+\n",
      "| customerId | rmse | count |\n",
      "+------------+------+-------+\n",
      "|    940     | 1.0  |   8   |\n",
      "+------------+------+-------+\n",
      "[1 rows x 3 columns]\n",
      "\n",
      "\n",
      "Per User RMSE (worst)\n",
      "+------------+------+-------+\n",
      "| customerId | rmse | count |\n",
      "+------------+------+-------+\n",
      "|    7899    | 1.0  |   1   |\n",
      "+------------+------+-------+\n",
      "[1 rows x 3 columns]\n",
      "\n",
      "\n",
      "Per Item RMSE (best)\n",
      "+-----------+------+-------+\n",
      "| productId | rmse | count |\n",
      "+-----------+------+-------+\n",
      "|    215    | 1.0  |   75  |\n",
      "+-----------+------+-------+\n",
      "[1 rows x 3 columns]\n",
      "\n",
      "\n",
      "Per Item RMSE (worst)\n",
      "+-----------+------+-------+\n",
      "| productId | rmse | count |\n",
      "+-----------+------+-------+\n",
      "|    232    | 1.0  |   77  |\n",
      "+-----------+------+-------+\n",
      "[1 rows x 3 columns]\n",
      "\n"
     ]
    }
   ],
   "source": [
    "eval_dummy = tc.recommender.util.compare_models(test_data_dummy, models_w_dummy, model_names=names_w_dummy)"
   ]
  },
  {
   "cell_type": "code",
   "execution_count": 100,
   "metadata": {},
   "outputs": [
    {
     "name": "stdout",
     "output_type": "stream",
     "text": [
      "PROGRESS: Evaluate model Popularity Model on Scaled Purchase Counts\n"
     ]
    },
    {
     "data": {
      "text/html": [
       "<pre>recommendations finished on 1000/13852 queries. users per second: 89525.5</pre>"
      ],
      "text/plain": [
       "recommendations finished on 1000/13852 queries. users per second: 89525.5"
      ]
     },
     "metadata": {},
     "output_type": "display_data"
    },
    {
     "data": {
      "text/html": [
       "<pre>recommendations finished on 2000/13852 queries. users per second: 115174</pre>"
      ],
      "text/plain": [
       "recommendations finished on 2000/13852 queries. users per second: 115174"
      ]
     },
     "metadata": {},
     "output_type": "display_data"
    },
    {
     "data": {
      "text/html": [
       "<pre>recommendations finished on 3000/13852 queries. users per second: 127378</pre>"
      ],
      "text/plain": [
       "recommendations finished on 3000/13852 queries. users per second: 127378"
      ]
     },
     "metadata": {},
     "output_type": "display_data"
    },
    {
     "data": {
      "text/html": [
       "<pre>recommendations finished on 4000/13852 queries. users per second: 135350</pre>"
      ],
      "text/plain": [
       "recommendations finished on 4000/13852 queries. users per second: 135350"
      ]
     },
     "metadata": {},
     "output_type": "display_data"
    },
    {
     "data": {
      "text/html": [
       "<pre>recommendations finished on 5000/13852 queries. users per second: 139614</pre>"
      ],
      "text/plain": [
       "recommendations finished on 5000/13852 queries. users per second: 139614"
      ]
     },
     "metadata": {},
     "output_type": "display_data"
    },
    {
     "data": {
      "text/html": [
       "<pre>recommendations finished on 6000/13852 queries. users per second: 144523</pre>"
      ],
      "text/plain": [
       "recommendations finished on 6000/13852 queries. users per second: 144523"
      ]
     },
     "metadata": {},
     "output_type": "display_data"
    },
    {
     "data": {
      "text/html": [
       "<pre>recommendations finished on 7000/13852 queries. users per second: 145864</pre>"
      ],
      "text/plain": [
       "recommendations finished on 7000/13852 queries. users per second: 145864"
      ]
     },
     "metadata": {},
     "output_type": "display_data"
    },
    {
     "data": {
      "text/html": [
       "<pre>recommendations finished on 8000/13852 queries. users per second: 148069</pre>"
      ],
      "text/plain": [
       "recommendations finished on 8000/13852 queries. users per second: 148069"
      ]
     },
     "metadata": {},
     "output_type": "display_data"
    },
    {
     "data": {
      "text/html": [
       "<pre>recommendations finished on 9000/13852 queries. users per second: 149571</pre>"
      ],
      "text/plain": [
       "recommendations finished on 9000/13852 queries. users per second: 149571"
      ]
     },
     "metadata": {},
     "output_type": "display_data"
    },
    {
     "data": {
      "text/html": [
       "<pre>recommendations finished on 10000/13852 queries. users per second: 150893</pre>"
      ],
      "text/plain": [
       "recommendations finished on 10000/13852 queries. users per second: 150893"
      ]
     },
     "metadata": {},
     "output_type": "display_data"
    },
    {
     "data": {
      "text/html": [
       "<pre>recommendations finished on 11000/13852 queries. users per second: 151930</pre>"
      ],
      "text/plain": [
       "recommendations finished on 11000/13852 queries. users per second: 151930"
      ]
     },
     "metadata": {},
     "output_type": "display_data"
    },
    {
     "data": {
      "text/html": [
       "<pre>recommendations finished on 12000/13852 queries. users per second: 152329</pre>"
      ],
      "text/plain": [
       "recommendations finished on 12000/13852 queries. users per second: 152329"
      ]
     },
     "metadata": {},
     "output_type": "display_data"
    },
    {
     "data": {
      "text/html": [
       "<pre>recommendations finished on 13000/13852 queries. users per second: 151528</pre>"
      ],
      "text/plain": [
       "recommendations finished on 13000/13852 queries. users per second: 151528"
      ]
     },
     "metadata": {},
     "output_type": "display_data"
    },
    {
     "name": "stdout",
     "output_type": "stream",
     "text": [
      "\n",
      "Precision and recall summary statistics by cutoff\n",
      "+--------+-----------------------+-----------------------+\n",
      "| cutoff |     mean_precision    |      mean_recall      |\n",
      "+--------+-----------------------+-----------------------+\n",
      "|   1    | 0.0025267109442679756 | 0.0015360511805068526 |\n",
      "|   2    | 0.0022740398498411864 | 0.0027524820208187175 |\n",
      "|   3    | 0.0022379439792087805 |  0.003899072820528203 |\n",
      "|   4    | 0.0024364712676869776 | 0.0056164032810004545 |\n",
      "|   5    |  0.002425642506497254 | 0.0070663400272842946 |\n",
      "|   6    | 0.0021296563673115837 |  0.007378168243025309 |\n",
      "|   7    | 0.0020007425436244296 |  0.007931596853869153 |\n",
      "|   8    | 0.0019491770141495813 |  0.008836600543669259 |\n",
      "|   9    | 0.0020454326691693074 |  0.010124993945114933 |\n",
      "|   10   | 0.0026927519491770297 |  0.014436387864507686 |\n",
      "+--------+-----------------------+-----------------------+\n",
      "[10 rows x 3 columns]\n",
      "\n",
      "\n",
      "Overall RMSE: 0.13422725980997718\n",
      "\n",
      "Per User RMSE (best)\n",
      "+------------+-----------------------+-------+\n",
      "| customerId |          rmse         | count |\n",
      "+------------+-----------------------+-------+\n",
      "|   21732    | 0.0003772161448510336 |   1   |\n",
      "+------------+-----------------------+-------+\n",
      "[1 rows x 3 columns]\n",
      "\n",
      "\n",
      "Per User RMSE (worst)\n",
      "+------------+--------------------+-------+\n",
      "| customerId |        rmse        | count |\n",
      "+------------+--------------------+-------+\n",
      "|    6688    | 0.9681818181818183 |   1   |\n",
      "+------------+--------------------+-------+\n",
      "[1 rows x 3 columns]\n",
      "\n",
      "\n",
      "Per Item RMSE (best)\n",
      "+-----------+----------------------+-------+\n",
      "| productId |         rmse         | count |\n",
      "+-----------+----------------------+-------+\n",
      "|    173    | 0.023548028966946424 |   41  |\n",
      "+-----------+----------------------+-------+\n",
      "[1 rows x 3 columns]\n",
      "\n",
      "\n",
      "Per Item RMSE (worst)\n",
      "+-----------+--------------------+-------+\n",
      "| productId |        rmse        | count |\n",
      "+-----------+--------------------+-------+\n",
      "|    226    | 0.4090204079044518 |   34  |\n",
      "+-----------+--------------------+-------+\n",
      "[1 rows x 3 columns]\n",
      "\n",
      "PROGRESS: Evaluate model Cosine Similarity on Scaled Purchase Counts\n"
     ]
    },
    {
     "data": {
      "text/html": [
       "<pre>recommendations finished on 1000/13852 queries. users per second: 95748.8</pre>"
      ],
      "text/plain": [
       "recommendations finished on 1000/13852 queries. users per second: 95748.8"
      ]
     },
     "metadata": {},
     "output_type": "display_data"
    },
    {
     "data": {
      "text/html": [
       "<pre>recommendations finished on 2000/13852 queries. users per second: 118821</pre>"
      ],
      "text/plain": [
       "recommendations finished on 2000/13852 queries. users per second: 118821"
      ]
     },
     "metadata": {},
     "output_type": "display_data"
    },
    {
     "data": {
      "text/html": [
       "<pre>recommendations finished on 3000/13852 queries. users per second: 128894</pre>"
      ],
      "text/plain": [
       "recommendations finished on 3000/13852 queries. users per second: 128894"
      ]
     },
     "metadata": {},
     "output_type": "display_data"
    },
    {
     "data": {
      "text/html": [
       "<pre>recommendations finished on 4000/13852 queries. users per second: 135616</pre>"
      ],
      "text/plain": [
       "recommendations finished on 4000/13852 queries. users per second: 135616"
      ]
     },
     "metadata": {},
     "output_type": "display_data"
    },
    {
     "data": {
      "text/html": [
       "<pre>recommendations finished on 5000/13852 queries. users per second: 140292</pre>"
      ],
      "text/plain": [
       "recommendations finished on 5000/13852 queries. users per second: 140292"
      ]
     },
     "metadata": {},
     "output_type": "display_data"
    },
    {
     "data": {
      "text/html": [
       "<pre>recommendations finished on 6000/13852 queries. users per second: 141894</pre>"
      ],
      "text/plain": [
       "recommendations finished on 6000/13852 queries. users per second: 141894"
      ]
     },
     "metadata": {},
     "output_type": "display_data"
    },
    {
     "data": {
      "text/html": [
       "<pre>recommendations finished on 7000/13852 queries. users per second: 144512</pre>"
      ],
      "text/plain": [
       "recommendations finished on 7000/13852 queries. users per second: 144512"
      ]
     },
     "metadata": {},
     "output_type": "display_data"
    },
    {
     "data": {
      "text/html": [
       "<pre>recommendations finished on 8000/13852 queries. users per second: 146349</pre>"
      ],
      "text/plain": [
       "recommendations finished on 8000/13852 queries. users per second: 146349"
      ]
     },
     "metadata": {},
     "output_type": "display_data"
    },
    {
     "data": {
      "text/html": [
       "<pre>recommendations finished on 9000/13852 queries. users per second: 147129</pre>"
      ],
      "text/plain": [
       "recommendations finished on 9000/13852 queries. users per second: 147129"
      ]
     },
     "metadata": {},
     "output_type": "display_data"
    },
    {
     "data": {
      "text/html": [
       "<pre>recommendations finished on 10000/13852 queries. users per second: 147914</pre>"
      ],
      "text/plain": [
       "recommendations finished on 10000/13852 queries. users per second: 147914"
      ]
     },
     "metadata": {},
     "output_type": "display_data"
    },
    {
     "data": {
      "text/html": [
       "<pre>recommendations finished on 11000/13852 queries. users per second: 148707</pre>"
      ],
      "text/plain": [
       "recommendations finished on 11000/13852 queries. users per second: 148707"
      ]
     },
     "metadata": {},
     "output_type": "display_data"
    },
    {
     "data": {
      "text/html": [
       "<pre>recommendations finished on 12000/13852 queries. users per second: 147689</pre>"
      ],
      "text/plain": [
       "recommendations finished on 12000/13852 queries. users per second: 147689"
      ]
     },
     "metadata": {},
     "output_type": "display_data"
    },
    {
     "data": {
      "text/html": [
       "<pre>recommendations finished on 13000/13852 queries. users per second: 146141</pre>"
      ],
      "text/plain": [
       "recommendations finished on 13000/13852 queries. users per second: 146141"
      ]
     },
     "metadata": {},
     "output_type": "display_data"
    },
    {
     "name": "stdout",
     "output_type": "stream",
     "text": [
      "\n",
      "Precision and recall summary statistics by cutoff\n",
      "+--------+----------------------+----------------------+\n",
      "| cutoff |    mean_precision    |     mean_recall      |\n",
      "+--------+----------------------+----------------------+\n",
      "|   1    | 0.06656078544614484  | 0.03744709851779688  |\n",
      "|   2    | 0.05291654634709789  | 0.058857781138147394 |\n",
      "|   3    | 0.04536047742804893  | 0.07427112029193059  |\n",
      "|   4    | 0.04026494369044189  | 0.08702096676443935  |\n",
      "|   5    | 0.03674559630378234  | 0.09794649706081829  |\n",
      "|   6    | 0.033521031860621865 | 0.10660423266592618  |\n",
      "|   7    | 0.03125902396765839  | 0.11597981459430311  |\n",
      "|   8    | 0.02922863124458562  | 0.12355374900922166  |\n",
      "|   9    |  0.0278018416915326  | 0.13235367852827637  |\n",
      "|   10   | 0.026270574646260487 | 0.13866028381697781  |\n",
      "+--------+----------------------+----------------------+\n",
      "[10 rows x 3 columns]\n",
      "\n",
      "\n",
      "Overall RMSE: 0.16134386397582312\n",
      "\n",
      "Per User RMSE (best)\n",
      "+------------+------+-------+\n",
      "| customerId | rmse | count |\n",
      "+------------+------+-------+\n",
      "|   21172    | 0.0  |   1   |\n",
      "+------------+------+-------+\n",
      "[1 rows x 3 columns]\n",
      "\n",
      "\n",
      "Per User RMSE (worst)\n",
      "+------------+------+-------+\n",
      "| customerId | rmse | count |\n",
      "+------------+------+-------+\n",
      "|   17130    | 1.0  |   1   |\n",
      "+------------+------+-------+\n",
      "[1 rows x 3 columns]\n",
      "\n",
      "\n",
      "Per Item RMSE (best)\n",
      "+-----------+---------------------+-------+\n",
      "| productId |         rmse        | count |\n",
      "+-----------+---------------------+-------+\n",
      "|    173    | 0.02490868513455472 |   41  |\n",
      "+-----------+---------------------+-------+\n",
      "[1 rows x 3 columns]\n",
      "\n",
      "\n",
      "Per Item RMSE (worst)\n",
      "+-----------+--------------------+-------+\n",
      "| productId |        rmse        | count |\n",
      "+-----------+--------------------+-------+\n",
      "|    226    | 0.8389335672659803 |   34  |\n",
      "+-----------+--------------------+-------+\n",
      "[1 rows x 3 columns]\n",
      "\n",
      "PROGRESS: Evaluate model Pearson Similarity on Scaled Purchase Counts\n"
     ]
    },
    {
     "data": {
      "text/html": [
       "<pre>recommendations finished on 1000/13852 queries. users per second: 98367.1</pre>"
      ],
      "text/plain": [
       "recommendations finished on 1000/13852 queries. users per second: 98367.1"
      ]
     },
     "metadata": {},
     "output_type": "display_data"
    },
    {
     "data": {
      "text/html": [
       "<pre>recommendations finished on 2000/13852 queries. users per second: 119055</pre>"
      ],
      "text/plain": [
       "recommendations finished on 2000/13852 queries. users per second: 119055"
      ]
     },
     "metadata": {},
     "output_type": "display_data"
    },
    {
     "data": {
      "text/html": [
       "<pre>recommendations finished on 3000/13852 queries. users per second: 127324</pre>"
      ],
      "text/plain": [
       "recommendations finished on 3000/13852 queries. users per second: 127324"
      ]
     },
     "metadata": {},
     "output_type": "display_data"
    },
    {
     "data": {
      "text/html": [
       "<pre>recommendations finished on 4000/13852 queries. users per second: 132494</pre>"
      ],
      "text/plain": [
       "recommendations finished on 4000/13852 queries. users per second: 132494"
      ]
     },
     "metadata": {},
     "output_type": "display_data"
    },
    {
     "data": {
      "text/html": [
       "<pre>recommendations finished on 5000/13852 queries. users per second: 136106</pre>"
      ],
      "text/plain": [
       "recommendations finished on 5000/13852 queries. users per second: 136106"
      ]
     },
     "metadata": {},
     "output_type": "display_data"
    },
    {
     "data": {
      "text/html": [
       "<pre>recommendations finished on 6000/13852 queries. users per second: 137741</pre>"
      ],
      "text/plain": [
       "recommendations finished on 6000/13852 queries. users per second: 137741"
      ]
     },
     "metadata": {},
     "output_type": "display_data"
    },
    {
     "data": {
      "text/html": [
       "<pre>recommendations finished on 7000/13852 queries. users per second: 139612</pre>"
      ],
      "text/plain": [
       "recommendations finished on 7000/13852 queries. users per second: 139612"
      ]
     },
     "metadata": {},
     "output_type": "display_data"
    },
    {
     "data": {
      "text/html": [
       "<pre>recommendations finished on 8000/13852 queries. users per second: 140939</pre>"
      ],
      "text/plain": [
       "recommendations finished on 8000/13852 queries. users per second: 140939"
      ]
     },
     "metadata": {},
     "output_type": "display_data"
    },
    {
     "data": {
      "text/html": [
       "<pre>recommendations finished on 9000/13852 queries. users per second: 141721</pre>"
      ],
      "text/plain": [
       "recommendations finished on 9000/13852 queries. users per second: 141721"
      ]
     },
     "metadata": {},
     "output_type": "display_data"
    },
    {
     "data": {
      "text/html": [
       "<pre>recommendations finished on 10000/13852 queries. users per second: 142493</pre>"
      ],
      "text/plain": [
       "recommendations finished on 10000/13852 queries. users per second: 142493"
      ]
     },
     "metadata": {},
     "output_type": "display_data"
    },
    {
     "data": {
      "text/html": [
       "<pre>recommendations finished on 11000/13852 queries. users per second: 143308</pre>"
      ],
      "text/plain": [
       "recommendations finished on 11000/13852 queries. users per second: 143308"
      ]
     },
     "metadata": {},
     "output_type": "display_data"
    },
    {
     "data": {
      "text/html": [
       "<pre>recommendations finished on 12000/13852 queries. users per second: 143426</pre>"
      ],
      "text/plain": [
       "recommendations finished on 12000/13852 queries. users per second: 143426"
      ]
     },
     "metadata": {},
     "output_type": "display_data"
    },
    {
     "data": {
      "text/html": [
       "<pre>recommendations finished on 13000/13852 queries. users per second: 143050</pre>"
      ],
      "text/plain": [
       "recommendations finished on 13000/13852 queries. users per second: 143050"
      ]
     },
     "metadata": {},
     "output_type": "display_data"
    },
    {
     "name": "stdout",
     "output_type": "stream",
     "text": [
      "\n",
      "Precision and recall summary statistics by cutoff\n",
      "+--------+-----------------------+-----------------------+\n",
      "| cutoff |     mean_precision    |      mean_recall      |\n",
      "+--------+-----------------------+-----------------------+\n",
      "|   1    | 0.0025267109442679795 | 0.0015360511805068554 |\n",
      "|   2    |  0.002274039849841182 | 0.0027524820208187184 |\n",
      "|   3    | 0.0022379439792087744 |  0.003899072820528211 |\n",
      "|   4    | 0.0024545192030031773 |  0.00560437132412299  |\n",
      "|   5    |  0.002425642506497252 |  0.007066340027284297 |\n",
      "|   6    | 0.0021296563673115806 | 0.0073781682430253005 |\n",
      "|   7    |  0.002062621178994262 |  0.008292555560193125 |\n",
      "|   8    | 0.0019491770141495813 |  0.00887269641430162  |\n",
      "|   9    | 0.0020614752783392693 |  0.010233281557012124 |\n",
      "|   10   | 0.0027144094715564715 |  0.014550691454843617 |\n",
      "+--------+-----------------------+-----------------------+\n",
      "[10 rows x 3 columns]\n",
      "\n",
      "\n",
      "Overall RMSE: 0.13392326087384093\n",
      "\n",
      "Per User RMSE (best)\n",
      "+------------+------------------------+-------+\n",
      "| customerId |          rmse          | count |\n",
      "+------------+------------------------+-------+\n",
      "|   23700    | 4.6631400394056555e-06 |   1   |\n",
      "+------------+------------------------+-------+\n",
      "[1 rows x 3 columns]\n",
      "\n",
      "\n",
      "Per User RMSE (worst)\n",
      "+------------+--------------------+-------+\n",
      "| customerId |        rmse        | count |\n",
      "+------------+--------------------+-------+\n",
      "|    6688    | 0.9681818181818181 |   1   |\n",
      "+------------+--------------------+-------+\n",
      "[1 rows x 3 columns]\n",
      "\n",
      "\n",
      "Per Item RMSE (best)\n",
      "+-----------+---------------------+-------+\n",
      "| productId |         rmse        | count |\n",
      "+-----------+---------------------+-------+\n",
      "|    173    | 0.02341595573232157 |   41  |\n",
      "+-----------+---------------------+-------+\n",
      "[1 rows x 3 columns]\n",
      "\n",
      "\n",
      "Per Item RMSE (worst)\n",
      "+-----------+---------------------+-------+\n",
      "| productId |         rmse        | count |\n",
      "+-----------+---------------------+-------+\n",
      "|    226    | 0.40891131402988434 |   34  |\n",
      "+-----------+---------------------+-------+\n",
      "[1 rows x 3 columns]\n",
      "\n"
     ]
    }
   ],
   "source": [
    "eval_norm = tc.recommender.util.compare_models(test_data_norm, models_w_norm, model_names=names_w_norm)"
   ]
  },
  {
   "cell_type": "code",
   "execution_count": 101,
   "metadata": {},
   "outputs": [
    {
     "data": {
      "text/html": [
       "<pre>Warning: Ignoring columns purchase_count;</pre>"
      ],
      "text/plain": [
       "Warning: Ignoring columns purchase_count;"
      ]
     },
     "metadata": {},
     "output_type": "display_data"
    },
    {
     "data": {
      "text/html": [
       "<pre>    To use these columns in scoring predictions, use a model that allows the use of additional features.</pre>"
      ],
      "text/plain": [
       "    To use these columns in scoring predictions, use a model that allows the use of additional features."
      ]
     },
     "metadata": {},
     "output_type": "display_data"
    },
    {
     "data": {
      "text/html": [
       "<pre>Preparing data set.</pre>"
      ],
      "text/plain": [
       "Preparing data set."
      ]
     },
     "metadata": {},
     "output_type": "display_data"
    },
    {
     "data": {
      "text/html": [
       "<pre>    Data has 133585 observations with 24429 users and 300 items.</pre>"
      ],
      "text/plain": [
       "    Data has 133585 observations with 24429 users and 300 items."
      ]
     },
     "metadata": {},
     "output_type": "display_data"
    },
    {
     "data": {
      "text/html": [
       "<pre>    Data prepared in: 0.095617s</pre>"
      ],
      "text/plain": [
       "    Data prepared in: 0.095617s"
      ]
     },
     "metadata": {},
     "output_type": "display_data"
    },
    {
     "data": {
      "text/html": [
       "<pre>Training model from provided data.</pre>"
      ],
      "text/plain": [
       "Training model from provided data."
      ]
     },
     "metadata": {},
     "output_type": "display_data"
    },
    {
     "data": {
      "text/html": [
       "<pre>Gathering per-item and per-user statistics.</pre>"
      ],
      "text/plain": [
       "Gathering per-item and per-user statistics."
      ]
     },
     "metadata": {},
     "output_type": "display_data"
    },
    {
     "data": {
      "text/html": [
       "<pre>+--------------------------------+------------+</pre>"
      ],
      "text/plain": [
       "+--------------------------------+------------+"
      ]
     },
     "metadata": {},
     "output_type": "display_data"
    },
    {
     "data": {
      "text/html": [
       "<pre>| Elapsed Time (Item Statistics) | % Complete |</pre>"
      ],
      "text/plain": [
       "| Elapsed Time (Item Statistics) | % Complete |"
      ]
     },
     "metadata": {},
     "output_type": "display_data"
    },
    {
     "data": {
      "text/html": [
       "<pre>+--------------------------------+------------+</pre>"
      ],
      "text/plain": [
       "+--------------------------------+------------+"
      ]
     },
     "metadata": {},
     "output_type": "display_data"
    },
    {
     "data": {
      "text/html": [
       "<pre>| 711us                          | 4          |</pre>"
      ],
      "text/plain": [
       "| 711us                          | 4          |"
      ]
     },
     "metadata": {},
     "output_type": "display_data"
    },
    {
     "data": {
      "text/html": [
       "<pre>| 4.301ms                        | 100        |</pre>"
      ],
      "text/plain": [
       "| 4.301ms                        | 100        |"
      ]
     },
     "metadata": {},
     "output_type": "display_data"
    },
    {
     "data": {
      "text/html": [
       "<pre>+--------------------------------+------------+</pre>"
      ],
      "text/plain": [
       "+--------------------------------+------------+"
      ]
     },
     "metadata": {},
     "output_type": "display_data"
    },
    {
     "data": {
      "text/html": [
       "<pre>Setting up lookup tables.</pre>"
      ],
      "text/plain": [
       "Setting up lookup tables."
      ]
     },
     "metadata": {},
     "output_type": "display_data"
    },
    {
     "data": {
      "text/html": [
       "<pre>Processing data in one pass using dense lookup tables.</pre>"
      ],
      "text/plain": [
       "Processing data in one pass using dense lookup tables."
      ]
     },
     "metadata": {},
     "output_type": "display_data"
    },
    {
     "name": "stdout",
     "output_type": "stream",
     "text": [
      "+------------+-----------+----------------------+------+\n",
      "| customerId | productId |        score         | rank |\n",
      "+------------+-----------+----------------------+------+\n",
      "|    1553    |     2     | 0.10592188835144042  |  1   |\n",
      "|    1553    |     1     | 0.10348175764083863  |  2   |\n",
      "|    1553    |     35    | 0.07407552003860474  |  3   |\n",
      "|    1553    |     33    |  0.0668614387512207  |  4   |\n",
      "|    1553    |     61    | 0.06512556076049805  |  5   |\n",
      "|    1553    |     15    | 0.06476415395736694  |  6   |\n",
      "|    1553    |     13    | 0.05799754858016968  |  7   |\n",
      "|    1553    |     20    | 0.05683724880218506  |  8   |\n",
      "|    1553    |     29    | 0.05509240627288818  |  9   |\n",
      "|    1553    |     11    | 0.05467898845672607  |  10  |\n",
      "|   20400    |     26    | 0.05812269449234009  |  1   |\n",
      "|   20400    |     6     | 0.05361741781234741  |  2   |\n",
      "|   20400    |    113    | 0.05312788486480713  |  3   |\n",
      "|   20400    |     1     | 0.05210459232330322  |  4   |\n",
      "|   20400    |     15    | 0.047683894634246826 |  5   |\n",
      "|   20400    |     27    | 0.044673383235931396 |  6   |\n",
      "|   20400    |     13    | 0.04383981227874756  |  7   |\n",
      "|   20400    |    246    | 0.04373115301132202  |  8   |\n",
      "|   20400    |    160    | 0.04251152276992798  |  9   |\n",
      "|   20400    |     4     | 0.04242873191833496  |  10  |\n",
      "|   19750    |     48    |  0.132284144560496   |  1   |\n",
      "|   19750    |     36    | 0.12405195832252502  |  2   |\n",
      "|   19750    |     38    | 0.12345944841702779  |  3   |\n",
      "|   19750    |     79    | 0.10431413849194844  |  4   |\n",
      "|   19750    |     1     |  0.1038620372613271  |  5   |\n",
      "|   19750    |     2     | 0.09022133549054463  |  6   |\n",
      "|   19750    |     5     | 0.07093353072802226  |  7   |\n",
      "|   19750    |     21    | 0.06544352571169536  |  8   |\n",
      "|   19750    |     17    | 0.06506650646527608  |  9   |\n",
      "|   19750    |     44    | 0.06468223532040913  |  10  |\n",
      "+------------+-----------+----------------------+------+\n",
      "[10000 rows x 4 columns]\n",
      "\n"
     ]
    },
    {
     "data": {
      "text/html": [
       "<pre>+-------------------------------------+------------------+-----------------+</pre>"
      ],
      "text/plain": [
       "+-------------------------------------+------------------+-----------------+"
      ]
     },
     "metadata": {},
     "output_type": "display_data"
    },
    {
     "data": {
      "text/html": [
       "<pre>| Elapsed Time (Constructing Lookups) | Total % Complete | Items Processed |</pre>"
      ],
      "text/plain": [
       "| Elapsed Time (Constructing Lookups) | Total % Complete | Items Processed |"
      ]
     },
     "metadata": {},
     "output_type": "display_data"
    },
    {
     "data": {
      "text/html": [
       "<pre>+-------------------------------------+------------------+-----------------+</pre>"
      ],
      "text/plain": [
       "+-------------------------------------+------------------+-----------------+"
      ]
     },
     "metadata": {},
     "output_type": "display_data"
    }
   ],
   "source": [
    "users_to_recommend = list(customers[user_id])\n",
    "\n",
    "final_model = tc.item_similarity_recommender.create(tc.SFrame(data_dummy), \n",
    "                                            user_id=user_id, \n",
    "                                            item_id=item_id, \n",
    "                                            target='purchase_dummy', \n",
    "                                            similarity_type='cosine')\n",
    "\n",
    "recom = final_model.recommend(users=users_to_recommend, k=n_rec)\n",
    "recom.print_rows(n_display)"
   ]
  },
  {
   "cell_type": "code",
   "execution_count": 102,
   "metadata": {},
   "outputs": [
    {
     "name": "stdout",
     "output_type": "stream",
     "text": [
      "(10000, 4)\n"
     ]
    },
    {
     "data": {
      "text/html": [
       "<div>\n",
       "<style scoped>\n",
       "    .dataframe tbody tr th:only-of-type {\n",
       "        vertical-align: middle;\n",
       "    }\n",
       "\n",
       "    .dataframe tbody tr th {\n",
       "        vertical-align: top;\n",
       "    }\n",
       "\n",
       "    .dataframe thead th {\n",
       "        text-align: right;\n",
       "    }\n",
       "</style>\n",
       "<table border=\"1\" class=\"dataframe\">\n",
       "  <thead>\n",
       "    <tr style=\"text-align: right;\">\n",
       "      <th></th>\n",
       "      <th>customerId</th>\n",
       "      <th>productId</th>\n",
       "      <th>score</th>\n",
       "      <th>rank</th>\n",
       "    </tr>\n",
       "  </thead>\n",
       "  <tbody>\n",
       "    <tr>\n",
       "      <th>0</th>\n",
       "      <td>1553</td>\n",
       "      <td>2</td>\n",
       "      <td>0.105922</td>\n",
       "      <td>1</td>\n",
       "    </tr>\n",
       "    <tr>\n",
       "      <th>1</th>\n",
       "      <td>1553</td>\n",
       "      <td>1</td>\n",
       "      <td>0.103482</td>\n",
       "      <td>2</td>\n",
       "    </tr>\n",
       "    <tr>\n",
       "      <th>2</th>\n",
       "      <td>1553</td>\n",
       "      <td>35</td>\n",
       "      <td>0.074076</td>\n",
       "      <td>3</td>\n",
       "    </tr>\n",
       "    <tr>\n",
       "      <th>3</th>\n",
       "      <td>1553</td>\n",
       "      <td>33</td>\n",
       "      <td>0.066861</td>\n",
       "      <td>4</td>\n",
       "    </tr>\n",
       "    <tr>\n",
       "      <th>4</th>\n",
       "      <td>1553</td>\n",
       "      <td>61</td>\n",
       "      <td>0.065126</td>\n",
       "      <td>5</td>\n",
       "    </tr>\n",
       "  </tbody>\n",
       "</table>\n",
       "</div>"
      ],
      "text/plain": [
       "   customerId  productId     score  rank\n",
       "0        1553          2  0.105922     1\n",
       "1        1553          1  0.103482     2\n",
       "2        1553         35  0.074076     3\n",
       "3        1553         33  0.066861     4\n",
       "4        1553         61  0.065126     5"
      ]
     },
     "execution_count": 102,
     "metadata": {},
     "output_type": "execute_result"
    }
   ],
   "source": [
    "df_rec = recom.to_dataframe()\n",
    "print(df_rec.shape)\n",
    "df_rec.head()"
   ]
  },
  {
   "cell_type": "code",
   "execution_count": 103,
   "metadata": {},
   "outputs": [],
   "source": [
    "df_rec['recommendedProducts'] = df_rec.groupby([user_id])[item_id].transform(lambda x: '|'.join(x.astype(str)))\n",
    "df_output = df_rec[['customerId', 'recommendedProducts']].drop_duplicates().sort_values('customerId').set_index('customerId')"
   ]
  },
  {
   "cell_type": "code",
   "execution_count": 104,
   "metadata": {},
   "outputs": [],
   "source": [
    "def create_output(model, users_to_recommend, n_rec, print_csv=True):\n",
    "    recomendation = model.recommend(users=users_to_recommend, k=n_rec)\n",
    "    df_rec = recomendation.to_dataframe()\n",
    "    df_rec['recommendedProducts'] = df_rec.groupby([user_id])[item_id] \\\n",
    "        .transform(lambda x: '|'.join(x.astype(str)))\n",
    "    df_output = df_rec[['customerId', 'recommendedProducts']].drop_duplicates() \\\n",
    "        .sort_values('customerId').set_index('customerId')\n",
    "    if print_csv:\n",
    "        df_output.to_csv('./assets/outputfin.csv')\n",
    "        print(\"An output file can be found in 'output' folder with name 'option1_recommendation.csv'\")\n",
    "    return df_output"
   ]
  },
  {
   "cell_type": "code",
   "execution_count": 105,
   "metadata": {},
   "outputs": [
    {
     "data": {
      "text/html": [
       "<pre>recommendations finished on 1000/1000 queries. users per second: 169664</pre>"
      ],
      "text/plain": [
       "recommendations finished on 1000/1000 queries. users per second: 169664"
      ]
     },
     "metadata": {},
     "output_type": "display_data"
    },
    {
     "name": "stdout",
     "output_type": "stream",
     "text": [
      "An output file can be found in 'output' folder with name 'option1_recommendation.csv'\n",
      "(1000, 1)\n"
     ]
    },
    {
     "data": {
      "text/html": [
       "<div>\n",
       "<style scoped>\n",
       "    .dataframe tbody tr th:only-of-type {\n",
       "        vertical-align: middle;\n",
       "    }\n",
       "\n",
       "    .dataframe tbody tr th {\n",
       "        vertical-align: top;\n",
       "    }\n",
       "\n",
       "    .dataframe thead th {\n",
       "        text-align: right;\n",
       "    }\n",
       "</style>\n",
       "<table border=\"1\" class=\"dataframe\">\n",
       "  <thead>\n",
       "    <tr style=\"text-align: right;\">\n",
       "      <th></th>\n",
       "      <th>recommendedProducts</th>\n",
       "    </tr>\n",
       "    <tr>\n",
       "      <th>customerId</th>\n",
       "      <th></th>\n",
       "    </tr>\n",
       "  </thead>\n",
       "  <tbody>\n",
       "    <tr>\n",
       "      <th>4</th>\n",
       "      <td>226|230|247|294|125|248|155|204|276|72</td>\n",
       "    </tr>\n",
       "    <tr>\n",
       "      <th>11</th>\n",
       "      <td>226|230|247|294|125|248|155|204|276|72</td>\n",
       "    </tr>\n",
       "    <tr>\n",
       "      <th>12</th>\n",
       "      <td>226|230|247|294|125|248|155|204|276|72</td>\n",
       "    </tr>\n",
       "    <tr>\n",
       "      <th>16</th>\n",
       "      <td>226|230|247|294|125|248|155|204|276|72</td>\n",
       "    </tr>\n",
       "    <tr>\n",
       "      <th>21</th>\n",
       "      <td>226|230|247|294|125|248|155|204|276|72</td>\n",
       "    </tr>\n",
       "  </tbody>\n",
       "</table>\n",
       "</div>"
      ],
      "text/plain": [
       "                               recommendedProducts\n",
       "customerId                                        \n",
       "4           226|230|247|294|125|248|155|204|276|72\n",
       "11          226|230|247|294|125|248|155|204|276|72\n",
       "12          226|230|247|294|125|248|155|204|276|72\n",
       "16          226|230|247|294|125|248|155|204|276|72\n",
       "21          226|230|247|294|125|248|155|204|276|72"
      ]
     },
     "execution_count": 105,
     "metadata": {},
     "output_type": "execute_result"
    }
   ],
   "source": [
    "df_output = create_output(pear_norm, users_to_recommend, n_rec, print_csv=True)\n",
    "print(df_output.shape)\n",
    "df_output.head()"
   ]
  },
  {
   "cell_type": "code",
   "execution_count": 106,
   "metadata": {},
   "outputs": [],
   "source": [
    "def customer_recomendation(customer_id):\n",
    "    if customer_id not in df_output.index:\n",
    "        print('Customer not found.')\n",
    "        return customer_id\n",
    "    return df_output.loc[customer_id]"
   ]
  },
  {
   "cell_type": "code",
   "execution_count": 107,
   "metadata": {},
   "outputs": [
    {
     "data": {
      "text/plain": [
       "recommendedProducts    226|230|247|294|125|248|155|204|276|72\n",
       "Name: 4, dtype: object"
      ]
     },
     "execution_count": 107,
     "metadata": {},
     "output_type": "execute_result"
    }
   ],
   "source": [
    "customer_recomendation(4)"
   ]
  },
  {
   "cell_type": "code",
   "execution_count": 108,
   "metadata": {},
   "outputs": [
    {
     "data": {
      "text/plain": [
       "recommendedProducts    226|230|247|294|125|248|155|204|276|72\n",
       "Name: 21, dtype: object"
      ]
     },
     "execution_count": 108,
     "metadata": {},
     "output_type": "execute_result"
    }
   ],
   "source": [
    "customer_recomendation(21)"
   ]
  },
  {
   "cell_type": "code",
   "execution_count": 109,
   "metadata": {},
   "outputs": [
    {
     "name": "stdout",
     "output_type": "stream",
     "text": [
      "Customer not found.\n"
     ]
    },
    {
     "data": {
      "text/plain": [
       "334"
      ]
     },
     "execution_count": 109,
     "metadata": {},
     "output_type": "execute_result"
    }
   ],
   "source": [
    "customer_recomendation(334)"
   ]
  }
 ],
 "metadata": {
  "kernelspec": {
   "display_name": "Python 3.7.8 64-bit",
   "language": "python",
   "name": "python3"
  },
  "language_info": {
   "codemirror_mode": {
    "name": "ipython",
    "version": 3
   },
   "file_extension": ".py",
   "mimetype": "text/x-python",
   "name": "python",
   "nbconvert_exporter": "python",
   "pygments_lexer": "ipython3",
   "version": "3.7.8"
  },
  "orig_nbformat": 4,
  "vscode": {
   "interpreter": {
    "hash": "aee8b7b246df8f9039afb4144a1f6fd8d2ca17a180786b69acc140d282b71a49"
   }
  }
 },
 "nbformat": 4,
 "nbformat_minor": 2
}
